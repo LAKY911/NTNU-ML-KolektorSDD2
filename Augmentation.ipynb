{
 "cells": [
  {
   "cell_type": "code",
   "execution_count": null,
   "metadata": {},
   "outputs": [],
   "source": [
    "import tensorflow as tf\n",
    "import os\n",
    "import random\n",
    "import numpy as np\n",
    "import cv2\n",
    "from tqdm import tqdm \n",
    "\n",
    "from skimage.io import imread, imshow\n",
    "from skimage.transform import resize\n",
    "import matplotlib.pyplot as plt\n",
    "from sklearn.model_selection import train_test_split\n",
    "\n",
    "from skimage.util import random_noise\n",
    "\n",
    "from keras import layers, metrics\n",
    "\n",
    "from skimage.measure import label, regionprops, regionprops_table"
   ]
  },
  {
   "cell_type": "code",
   "execution_count": null,
   "metadata": {},
   "outputs": [],
   "source": [
    "IMAGE_CHANNELS = 3\n",
    "\n",
    "IMAGE_HEIGHT =  192 \n",
    "IMAGE_WIDTH = 64"
   ]
  },
  {
   "cell_type": "code",
   "execution_count": null,
   "metadata": {},
   "outputs": [
    {
     "name": "stdout",
     "output_type": "stream",
     "text": [
      "Resizing training images and masks\n"
     ]
    },
    {
     "name": "stderr",
     "output_type": "stream",
     "text": [
      "  0%|          | 0/2332 [00:00<?, ?it/s]"
     ]
    },
    {
     "name": "stderr",
     "output_type": "stream",
     "text": [
      "100%|██████████| 2332/2332 [01:18<00:00, 29.73it/s]\n"
     ]
    },
    {
     "name": "stdout",
     "output_type": "stream",
     "text": [
      "Resizing test images\n"
     ]
    },
    {
     "name": "stderr",
     "output_type": "stream",
     "text": [
      "100%|██████████| 1004/1004 [00:32<00:00, 30.45it/s]"
     ]
    },
    {
     "name": "stdout",
     "output_type": "stream",
     "text": [
      "Done!\n"
     ]
    },
    {
     "name": "stderr",
     "output_type": "stream",
     "text": [
      "\n"
     ]
    }
   ],
   "source": [
    "seed = 4\n",
    "np.random.seed = seed\n",
    "random.seed(seed)\n",
    "\n",
    "DATA_TRAIN = \"./datasets/KolektorSDD2/train/\"\n",
    "DATA_TEST = \"./datasets/KolektorSDD2/test/\"\n",
    "\n",
    "train_ids = next(os.walk(os.path.join(DATA_TRAIN, \"images/\")))[2]\n",
    "test_ids = next(os.walk(os.path.join(DATA_TEST, \"images/\")))[2]\n",
    "\n",
    "damaged = []\n",
    "damaged_mask = []\n",
    "X_train = np.zeros((len(train_ids), IMAGE_HEIGHT, IMAGE_WIDTH, IMAGE_CHANNELS), dtype=np.float16)\n",
    "y_train = np.zeros((len(train_ids), IMAGE_HEIGHT, IMAGE_WIDTH), dtype=np.float16)\n",
    "\n",
    "print('Resizing training images and masks')\n",
    "\n",
    "for n, id_ in tqdm(enumerate(train_ids), total=len(train_ids)):   \n",
    "    path = DATA_TRAIN \n",
    "\n",
    "    img = imread(path + 'images/' + id_)[:,:,:IMAGE_CHANNELS]  \n",
    "    img = resize(img, (IMAGE_HEIGHT, IMAGE_WIDTH), mode='constant', preserve_range=True)\n",
    "    img /= 255.0\n",
    "    X_train[n] = img  # Fill empty X_train with values from img\n",
    "\n",
    "    mask = np.zeros((IMAGE_HEIGHT, IMAGE_WIDTH, 1), dtype=bool)\n",
    "    mask_file = os.path.join(path + 'masks/' + id_[:5] + \"_GT.png\")\n",
    "    mask = imread(mask_file)[:,:]\n",
    "    \n",
    "    mask = resize(mask, (IMAGE_HEIGHT, IMAGE_WIDTH), mode='constant', preserve_range=True)\n",
    "    mask /= 255.0     \n",
    "    mask = mask.astype(np.bool_) \n",
    "    mask = mask.astype(np.float16)  \n",
    "    y_train[n] = mask \n",
    "\n",
    "    if np.count_nonzero(mask) != 0:\n",
    "        damaged.append(img)\n",
    "        damaged_mask.append(mask)\n",
    "\n",
    "# test images\n",
    "test_images = np.zeros((len(test_ids), IMAGE_HEIGHT, IMAGE_WIDTH, IMAGE_CHANNELS), dtype=np.float16)\n",
    "test_masks = np.zeros((len(test_ids), IMAGE_HEIGHT, IMAGE_WIDTH), dtype=np.float16)\n",
    "\n",
    "sizes_test = []\n",
    "print('Resizing test images') \n",
    "for n, id_ in tqdm(enumerate(test_ids), total=len(test_ids)):\n",
    "    path = DATA_TEST\n",
    "    img = imread(path + '/images/' + id_ )[:,:,:IMAGE_CHANNELS]\n",
    "    sizes_test.append([img.shape[0], img.shape[1]])\n",
    "    img = resize(img, (IMAGE_HEIGHT, IMAGE_WIDTH), mode='constant', preserve_range=True)\n",
    "    img /= 255.0\n",
    "    test_images[n] = img\n",
    "\n",
    "    mask = np.zeros((IMAGE_HEIGHT, IMAGE_WIDTH, 1), dtype=bool)\n",
    "    mask_file = os.path.join(path + 'masks/' + id_[:5] + \"_GT.png\")\n",
    "    mask = imread(mask_file)[:,:]\n",
    "\n",
    "    mask = resize(mask, (IMAGE_HEIGHT, IMAGE_WIDTH), mode='constant', preserve_range=True)\n",
    "    mask /= 255.0     \n",
    "    mask = mask.astype(np.bool_) \n",
    "    mask = mask.astype(np.float16)  \n",
    "    test_masks[n] = mask \n",
    "\n",
    "print('Done!')"
   ]
  },
  {
   "cell_type": "code",
   "execution_count": null,
   "metadata": {},
   "outputs": [
    {
     "name": "stdout",
     "output_type": "stream",
     "text": [
      "1254765\n",
      "{0.0: 54459027, 1.0: 1254765}\n",
      "Percentage of faulty images in train data: 2.252162265314843  %\n"
     ]
    }
   ],
   "source": [
    "unique, counts = np.unique(y_train, return_counts=True)\n",
    "\n",
    "print(\"Percentage of faulty images in train data:\", counts[1]/(counts[0]+counts[1])*100, \" %\")\n",
    "neg = counts[0]\n",
    "pos = counts[1]"
   ]
  },
  {
   "cell_type": "markdown",
   "metadata": {},
   "source": [
    "Bounding Box"
   ]
  },
  {
   "cell_type": "code",
   "execution_count": null,
   "metadata": {},
   "outputs": [],
   "source": [
    "Boxes = []\n",
    "check = []\n",
    "for img in damaged_mask:\n",
    "    labels = label(img)\n",
    "    regions = regionprops(labels)\n",
    "    if len(regions) == 1:\n",
    "        check.append(1)\n",
    "        for props in regions:\n",
    "            min_x, min_y, max_x, max_y = props.bbox\n",
    "            Boxes.append((min_x, min_y, max_x, max_y))\n",
    "    else:\n",
    "        check.append(0)"
   ]
  },
  {
   "cell_type": "code",
   "execution_count": null,
   "metadata": {},
   "outputs": [],
   "source": [
    "# Throw out images, which have more than one damage\n",
    "onedamage = [damaged[i] for i in range(len(damaged)) if check[i] == 1]\n",
    "onedamage_mask = [damaged_mask[i] for i in range(len(damaged_mask)) if check[i] == 1]"
   ]
  },
  {
   "cell_type": "code",
   "execution_count": null,
   "metadata": {},
   "outputs": [],
   "source": [
    "def crop_image(image, bbox):\n",
    "    # Crop the image using NumPy array slicing\n",
    "    cropped_image = image[bbox[0]:bbox[2], bbox[1]:bbox[3]]\n",
    "    return cropped_image\n",
    "\n",
    "def overlay_image(background, background_mask, overlay, overlay_mask):\n",
    "    # Generate random position for overlay image\n",
    "    if overlay.shape[1] < background.shape[1]:\n",
    "        x_offset = np.random.randint(0, background.shape[1] - overlay.shape[1])\n",
    "        y_offset = np.random.randint(0, background.shape[0] - overlay.shape[0])\n",
    "    \n",
    "         # Overlay the image\n",
    "        background[y_offset:y_offset + overlay.shape[0], x_offset:x_offset + overlay.shape[1]] = overlay\n",
    "        background_mask[y_offset:y_offset + overlay_mask.shape[0], x_offset:x_offset + overlay_mask.shape[1]] = overlay_mask\n",
    "        return background, background_mask\n",
    "    else:\n",
    "        return background, background_mask\n",
    "\n",
    "generated_img = np.empty((226,192,64,3))\n",
    "generated_mask = np.empty((226, 192,64))\n",
    "overlayed_indices = []\n",
    "for i, image in enumerate(onedamage):\n",
    "    # Get the bounding box for the current image\n",
    "    bbox = Boxes[i]\n",
    "    mask = onedamage_mask[i]\n",
    "    # Crop the image\n",
    "    cropped_image = crop_image(image, bbox)\n",
    "    cropped_mask = crop_image(mask, bbox)\n",
    "    # Pick a random overlay image from the list\n",
    "    overlay_image_index = np.random.choice([idx for idx in range(len(X_train)) if idx not in overlayed_indices])\n",
    "    overlay = X_train[overlay_image_index]\n",
    "    overlay_mask = y_train[overlay_image_index]\n",
    "\n",
    "    # Overlay the cropped image onto the random overlay image\n",
    "    new_image, new_mask = overlay_image(overlay, overlay_mask, cropped_image, cropped_mask)\n",
    "    generated_img[i] = new_image\n",
    "    generated_mask[i] = new_mask\n",
    "    overlayed_indices.append(overlay_image_index)\n"
   ]
  },
  {
   "cell_type": "code",
   "execution_count": null,
   "metadata": {},
   "outputs": [
    {
     "data": {
      "image/png": "[encoded data removed]",
      "text/plain": [
       "<Figure size 640x480 with 1 Axes>"
      ]
     },
     "metadata": {},
     "output_type": "display_data"
    }
   ],
   "source": [
    "imshow(generated_img[14])\n",
    "plt.show()"
   ]
  },
  {
   "cell_type": "markdown",
   "metadata": {},
   "source": [
    "Augmentation"
   ]
  },
  {
   "cell_type": "code",
   "execution_count": null,
   "metadata": {},
   "outputs": [],
   "source": [
    "vertical_train = np.flip(damaged, axis=0)\n",
    "vertical_test = np.flip(damaged_mask, axis=0)\n",
    "\n",
    "horizontal_train = np.flip(damaged, axis=1)\n",
    "horizontal_test = np.flip(damaged_mask, axis=1)\n",
    "\n",
    "rotating_train = np.rot90(damaged, k=2)\n",
    "rotating_test = np.rot90(damaged_mask, k=2)\n",
    "\n",
    "vert_rot_train = np.rot90(vertical_train, k=2)\n",
    "vert_rot_test = np.rot90(vertical_test, k=2)\n",
    "\n",
    "hor_rot_train = np.rot90(horizontal_train, k=2)\n",
    "hor_rot_test = np.rot90(horizontal_test, k=2)"
   ]
  },
  {
   "cell_type": "markdown",
   "metadata": {},
   "source": [
    "Add Noise"
   ]
  },
  {
   "cell_type": "code",
   "execution_count": null,
   "metadata": {},
   "outputs": [],
   "source": [
    "noised = np.empty_like(damaged)\n",
    "noised_mask = damaged_mask\n",
    "for img in damaged:\n",
    "    i = 0\n",
    "    noise = random_noise(img, mode='gaussian', rng=seed, clip=True)\n",
    "    noised[i] = noise\n",
    "    i = i+1\n",
    "\n",
    "noised_vert = np.empty_like(damaged)\n",
    "noised_mask_vert = vertical_test\n",
    "for img in vertical_train:\n",
    "    i = 0\n",
    "    noise = random_noise(img, mode='gaussian', rng=seed, clip=True)\n",
    "    noised_vert[i] = noise\n",
    "    i = i+1\n",
    "\n",
    "noised_horr = np.empty_like(damaged)\n",
    "noised_mask_horr = horizontal_test\n",
    "for img in horizontal_train:\n",
    "    i = 0\n",
    "    noise = random_noise(img, mode='gaussian', rng=seed, clip=True)\n",
    "    noised_horr[i] = noise\n",
    "    i = i+1"
   ]
  },
  {
   "cell_type": "code",
   "execution_count": null,
   "metadata": {},
   "outputs": [
    {
     "name": "stdout",
     "output_type": "stream",
     "text": [
      "(247, 192, 64, 3)\n",
      "(247, 192, 64, 3)\n"
     ]
    }
   ],
   "source": [
    "print(np.shape(damaged))\n",
    "print(np.shape(noised))"
   ]
  },
  {
   "cell_type": "code",
   "execution_count": null,
   "metadata": {},
   "outputs": [],
   "source": [
    "X_train = np.concatenate((vertical_train, horizontal_train, rotating_train, vert_rot_train, hor_rot_train, X_train, noised, noised_vert, noised_horr, generated_img))\n",
    "y_train = np.concatenate((vertical_test, horizontal_test, rotating_test, vert_rot_test, hor_rot_test, y_train, noised_mask, noised_mask_vert, noised_mask_horr, generated_mask))"
   ]
  },
  {
   "cell_type": "code",
   "execution_count": null,
   "metadata": {},
   "outputs": [
    {
     "name": "stdout",
     "output_type": "stream",
     "text": [
      "(4534, 192, 64, 3)\n"
     ]
    }
   ],
   "source": [
    "print(X_train.shape)"
   ]
  }
 ],
 "metadata": {
  "kernelspec": {
   "display_name": "Python 3",
   "language": "python",
   "name": "python3"
  },
  "language_info": {
   "codemirror_mode": {
    "name": "ipython",
    "version": 3
   },
   "file_extension": ".py",
   "mimetype": "text/x-python",
   "name": "python",
   "nbconvert_exporter": "python",
   "pygments_lexer": "ipython3",
   "version": "3.10.11"
  }
 },
 "nbformat": 4,
 "nbformat_minor": 2
}
