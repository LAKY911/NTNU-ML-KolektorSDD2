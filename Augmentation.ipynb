{
 "cells": [
  {
   "cell_type": "code",
   "execution_count": 1,
   "metadata": {},
   "outputs": [
    {
     "name": "stdout",
     "output_type": "stream",
     "text": [
      "WARNING:tensorflow:From c:\\Users\\patri\\AppData\\Local\\Programs\\Python\\Python310\\lib\\site-packages\\keras\\src\\losses.py:2976: The name tf.losses.sparse_softmax_cross_entropy is deprecated. Please use tf.compat.v1.losses.sparse_softmax_cross_entropy instead.\n",
      "\n"
     ]
    }
   ],
   "source": [
    "import tensorflow as tf\n",
    "import os\n",
    "import random\n",
    "import numpy as np\n",
    " \n",
    "from tqdm import tqdm \n",
    "\n",
    "from skimage.io import imread, imshow\n",
    "from skimage.transform import resize\n",
    "import matplotlib.pyplot as plt\n",
    "from sklearn.model_selection import train_test_split\n",
    "\n",
    "from keras import layers, metrics"
   ]
  },
  {
   "cell_type": "code",
   "execution_count": 2,
   "metadata": {},
   "outputs": [],
   "source": [
    "IMAGE_CHANNELS = 3\n",
    "\n",
    "IMAGE_HEIGHT =  192 #194 # 636 # 388 # 256\n",
    "IMAGE_WIDTH = 64 # 70 # 229 # 140 # 128"
   ]
  },
  {
   "cell_type": "code",
   "execution_count": 3,
   "metadata": {},
   "outputs": [
    {
     "name": "stdout",
     "output_type": "stream",
     "text": [
      "Resizing training images and masks\n"
     ]
    },
    {
     "name": "stderr",
     "output_type": "stream",
     "text": [
      "  0%|          | 0/2332 [00:00<?, ?it/s]"
     ]
    },
    {
     "name": "stderr",
     "output_type": "stream",
     "text": [
      "100%|██████████| 2332/2332 [00:45<00:00, 50.78it/s]\n"
     ]
    },
    {
     "name": "stdout",
     "output_type": "stream",
     "text": [
      "Resizing test images\n"
     ]
    },
    {
     "name": "stderr",
     "output_type": "stream",
     "text": [
      "100%|██████████| 1004/1004 [00:17<00:00, 58.86it/s]"
     ]
    },
    {
     "name": "stdout",
     "output_type": "stream",
     "text": [
      "Done!\n"
     ]
    },
    {
     "name": "stderr",
     "output_type": "stream",
     "text": [
      "\n"
     ]
    }
   ],
   "source": [
    "seed = 4\n",
    "np.random.seed = seed\n",
    "random.seed(seed)\n",
    "\n",
    "DATA_TRAIN = \"./datasets/KolektorSDD2/train/\"\n",
    "DATA_TEST = \"./datasets/KolektorSDD2/test/\"\n",
    "\n",
    "\n",
    "\n",
    "train_ids = next(os.walk(os.path.join(DATA_TRAIN, \"images/\")))[2]\n",
    "test_ids = next(os.walk(os.path.join(DATA_TEST, \"images/\")))[2]\n",
    "\n",
    "damaged = []\n",
    "damaged_mask = []\n",
    "X_train = np.zeros((len(train_ids), IMAGE_HEIGHT, IMAGE_WIDTH, IMAGE_CHANNELS), dtype=np.float16)\n",
    "y_train = np.zeros((len(train_ids), IMAGE_HEIGHT, IMAGE_WIDTH), dtype=np.float16)\n",
    "\n",
    "# __author__ = \"Sreenivas Bhattiprolu\"\n",
    "# __license__ = \"Feel free to copy, I appreciate if you acknowledge Python for Microscopists\"\n",
    "\n",
    "# # Credits https://github.com/bnsreenu/python_for_microscopists \n",
    "\n",
    "# \"\"\"\n",
    "# @author: Sreenivas Bhattiprolu\n",
    "# \"\"\"\n",
    "\n",
    "print('Resizing training images and masks')\n",
    "\n",
    "for n, id_ in tqdm(enumerate(train_ids), total=len(train_ids)):   \n",
    "    path = DATA_TRAIN # + id_\n",
    "\n",
    "    img = imread(path + 'images/' + id_)[:,:,:IMAGE_CHANNELS]  \n",
    "    img = resize(img, (IMAGE_HEIGHT, IMAGE_WIDTH), mode='constant', preserve_range=True)\n",
    "    img /= 255.0\n",
    "    X_train[n] = img  #Fill empty X_train with values from img\n",
    "\n",
    "    mask = np.zeros((IMAGE_HEIGHT, IMAGE_WIDTH, 1), dtype=bool)\n",
    "    mask_file = os.path.join(path + 'masks/' + id_[:5] + \"_GT.png\")\n",
    "    mask = imread(mask_file)[:,:]\n",
    "    \n",
    "    mask = resize(mask, (IMAGE_HEIGHT, IMAGE_WIDTH), mode='constant', preserve_range=True)\n",
    "    mask /= 255.0     \n",
    "    mask = mask.astype(np.bool_) \n",
    "    mask = mask.astype(np.float16)  \n",
    "    y_train[n] = mask \n",
    "\n",
    "    if np.count_nonzero(mask) != 0:\n",
    "        damaged.append(img)\n",
    "        damaged_mask.append(mask)\n",
    "\n",
    "\n",
    "    \n",
    "# test images\n",
    "test_images = np.zeros((len(test_ids), IMAGE_HEIGHT, IMAGE_WIDTH, IMAGE_CHANNELS), dtype=np.float16)\n",
    "test_masks = np.zeros((len(test_ids), IMAGE_HEIGHT, IMAGE_WIDTH), dtype=np.float16)\n",
    "\n",
    "sizes_test = []\n",
    "print('Resizing test images') \n",
    "for n, id_ in tqdm(enumerate(test_ids), total=len(test_ids)):\n",
    "    path = DATA_TEST\n",
    "    img = imread(path + '/images/' + id_ )[:,:,:IMAGE_CHANNELS]\n",
    "    sizes_test.append([img.shape[0], img.shape[1]])\n",
    "    img = resize(img, (IMAGE_HEIGHT, IMAGE_WIDTH), mode='constant', preserve_range=True)\n",
    "    img /= 255.0\n",
    "    test_images[n] = img\n",
    "\n",
    "    mask = np.zeros((IMAGE_HEIGHT, IMAGE_WIDTH, 1), dtype=bool)\n",
    "    mask_file = os.path.join(path + 'masks/' + id_[:5] + \"_GT.png\")\n",
    "    mask = imread(mask_file)[:,:]\n",
    "\n",
    "    mask = resize(mask, (IMAGE_HEIGHT, IMAGE_WIDTH), mode='constant', preserve_range=True)\n",
    "    mask /= 255.0     \n",
    "    mask = mask.astype(np.bool_) \n",
    "    mask = mask.astype(np.float16)  \n",
    "    test_masks[n] = mask \n",
    "\n",
    "\n",
    "\n",
    "print('Done!')"
   ]
  },
  {
   "cell_type": "code",
   "execution_count": 8,
   "metadata": {},
   "outputs": [
    {
     "name": "stdout",
     "output_type": "stream",
     "text": [
      "705486\n",
      "{0.0: 43125810, 1.0: 705486}\n",
      "Percentage of faulty images in train data: 1.609548574607513  %\n"
     ]
    }
   ],
   "source": [
    "non_zero = np.count_nonzero(y_train)\n",
    "print(non_zero)\n",
    "# print(non_zero/(IMAGE_HEIGHT*IMAGE_WIDTH*len(y_train))*100)\n",
    "\n",
    "unique, counts = np.unique(y_train, return_counts=True)\n",
    "\n",
    "print(dict(zip(unique, counts)))\n",
    "print(\"Percentage of faulty images in train data:\", counts[1]/(counts[0]+counts[1])*100, \" %\")\n",
    "neg = counts[0]\n",
    "pos = counts[1]"
   ]
  },
  {
   "cell_type": "markdown",
   "metadata": {},
   "source": [
    "Augmentation"
   ]
  },
  {
   "cell_type": "code",
   "execution_count": 5,
   "metadata": {},
   "outputs": [],
   "source": [
    "vertical_train = np.flip(damaged, axis=0)\n",
    "vertical_test = np.flip(damaged_mask, axis=0)\n",
    "\n",
    "horizontal_train = np.flip(damaged, axis=1)\n",
    "horizontal_test = np.flip(damaged_mask, axis=1)\n",
    "\n",
    "rotating_train = np.rot90(damaged, k=2)\n",
    "rotating_test = np.rot90(damaged_mask, k=2)\n",
    "\n",
    "vert_rot_train = np.rot90(vertical_train, k=2)\n",
    "vert_rot_test = np.rot90(vertical_test, k=2)\n",
    "\n",
    "hor_rot_train = np.rot90(horizontal_train, k=2)\n",
    "hor_rot_test = np.rot90(horizontal_test, k=2)"
   ]
  },
  {
   "cell_type": "code",
   "execution_count": 6,
   "metadata": {},
   "outputs": [],
   "source": [
    "X_train = np.concatenate((vertical_train, horizontal_train, rotating_train, vert_rot_train, hor_rot_train, X_train))\n",
    "y_train = np.concatenate((vertical_test, horizontal_test, rotating_test, vert_rot_test, hor_rot_test, y_train))"
   ]
  },
  {
   "cell_type": "code",
   "execution_count": 7,
   "metadata": {},
   "outputs": [
    {
     "name": "stdout",
     "output_type": "stream",
     "text": [
      "(3567, 192, 64, 3)\n"
     ]
    }
   ],
   "source": [
    "print(X_train.shape)"
   ]
  }
 ],
 "metadata": {
  "kernelspec": {
   "display_name": "Python 3",
   "language": "python",
   "name": "python3"
  },
  "language_info": {
   "codemirror_mode": {
    "name": "ipython",
    "version": 3
   },
   "file_extension": ".py",
   "mimetype": "text/x-python",
   "name": "python",
   "nbconvert_exporter": "python",
   "pygments_lexer": "ipython3",
   "version": "3.10.10"
  }
 },
 "nbformat": 4,
 "nbformat_minor": 2
}
