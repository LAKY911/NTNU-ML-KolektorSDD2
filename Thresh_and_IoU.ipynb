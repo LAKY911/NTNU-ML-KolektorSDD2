{
 "cells": [
  {
   "cell_type": "markdown",
   "metadata": {},
   "source": [
    "Load libraries"
   ]
  },
  {
   "cell_type": "code",
   "execution_count": 1,
   "metadata": {},
   "outputs": [],
   "source": [
    "import tensorflow as tf\n",
    "import os\n",
    "import random\n",
    "import numpy as np\n",
    "from tqdm import tqdm\n",
    "import matplotlib.pyplot as plt\n",
    "\n",
    "from skimage.io import imread\n",
    "from skimage.transform import resize\n",
    "\n",
    "from sklearn.metrics import jaccard_score"
   ]
  },
  {
   "cell_type": "markdown",
   "metadata": {},
   "source": [
    "Define Constants and stuff"
   ]
  },
  {
   "cell_type": "code",
   "execution_count": 2,
   "metadata": {},
   "outputs": [],
   "source": [
    "seed = 4\n",
    "np.random.seed = seed\n",
    "random.seed(seed)\n",
    "DATA_TEST = \"./datasets/KolektorSDD2/test/\"\n",
    "test_ids = next(os.walk(os.path.join(DATA_TEST, \"images/\")))[2]\n",
    "\n",
    "IMAGE_HEIGHT =  192\n",
    "IMAGE_WIDTH = 64\n",
    "IMAGE_CHANNELS = 3"
   ]
  },
  {
   "cell_type": "markdown",
   "metadata": {},
   "source": [
    "Load Test images"
   ]
  },
  {
   "cell_type": "code",
   "execution_count": 3,
   "metadata": {},
   "outputs": [
    {
     "name": "stdout",
     "output_type": "stream",
     "text": [
      "Resizing test images\n"
     ]
    },
    {
     "name": "stderr",
     "output_type": "stream",
     "text": [
      "100%|██████████| 1004/1004 [00:30<00:00, 33.29it/s]\n"
     ]
    }
   ],
   "source": [
    "\n",
    "# test images\n",
    "test_images = np.zeros((len(test_ids), IMAGE_HEIGHT, IMAGE_WIDTH, IMAGE_CHANNELS), dtype=np.float16)\n",
    "test_masks = np.zeros((len(test_ids), IMAGE_HEIGHT, IMAGE_WIDTH), dtype=np.float16)\n",
    "sizes_test = []\n",
    "print('Resizing test images') \n",
    "for n, id_ in tqdm(enumerate(test_ids), total=len(test_ids)):\n",
    "    path = DATA_TEST\n",
    "    img = imread(path + '/images/' + id_ )[:,:,:IMAGE_CHANNELS]\n",
    "    sizes_test.append([img.shape[0], img.shape[1]])\n",
    "    img = resize(img, (IMAGE_HEIGHT, IMAGE_WIDTH), mode='constant', preserve_range=True)\n",
    "    img /= 255.0\n",
    "    test_images[n] = img\n",
    "    \n",
    "    mask = np.zeros((IMAGE_HEIGHT, IMAGE_WIDTH, 1), dtype=bool)\n",
    "    mask_file = os.path.join(path + 'masks/' + id_[:5] + \"_GT.png\")\n",
    "    mask = imread(mask_file)[:,:]\n",
    "\n",
    "    mask = resize(mask, (IMAGE_HEIGHT, IMAGE_WIDTH), mode='constant', preserve_range=True)\n",
    "    mask /= 255.0     \n",
    "    mask = np.where(mask > 0.5, 1.0, 0.0) \n",
    "     \n",
    "    test_masks[n] = mask \n"
   ]
  },
  {
   "cell_type": "code",
   "execution_count": 4,
   "metadata": {},
   "outputs": [
    {
     "name": "stdout",
     "output_type": "stream",
     "text": [
      "Resizing test images\n"
     ]
    },
    {
     "name": "stderr",
     "output_type": "stream",
     "text": [
      "100%|██████████| 1004/1004 [00:39<00:00, 25.49it/s]\n"
     ]
    }
   ],
   "source": [
    "# # test images\n",
    "# test_images_big = np.zeros((len(test_ids), IMAGE_HEIGHT*2, IMAGE_WIDTH*2, IMAGE_CHANNELS), dtype=np.float16)\n",
    "# test_masks_big = np.zeros((len(test_ids), IMAGE_HEIGHT*2, IMAGE_WIDTH*2), dtype=np.float16)\n",
    "# sizes_test_big = []\n",
    "\n",
    "# print('Resizing test images') \n",
    "# for n, id_ in tqdm(enumerate(test_ids), total=len(test_ids)):\n",
    "#     path = DATA_TEST\n",
    "#     img = imread(path + '/images/' + id_ )[:,:,:IMAGE_CHANNELS]\n",
    "#     sizes_test_big.append([img.shape[0], img.shape[1]])\n",
    "#     img = resize(img, (IMAGE_HEIGHT*2, IMAGE_WIDTH*2), mode='constant', preserve_range=True)\n",
    "#     img /= 255.0\n",
    "#     test_images_big[n] = img\n",
    "    \n",
    "#     mask = np.zeros((IMAGE_HEIGHT*2, IMAGE_WIDTH*2, 1), dtype=bool)\n",
    "#     mask_file = os.path.join(path + 'masks/' + id_[:5] + \"_GT.png\")\n",
    "#     mask = imread(mask_file)[:,:]\n",
    "\n",
    "#     mask = resize(mask, (IMAGE_HEIGHT*2, IMAGE_WIDTH*2), mode='constant', preserve_range=True)\n",
    "#     mask /= 255.0     \n",
    "#     mask = np.where(mask > 0.5, 1.0, 0.0) \n",
    "     \n",
    "#     test_masks_big[n] = mask "
   ]
  },
  {
   "cell_type": "markdown",
   "metadata": {},
   "source": [
    "Load model"
   ]
  },
  {
   "cell_type": "code",
   "execution_count": 5,
   "metadata": {},
   "outputs": [],
   "source": [
    "model1 = tf.keras.models.load_model('./trainedModels/thirdWorkingSegmentation.h5')\n",
    "model2 = tf.keras.models.load_model('./trainedModels/overnightSegmentation.h5')\n",
    "model3 = tf.keras.models.load_model('./trainedModels/overnightSegmentationBigImages.h5')\n",
    "model4 = tf.keras.models.load_model('./trainedModels/overnightSegmentationBigImages2.h5')"
   ]
  },
  {
   "cell_type": "markdown",
   "metadata": {},
   "source": [
    "Prediction"
   ]
  },
  {
   "cell_type": "code",
   "execution_count": 6,
   "metadata": {},
   "outputs": [
    {
     "name": "stdout",
     "output_type": "stream",
     "text": [
      "32/32 [==============================] - 6s 40ms/step\n",
      "32/32 [==============================] - 5s 76ms/step\n",
      "32/32 [==============================] - 12s 200ms/step\n"
     ]
    }
   ],
   "source": [
    "Y_pred1 = model1.predict(test_images)\n",
    "Y_pred2 = model2.predict(test_images)\n",
    "Y_pred3 = model3.predict(test_images)\n",
    "Y_pred4 = model4.predict(test_images)"
   ]
  },
  {
   "cell_type": "markdown",
   "metadata": {},
   "source": [
    "Calculate IoU"
   ]
  },
  {
   "cell_type": "code",
   "execution_count": 7,
   "metadata": {},
   "outputs": [],
   "source": [
    "# IoU = jaccard_score(test_ids, Y_pred)"
   ]
  },
  {
   "cell_type": "markdown",
   "metadata": {},
   "source": [
    "IoU over Threshold"
   ]
  },
  {
   "cell_type": "code",
   "execution_count": 8,
   "metadata": {},
   "outputs": [],
   "source": [
    "true_masks_flat = test_masks.reshape(test_masks.shape[0], -1)\n",
    "# true_masks_big_flat = test_masks_big.reshape(test_masks_big.shape[0], -1)\n",
    "Y_pred1_flat = Y_pred1.reshape(Y_pred1.shape[0], -1)\n",
    "Y_pred2_flat = Y_pred2.reshape(Y_pred2.shape[0], -1)\n",
    "Y_pred3_flat = Y_pred3.reshape(Y_pred3.shape[0], -1)\n",
    "Y_pred4_flat = Y_pred4.reshape(Y_pred4.shape[0], -1)\n",
    "\n",
    "threshold_values = np.linspace(0, 1, 100)\n",
    "jaccard_scores1 = []\n",
    "jaccard_scores2 = []\n",
    "jaccard_scores3 = []\n",
    "jaccard_scores4 = []\n",
    "for threshold in threshold_values:\n",
    "    y_pred_binary1 = (Y_pred1 >= threshold).astype(int)\n",
    "    y_pred_binary2 = (Y_pred2 >= threshold).astype(int)\n",
    "    y_pred_binary3 = (Y_pred3 >= threshold).astype(int)\n",
    "    y_pred_binary4 = (Y_pred4 >= threshold).astype(int)\n",
    "    pred_masks_binary_flat1 = y_pred_binary1.reshape(y_pred_binary1.shape[0], -1)\n",
    "    pred_masks_binary_flat2 = y_pred_binary2.reshape(y_pred_binary2.shape[0], -1)\n",
    "    pred_masks_binary_flat3 = y_pred_binary3.reshape(y_pred_binary3.shape[0], -1)\n",
    "    pred_masks_binary_flat4 = y_pred_binary4.reshape(y_pred_binary4.shape[0], -1)\n",
    "    jaccard_scores1.append(jaccard_score(true_masks_flat, pred_masks_binary_flat1, average=\"micro\"))\n",
    "    jaccard_scores2.append(jaccard_score(true_masks_flat, pred_masks_binary_flat2, average=\"micro\"))\n",
    "    jaccard_scores3.append(jaccard_score(true_masks_flat, pred_masks_binary_flat3, average=\"micro\"))\n",
    "    jaccard_scores4.append(jaccard_score(true_masks_flat, pred_masks_binary_flat4, average=\"micro\"))\n",
    "    # jaccard_scores3.append(jaccard_score(true_masks_big_flat, pred_masks_binary_flat3, average=\"micro\"))\n",
    "\n",
    "\n",
    "print('Best threshold for model1: ', threshold_values[np.argmax(jaccard_scores1)]\n",
    "        , ' with Jaccard score: ', jaccard_scores1[np.argmax(jaccard_scores1)])\n",
    "print('Best threshold for model2: ', threshold_values[np.argmax(jaccard_scores2)]\n",
    "        , ' with Jaccard score: ', jaccard_scores2[np.argmax(jaccard_scores2)])\n",
    "print('Best threshold for model3: ', threshold_values[np.argmax(jaccard_scores3)]\n",
    "        , ' with Jaccard score: ', jaccard_scores3[np.argmax(jaccard_scores3)])\n",
    "print('Best threshold for model4: ', threshold_values[np.argmax(jaccard_scores4)]\n",
    "        , ' with Jaccard score: ', jaccard_scores4[np.argmax(jaccard_scores4)]) \n",
    "# for threshold in threshold_values:\n",
    "#     y_pred_binary = (Y_pred >= threshold).astype(int)\n",
    "#     pred_masks_binary_flat = y_pred_binary.reshape(y_pred_binary.shape[0], -1)\n",
    "#     jaccard_scores1.append(jaccard_score(true_masks_flat, pred_masks_binary_flat, average=\"micro\"))\n",
    "\n"
   ]
  },
  {
   "cell_type": "code",
   "execution_count": 21,
   "metadata": {},
   "outputs": [
    {
     "data": {
      "image/png": "[encoded data removed]",
      "text/plain": [
       "<Figure size 1000x600 with 1 Axes>"
      ]
     },
     "metadata": {},
     "output_type": "display_data"
    }
   ],
   "source": [
    "#Plotting\n",
    "\n",
    "plt.figure(figsize=(10, 6))\n",
    "plt.plot(threshold_values, jaccard_scores1, color='blue', marker='*', linestyle='-', label='Model 1')\n",
    "plt.plot(threshold_values, jaccard_scores2, color='red', marker='*', linestyle='-', label='Model 2')\n",
    "plt.plot(threshold_values, jaccard_scores3, color='green', marker='*', linestyle='-', label='Model 3')\n",
    "plt.plot(threshold_values, jaccard_scores4, color='purple', marker='*', linestyle='-', label='Model 4')\n",
    "plt.title('Jaccard Score vs. Threshold Value')\n",
    "plt.legend(loc=\"lower right\")\n",
    "plt.xlabel('Threshold Value')\n",
    "plt.ylabel('Jaccard Score')\n",
    "\n",
    "# plt.ylim(0.5, 0.7)\n",
    "plt.grid(True)\n",
    "plt.show()"
   ]
  },
  {
   "cell_type": "code",
   "execution_count": null,
   "metadata": {},
   "outputs": [],
   "source": [
    "from sklearn.metrics import confusion_matrix\n",
    "import seaborn as sns\n",
    "import matplotlib.pyplot as plt\n",
    "from sklearn.metrics import accuracy_score, precision_score, recall_score, f1_score\n",
    "\n",
    "model = model1\n",
    "threshold = threshold_values[np.argmax(jaccard_scores1)]\n",
    "\n",
    "test_masks_bin = np.array([1 if np.count_nonzero(element) != 0 else 0 for element in test_masks])\n",
    "\n",
    "# Assuming you have 'test_labels' and 'binary_predictions'\n",
    "# test_labels: True labels for the test set\n",
    "# binary_predictions: Predictions made by the model (0 or 1)\n",
    "\n",
    "Y_pred = model.predict(test_images)\n",
    "Y_pred_bin_list = []\n",
    "for val in Y_pred:\n",
    "    if val > threshold:\n",
    "        Y_pred_bin_list.append(1)\n",
    "    else:\n",
    "        Y_pred_bin_list.append(0)\n",
    "Y_pred_bin = np.array(Y_pred_bin_list)\n",
    "\n",
    "# Calculate the confusion matrix\n",
    "conf_matrix = confusion_matrix(test_masks_bin, Y_pred_bin)\n",
    "\n",
    "# Display the confusion matrix using a heatmap\n",
    "sns.heatmap(conf_matrix, annot=True, fmt='d', cmap='Blues', annot_kws={\"size\": 16})\n",
    "plt.xlabel('Predicted')\n",
    "plt.ylabel('True')\n",
    "plt.title('Confusion Matrix')\n",
    "plt.show()\n",
    "\n",
    "# Additional metrics\n",
    "accuracy = accuracy_score(test_masks_bin, Y_pred_bin)\n",
    "precision = precision_score(test_masks_bin, Y_pred_bin)\n",
    "recall = recall_score(test_masks_bin, Y_pred_bin)\n",
    "f1 = f1_score(test_masks_bin, Y_pred_bin)\n",
    "\n",
    "print(f\"Accuracy: {accuracy * 100:.2f}%\")\n",
    "print(f\"Precision: {precision:.4f}\")\n",
    "print(f\"Recall: {recall:.4f}\")\n",
    "print(f\"F1 Score: {f1:.4f}\")"
   ]
  }
 ],
 "metadata": {
  "kernelspec": {
   "display_name": "Python 3",
   "language": "python",
   "name": "python3"
  },
  "language_info": {
   "codemirror_mode": {
    "name": "ipython",
    "version": 3
   },
   "file_extension": ".py",
   "mimetype": "text/x-python",
   "name": "python",
   "nbconvert_exporter": "python",
   "pygments_lexer": "ipython3",
   "version": "3.10.13"
  }
 },
 "nbformat": 4,
 "nbformat_minor": 2
}
