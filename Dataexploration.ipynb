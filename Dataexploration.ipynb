{
 "cells": [
  {
   "cell_type": "code",
   "execution_count": 1,
   "metadata": {},
   "outputs": [],
   "source": [
    "import pandas as pd\n",
    "import numpy as np\n",
    "import os\n",
    "import cv2\n",
    "import matplotlib.pyplot as plt\n",
    "from sklearn import svm\n",
    "from sklearn.model_selection import GridSearchCV\n",
    "from sklearn.metrics import accuracy_score"
   ]
  },
  {
   "cell_type": "code",
   "execution_count": 2,
   "metadata": {},
   "outputs": [
    {
     "name": "stdout",
     "output_type": "stream",
     "text": [
      "c:\\Users\\patricjr\\Desktop\\NTNU-ML-KolektorSDD2\n"
     ]
    }
   ],
   "source": [
    "Categories = [\"Undamaged\", \"Damaged\"]\n",
    "data_train = \"./datasets/train/\"\n",
    "data_test = \"./datasets/test/\"\n",
    "current_directory = os.getcwd()\n",
    "print(current_directory)\n",
    "\n",
    "flat_train = []\n",
    "flat_train_GT = []\n",
    "flat_test = []\n",
    "flat_test_GT = []\n",
    "damage_label_train = []\n",
    "damage_label_test = []\n",
    "img_name = []\n",
    "max_width = 0\n",
    "max_height = 0\n",
    "min_width = float('inf')\n",
    "min_height = float('inf')\n",
    "total_width = 0\n",
    "total_height = 0\n",
    "num_images = 0"
   ]
  },
  {
   "cell_type": "code",
   "execution_count": 3,
   "metadata": {},
   "outputs": [],
   "source": [
    "#Create path to folder\n",
    "path = data_train\n",
    "\n",
    "#For-loop to go through all the contents in the folder\n",
    "for img in os.listdir(path):\n",
    "    #Distinguishing between Groundtruth pictures and Actual pictures\n",
    "    if \"GT\" in img:\n",
    "        img_array = cv2.imread(os.path.join(path,img))\n",
    "        flat_train_GT.append(img_array.flatten())\n",
    "        #If the GT img is Black, no damage is detected\n",
    "        if np.all(img_array == 0):\n",
    "            damage_label_train.append(False)\n",
    "        else:\n",
    "            damage_label_train.append(True)\n",
    "        #Mark GT images, if any defect is on them\n",
    "    elif \"GT\" not in img:\n",
    "        img_array = cv2.imread(os.path.join(path,img))\n",
    "        flat_train.append(img_array.flatten())\n",
    "        if img is not None:\n",
    "                height, width, _ = img_array.shape\n",
    "                num_images += 1\n",
    "                total_width += width\n",
    "                total_height += height\n",
    "                if width > max_width:\n",
    "                    max_width = width\n",
    "                if height > max_height:\n",
    "                    max_height = height\n",
    "                if width < min_width:\n",
    "                    min_width = width\n",
    "                if height < min_height:\n",
    "                    min_height = height\n",
    "\n",
    "# Berechne die durchschnittliche Größe\n",
    "avg_width = total_width / num_images\n",
    "avg_height = total_height / num_images"
   ]
  },
  {
   "cell_type": "code",
   "execution_count": 4,
   "metadata": {},
   "outputs": [
    {
     "name": "stdout",
     "output_type": "stream",
     "text": [
      "Größte Dimension: (660, 241)\n",
      "Kleinste Dimension: (602, 184)\n",
      "Durchschnittliche Dimension: (636.488421955403, 228.881217838765)\n"
     ]
    }
   ],
   "source": [
    "print(\"Größte Dimension:\", (max_height, max_width))\n",
    "print(\"Kleinste Dimension:\", (min_height, min_width))\n",
    "print(\"Durchschnittliche Dimension:\", (avg_height, avg_width))"
   ]
  },
  {
   "cell_type": "code",
   "execution_count": 5,
   "metadata": {},
   "outputs": [],
   "source": [
    "#Create path to folder\n",
    "path = os.path.join(current_directory, data_test)\n",
    "\n",
    "#For-loop to go through all the contents in the folder\n",
    "for img in os.listdir(path):\n",
    "    #Distinguishing between Groundtruth pictures and Actual pictures\n",
    "    if \"GT\" in img:\n",
    "        img_array = cv2.imread(os.path.join(path,img))\n",
    "        flat_test_GT.append(img_array.flatten())\n",
    "        #If the GT Image is Black, no damage is detected\n",
    "        if np.all(img_array == 0):\n",
    "            damage_label_test.append(False)\n",
    "        else:\n",
    "            damage_label_test.append(True)\n",
    "        #Mark GT images, if any defect is on them\n",
    "    elif \"GT\" not in img:\n",
    "        img_array = cv2.imread(os.path.join(path,img))\n",
    "        flat_test.append(img_array.flatten())"
   ]
  },
  {
   "cell_type": "code",
   "execution_count": 6,
   "metadata": {},
   "outputs": [
    {
     "name": "stdout",
     "output_type": "stream",
     "text": [
      "110\n",
      "894\n",
      "247\n",
      "2085\n",
      "3336\n",
      "1004\n",
      "2332\n"
     ]
    }
   ],
   "source": [
    "Test_damage = damage_label_test.count(True)\n",
    "Test_undamaged = damage_label_test.count(False)\n",
    "Train_damaged = damage_label_train.count(True)\n",
    "Train_undamaged = damage_label_train.count(False)\n",
    "\n",
    "print(Test_damage)\n",
    "print(Test_undamaged)\n",
    "print(Train_damaged)\n",
    "print(Train_undamaged)\n",
    "print(Test_damage+Test_undamaged+Train_damaged+Train_undamaged)\n",
    "print(Test_damage+Test_undamaged)\n",
    "print(Train_damaged+Train_undamaged)"
   ]
  }
 ],
 "metadata": {
  "kernelspec": {
   "display_name": "base",
   "language": "python",
   "name": "python3"
  },
  "language_info": {
   "codemirror_mode": {
    "name": "ipython",
    "version": 3
   },
   "file_extension": ".py",
   "mimetype": "text/x-python",
   "name": "python",
   "nbconvert_exporter": "python",
   "pygments_lexer": "ipython3",
   "version": "3.10.13"
  }
 },
 "nbformat": 4,
 "nbformat_minor": 2
}
