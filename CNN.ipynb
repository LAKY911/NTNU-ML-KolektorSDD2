{
 "cells": [
  {
   "cell_type": "markdown",
   "metadata": {},
   "source": [
    "# Kolektor Surface Defect Detection\n",
    "TMM4128 - Machine Learning for Engineers - Semestral Project\n"
   ]
  },
  {
   "cell_type": "markdown",
   "metadata": {},
   "source": [
    "### Import TensorFlow"
   ]
  },
  {
   "cell_type": "code",
   "execution_count": 1,
   "metadata": {},
   "outputs": [],
   "source": [
    "import numpy as np\n",
    "import seaborn as sns\n",
    "import matplotlib.pyplot as plt\n",
    "import cv2\n",
    "import os\n",
    "# import pandas as pd\n",
    "# import keras\n",
    "from tensorflow.keras.preprocessing.image import load_img, img_to_array\n",
    "import math"
   ]
  },
  {
   "cell_type": "code",
   "execution_count": 2,
   "metadata": {},
   "outputs": [
    {
     "name": "stdout",
     "output_type": "stream",
     "text": [
      "Number of GPUs:  1\n"
     ]
    }
   ],
   "source": [
    "import tensorflow as tf\n",
    "# CUDA check\n",
    "print(\"Number of GPUs: \", len(tf.config.list_physical_devices('GPU')))"
   ]
  },
  {
   "cell_type": "code",
   "execution_count": 3,
   "metadata": {},
   "outputs": [
    {
     "name": "stdout",
     "output_type": "stream",
     "text": [
      "c:\\Users\\lukasvi\\Documents\\GitHub\\NTNU-ML-KolektorSDD2\n"
     ]
    }
   ],
   "source": [
    "Categories = [\"Undamaged\", \"Damaged\"]\n",
    "data_train = \"./datasets/KolektorSDD2/train/\"\n",
    "data_test = \"./datasets/KolektorSDD2/test/\"\n",
    "current_directory = os.getcwd()\n",
    "print(current_directory)\n",
    "\n",
    "flat_train = []\n",
    "flat_train_GT = []\n",
    "flat_test = []\n",
    "flat_test_GT = []\n",
    "damage_label_train = []\n",
    "damage_label_test = []\n",
    "img_name = []\n",
    "X_train = []\n",
    "X_test = []\n",
    "y_train = []\n",
    "y_test = []\n",
    "\n",
    "# Average image size\n",
    "img_height = 194 # 636 \n",
    "img_width = 70 # 229\n",
    "img_size = (img_height, img_width)"
   ]
  },
  {
   "cell_type": "code",
   "execution_count": 4,
   "metadata": {},
   "outputs": [
    {
     "name": "stdout",
     "output_type": "stream",
     "text": [
      "2579 2579\n"
     ]
    }
   ],
   "source": [
    "# Create TRAIN DATA\n",
    "\n",
    "#Create path to folder\n",
    "path = data_train\n",
    "\n",
    "list_damaged = []\n",
    "negative_max = 3000\n",
    "negative_counter = 0 \n",
    "\n",
    "\n",
    "\n",
    "#For-loop to go through all the contents in the folder\n",
    "for img in os.listdir(path):\n",
    "    #Distinguishing between Groundtruth pictures and Actual pictures\n",
    "    image_path_GT = os.path.join(path,img)\n",
    "    image_path = os.path.join(path,img[:5]+\".png\")\n",
    "\n",
    "    if \"GT\" in img:\n",
    "        img_array = cv2.imread(image_path_GT)\n",
    "        #If the GT Image is Black, no damage is detected\n",
    "        if np.all(img_array == 0): # OK\n",
    "            if negative_counter < negative_max:\n",
    "                y_train.append(0)\n",
    "                img2 = load_img(image_path, target_size = img_size) # load image and resize\n",
    "                img_array = img_to_array(img2) # convert image to array\n",
    "                img_array /= 255.0 # normalizing to scale from 0 to 1\n",
    "                X_train.append(img_array) # original image\n",
    "                negative_counter += 1\n",
    "\n",
    "        else:                   # NOK\n",
    "            y_train.append(1) # Original image\n",
    "            list_damaged.append(img)\n",
    "            img2 = load_img(image_path, target_size = img_size) # load image and resize\n",
    "            img_array = img_to_array(img2) # convert image to array\n",
    "            img_array /= 255.0 # normalizing to scale from 0 to 1\n",
    "            X_train.append(img_array) # original image\n",
    "\n",
    "        \n",
    "        #Mark GT images, if any defect is on them\n",
    "    # elif \"GT\" not in img:\n",
    "    #     img2 = load_img(os.path.join(path,img), target_size = img_size) # load image and resize\n",
    "    #     img_array = img_to_array(img2) # convert image to array\n",
    "    #     img_array /= 255.0 # normalizing to scale from 0 to 1\n",
    "    #     X_train.append(img_array) # original image\n",
    "\n",
    "for img_name in list_damaged:\n",
    "    img_name = img_name[:5] + \".png\"\n",
    "    img = load_img(os.path.join(path,img_name), target_size = img_size) # load image and resize\n",
    "    img_array = img_to_array(img2) # convert image to array\n",
    "    img_array /= 255.0 # normalizing to scale from 0 to 1\n",
    "    rotated_image_array = np.rot90(img_array, k=2)\n",
    "    X_train.append(rotated_image_array) # rotated image\n",
    "    y_train.append(1)\n",
    "\n",
    "\n",
    "print(len(X_train), len(y_train))"
   ]
  },
  {
   "cell_type": "code",
   "execution_count": 5,
   "metadata": {},
   "outputs": [],
   "source": [
    "# # Faulty pictures export\n",
    "\n",
    "# import cv2\n",
    "# stop_index = 5 # 5 or 8 for GT\n",
    "# vis = cv2.imread(os.path.join(path,list_damaged[0][:stop_index] + \".png\"))\n",
    "# vis = cv2.resize(vis, (231,636), interpolation = cv2.INTER_LINEAR)\n",
    "\n",
    "# for i in range(1, 8):\n",
    "#     img = cv2.imread(os.path.join(path,list_damaged[i][:stop_index] + \".png\"))\n",
    "#     stretch_near = cv2.resize(img, (231,636), interpolation = cv2.INTER_LINEAR)\n",
    "#     vis = np.concatenate((vis, stretch_near), axis=1)\n",
    "\n",
    "# vis1 = cv2.imread(os.path.join(path,list_damaged[8][:stop_index] + \".png\"))\n",
    "# vis1 = cv2.resize(vis1, (231,636), interpolation = cv2.INTER_LINEAR)\n",
    "\n",
    "# for i in range(9, 16):\n",
    "#     img = cv2.imread(os.path.join(path,list_damaged[i][:stop_index] + \".png\"))\n",
    "#     stretch_near = cv2.resize(img, (231,636), interpolation = cv2.INTER_LINEAR)\n",
    "#     vis1 = np.concatenate((vis1, stretch_near), axis=1)\n",
    "# # cv2.imshow('Horizontal', vis)\n",
    "\n",
    "# visAll = np.concatenate((vis, vis1), axis=0)\n",
    "\n",
    "# cv2.imwrite('out.png', visAll)"
   ]
  },
  {
   "cell_type": "code",
   "execution_count": 6,
   "metadata": {},
   "outputs": [],
   "source": [
    "# Create TEST DATA \n",
    "\n",
    "#Create path to folder\n",
    "path = data_test\n",
    "\n",
    "#For-loop to go through all the contents in the folder\n",
    "for img in os.listdir(path):\n",
    "    #Distinguishing between Groundtruth pictures and Actual pictures\n",
    "    \n",
    "    if \"GT\" in img:\n",
    "        img_array = cv2.imread(os.path.join(path,img))\n",
    "        flat_test_GT.append(img_array.flatten())\n",
    "        #If the GT Image is Black, no damage is detected\n",
    "        if np.all(img_array == 0):\n",
    "            y_test.append(0)\n",
    "        else:\n",
    "            y_test.append(1)\n",
    "        #Mark GT images, if any defect is on them\n",
    "    elif \"GT\" not in img:\n",
    "        img2 = load_img(os.path.join(path,img), target_size = img_size) # load image and resize\n",
    "        img_array = img_to_array(img2) # convert image to array\n",
    "        img_array /= 255.0 # normalizing to scale from 0 to 1\n",
    "        X_test.append(img_array)"
   ]
  },
  {
   "cell_type": "code",
   "execution_count": 7,
   "metadata": {},
   "outputs": [
    {
     "name": "stdout",
     "output_type": "stream",
     "text": [
      "(2579, 194, 70, 3)\n",
      "(2579,)\n",
      "(1004, 194, 70, 3)\n",
      "(1004,)\n"
     ]
    }
   ],
   "source": [
    "X_train = np.array(X_train) \n",
    "X_test = np.array(X_test) \n",
    "y_train = np.array(y_train) \n",
    "y_test = np.array(y_test) \n",
    "\n",
    "print(X_train.shape)\n",
    "print(y_train.shape)\n",
    "print(X_test.shape)\n",
    "print(y_test.shape)"
   ]
  },
  {
   "cell_type": "code",
   "execution_count": 8,
   "metadata": {},
   "outputs": [
    {
     "name": "stdout",
     "output_type": "stream",
     "text": [
      "{0: 2085, 1: 494}\n",
      "Percentage of faulty images in all train data: 19.15471112834432  %\n"
     ]
    }
   ],
   "source": [
    "# Faulty vs non-faulty images\n",
    "unique, counts = np.unique(y_train, return_counts=True)\n",
    "pos = counts[1]\n",
    "neg = counts[0]\n",
    "print(dict(zip(unique, counts)))\n",
    "print(\"Percentage of faulty images in all train data:\", counts[1]/len(y_train)*100, \" %\")"
   ]
  },
  {
   "cell_type": "code",
   "execution_count": 9,
   "metadata": {},
   "outputs": [
    {
     "name": "stdout",
     "output_type": "stream",
     "text": [
      "x_train shape (1805, 194, 70, 3)\n",
      "x_val shape (774, 194, 70, 3)\n",
      "y_train shape (1805,)\n",
      "y_val shape (774,)\n"
     ]
    }
   ],
   "source": [
    "# Train - Test split\n",
    "\n",
    "from sklearn.model_selection import train_test_split\n",
    "X_train, X_val, y_train, y_val = train_test_split(X_train, y_train, test_size = 0.3, random_state = 4)\n",
    "print(\"x_train shape\",X_train.shape)\n",
    "print(\"x_val shape\",X_val.shape)\n",
    "print(\"y_train shape\",y_train.shape)\n",
    "print(\"y_val shape\",y_val.shape)\n"
   ]
  },
  {
   "cell_type": "code",
   "execution_count": 10,
   "metadata": {},
   "outputs": [
    {
     "name": "stdout",
     "output_type": "stream",
     "text": [
      "{0: 1447, 1: 358}\n",
      "Percentage of faulty images in train data: 19.833795013850416  %\n",
      "{0: 638, 1: 136}\n",
      "Percentage of faulty images in test data: 17.571059431524546  %\n"
     ]
    }
   ],
   "source": [
    "unique, counts = np.unique(y_train, return_counts=True)\n",
    "\n",
    "print(dict(zip(unique, counts)))\n",
    "print(\"Percentage of faulty images in train data:\", counts[1]/len(y_train)*100, \" %\")\n",
    "\n",
    "unique, counts = np.unique(y_val, return_counts=True)\n",
    "\n",
    "print(dict(zip(unique, counts)))\n",
    "print(\"Percentage of faulty images in test data:\", counts[1]/len(y_val)*100, \" %\")"
   ]
  },
  {
   "cell_type": "code",
   "execution_count": 11,
   "metadata": {},
   "outputs": [],
   "source": [
    "from sklearn.metrics import confusion_matrix\n",
    "#import itertools\n",
    "\n",
    "# from keras.utils import to_categorical # convert to one-hot-encoding\n",
    "from keras.models import Sequential\n",
    "from keras.layers import Dense, Dropout, Flatten, Conv2D, MaxPool2D\n",
    "from keras import layers\n",
    "from keras.optimizers import RMSprop,Adam\n",
    "#from keras.preprocessing.image import ImageDataGenerator\n",
    "#from keras.callbacks import ReduceLROnPlateau\n",
    "\n",
    "\n",
    "initial_bias = np.log([pos/neg])\n",
    "# print(initial_bias)\n",
    "\n",
    "output_bias = tf.keras.initializers.Constant(initial_bias)\n",
    "\n",
    "\n",
    "model = Sequential()\n",
    "\n",
    "model.add(Conv2D(filters = 32, kernel_size = (3,3),padding = 'Same', \n",
    "                 activation ='relu', input_shape = (img_height,img_width,3)))\n",
    "\n",
    "model.add(MaxPool2D(pool_size=(2,2)))\n",
    "model.add(Dropout(0.25))\n",
    "\n",
    "model.add(Conv2D(filters = 64, kernel_size = (3,3),padding = 'Same', \n",
    "                 activation ='relu'))\n",
    "model.add(MaxPool2D(pool_size=(2,2)))\n",
    "model.add(Dropout(0.25))\n",
    "\n",
    "model.add(Conv2D(filters = 128, kernel_size = (3,3),padding = 'Same', \n",
    "                 activation ='relu', input_shape = (img_height,img_width,3)))\n",
    "model.add(MaxPool2D(pool_size=(2,2)))\n",
    "\n",
    "# fully connected\n",
    "model.add(Flatten())\n",
    "model.add(Dense(128, activation = \"relu\"))\n",
    "model.add(Dropout(0.5))\n",
    "model.add(Dense(1, activation = \"sigmoid\", bias_initializer=output_bias))\n",
    "\n",
    "\n"
   ]
  },
  {
   "cell_type": "code",
   "execution_count": 12,
   "metadata": {},
   "outputs": [],
   "source": [
    "# Define the optimizer\n",
    "# In neural networks, an optimizer is an algorithm used to adjust the weights and biases \n",
    "# of the network during training in order to minimize the loss function and improve the accuracy of the model.\n",
    "\n",
    "optimizer = Adam(learning_rate=0.001) # , beta_1=0.9, beta_2=0.999"
   ]
  },
  {
   "cell_type": "code",
   "execution_count": 13,
   "metadata": {},
   "outputs": [
    {
     "name": "stdout",
     "output_type": "stream",
     "text": [
      "Model: \"sequential\"\n",
      "_________________________________________________________________\n",
      " Layer (type)                Output Shape              Param #   \n",
      "=================================================================\n",
      " conv2d (Conv2D)             (None, 194, 70, 32)       896       \n",
      "                                                                 \n",
      " max_pooling2d (MaxPooling2D  (None, 97, 35, 32)       0         \n",
      " )                                                               \n",
      "                                                                 \n",
      " dropout (Dropout)           (None, 97, 35, 32)        0         \n",
      "                                                                 \n",
      " conv2d_1 (Conv2D)           (None, 97, 35, 64)        18496     \n",
      "                                                                 \n",
      " max_pooling2d_1 (MaxPooling  (None, 48, 17, 64)       0         \n",
      " 2D)                                                             \n",
      "                                                                 \n",
      " dropout_1 (Dropout)         (None, 48, 17, 64)        0         \n",
      "                                                                 \n",
      " conv2d_2 (Conv2D)           (None, 48, 17, 128)       73856     \n",
      "                                                                 \n",
      " max_pooling2d_2 (MaxPooling  (None, 24, 8, 128)       0         \n",
      " 2D)                                                             \n",
      "                                                                 \n",
      " flatten (Flatten)           (None, 24576)             0         \n",
      "                                                                 \n",
      " dense (Dense)               (None, 128)               3145856   \n",
      "                                                                 \n",
      " dropout_2 (Dropout)         (None, 128)               0         \n",
      "                                                                 \n",
      " dense_1 (Dense)             (None, 1)                 129       \n",
      "                                                                 \n",
      "=================================================================\n",
      "Total params: 3,239,233\n",
      "Trainable params: 3,239,233\n",
      "Non-trainable params: 0\n",
      "_________________________________________________________________\n"
     ]
    }
   ],
   "source": [
    "model.compile(optimizer = optimizer , loss = \"binary_crossentropy\", metrics=[\"accuracy\"])\n",
    "model.summary()"
   ]
  },
  {
   "cell_type": "code",
   "execution_count": 14,
   "metadata": {},
   "outputs": [],
   "source": [
    "epochs = 100  \n",
    "batch_size = 250"
   ]
  },
  {
   "cell_type": "code",
   "execution_count": 15,
   "metadata": {},
   "outputs": [],
   "source": [
    "from keras.callbacks import EarlyStopping\n",
    "early_stopping = EarlyStopping(monitor='val_loss', mode='min', verbose=1, patience=6)"
   ]
  },
  {
   "cell_type": "code",
   "execution_count": 16,
   "metadata": {},
   "outputs": [
    {
     "name": "stdout",
     "output_type": "stream",
     "text": [
      "Epoch 1/100\n",
      "7/7 [==============================] - 8s 287ms/step - loss: 0.5747 - accuracy: 0.7330 - val_loss: 0.4656 - val_accuracy: 0.8243\n",
      "Epoch 2/100\n",
      "7/7 [==============================] - 1s 99ms/step - loss: 0.4980 - accuracy: 0.8017 - val_loss: 0.4658 - val_accuracy: 0.8243\n",
      "Epoch 3/100\n",
      "7/7 [==============================] - 1s 102ms/step - loss: 0.4978 - accuracy: 0.8017 - val_loss: 0.4656 - val_accuracy: 0.8243\n",
      "Epoch 4/100\n",
      "7/7 [==============================] - 1s 106ms/step - loss: 0.4982 - accuracy: 0.8017 - val_loss: 0.4649 - val_accuracy: 0.8243\n",
      "Epoch 5/100\n",
      "7/7 [==============================] - 1s 101ms/step - loss: 0.4978 - accuracy: 0.8017 - val_loss: 0.4650 - val_accuracy: 0.8243\n",
      "Epoch 6/100\n",
      "7/7 [==============================] - 1s 101ms/step - loss: 0.4963 - accuracy: 0.8017 - val_loss: 0.4639 - val_accuracy: 0.8243\n",
      "Epoch 7/100\n",
      "7/7 [==============================] - 1s 101ms/step - loss: 0.4947 - accuracy: 0.8017 - val_loss: 0.4597 - val_accuracy: 0.8243\n",
      "Epoch 8/100\n",
      "7/7 [==============================] - 1s 98ms/step - loss: 0.4932 - accuracy: 0.8017 - val_loss: 0.4599 - val_accuracy: 0.8243\n",
      "Epoch 9/100\n",
      "7/7 [==============================] - 1s 100ms/step - loss: 0.4866 - accuracy: 0.8017 - val_loss: 0.4431 - val_accuracy: 0.8243\n",
      "Epoch 10/100\n",
      "7/7 [==============================] - 1s 102ms/step - loss: 0.4683 - accuracy: 0.8017 - val_loss: 0.4074 - val_accuracy: 0.8243\n",
      "Epoch 11/100\n",
      "7/7 [==============================] - 1s 101ms/step - loss: 0.4347 - accuracy: 0.8338 - val_loss: 0.3538 - val_accuracy: 0.9302\n",
      "Epoch 12/100\n",
      "7/7 [==============================] - 1s 102ms/step - loss: 0.4012 - accuracy: 0.8659 - val_loss: 0.3138 - val_accuracy: 0.9328\n",
      "Epoch 13/100\n",
      "7/7 [==============================] - 1s 99ms/step - loss: 0.3858 - accuracy: 0.8765 - val_loss: 0.3059 - val_accuracy: 0.9302\n",
      "Epoch 14/100\n",
      "7/7 [==============================] - 1s 102ms/step - loss: 0.3846 - accuracy: 0.8737 - val_loss: 0.3090 - val_accuracy: 0.9367\n",
      "Epoch 15/100\n",
      "7/7 [==============================] - 1s 101ms/step - loss: 0.3648 - accuracy: 0.8848 - val_loss: 0.2804 - val_accuracy: 0.9354\n",
      "Epoch 16/100\n",
      "7/7 [==============================] - 1s 100ms/step - loss: 0.3356 - accuracy: 0.8947 - val_loss: 0.2466 - val_accuracy: 0.9367\n",
      "Epoch 17/100\n",
      "7/7 [==============================] - 1s 90ms/step - loss: 0.3293 - accuracy: 0.8970 - val_loss: 0.2443 - val_accuracy: 0.9380\n",
      "Epoch 18/100\n",
      "7/7 [==============================] - 1s 87ms/step - loss: 0.3312 - accuracy: 0.8958 - val_loss: 0.2491 - val_accuracy: 0.9393\n",
      "Epoch 19/100\n",
      "7/7 [==============================] - 1s 88ms/step - loss: 0.3121 - accuracy: 0.9019 - val_loss: 0.2396 - val_accuracy: 0.9419\n",
      "Epoch 20/100\n",
      "7/7 [==============================] - 1s 88ms/step - loss: 0.3036 - accuracy: 0.9042 - val_loss: 0.2274 - val_accuracy: 0.9419\n",
      "Epoch 21/100\n",
      "7/7 [==============================] - 1s 85ms/step - loss: 0.2867 - accuracy: 0.9141 - val_loss: 0.2268 - val_accuracy: 0.9457\n",
      "Epoch 22/100\n",
      "7/7 [==============================] - 1s 87ms/step - loss: 0.2710 - accuracy: 0.9186 - val_loss: 0.2037 - val_accuracy: 0.9470\n",
      "Epoch 23/100\n",
      "7/7 [==============================] - 1s 84ms/step - loss: 0.2477 - accuracy: 0.9285 - val_loss: 0.1917 - val_accuracy: 0.9522\n",
      "Epoch 24/100\n",
      "7/7 [==============================] - 1s 87ms/step - loss: 0.2361 - accuracy: 0.9330 - val_loss: 0.1820 - val_accuracy: 0.9561\n",
      "Epoch 25/100\n",
      "7/7 [==============================] - 1s 86ms/step - loss: 0.2182 - accuracy: 0.9330 - val_loss: 0.1809 - val_accuracy: 0.9574\n",
      "Epoch 26/100\n",
      "7/7 [==============================] - 1s 89ms/step - loss: 0.1951 - accuracy: 0.9440 - val_loss: 0.1788 - val_accuracy: 0.9587\n",
      "Epoch 27/100\n",
      "7/7 [==============================] - 1s 86ms/step - loss: 0.1974 - accuracy: 0.9413 - val_loss: 0.1794 - val_accuracy: 0.9561\n",
      "Epoch 28/100\n",
      "7/7 [==============================] - 1s 85ms/step - loss: 0.1923 - accuracy: 0.9474 - val_loss: 0.1850 - val_accuracy: 0.9548\n",
      "Epoch 29/100\n",
      "7/7 [==============================] - 1s 86ms/step - loss: 0.1847 - accuracy: 0.9457 - val_loss: 0.1893 - val_accuracy: 0.9561\n",
      "Epoch 30/100\n",
      "7/7 [==============================] - 1s 84ms/step - loss: 0.1685 - accuracy: 0.9452 - val_loss: 0.1881 - val_accuracy: 0.9561\n",
      "Epoch 31/100\n",
      "7/7 [==============================] - 1s 86ms/step - loss: 0.1627 - accuracy: 0.9535 - val_loss: 0.1872 - val_accuracy: 0.9548\n",
      "Epoch 32/100\n",
      "7/7 [==============================] - 1s 85ms/step - loss: 0.1736 - accuracy: 0.9479 - val_loss: 0.1926 - val_accuracy: 0.9535\n",
      "Epoch 32: early stopping\n"
     ]
    }
   ],
   "source": [
    "# Lets fit the model\n",
    "\n",
    "history = model.fit(X_train, \n",
    "                    y_train, \n",
    "                    epochs = epochs, \n",
    "                    validation_data = (X_val, y_val), \n",
    "                    steps_per_epoch=X_train.shape[0] // batch_size, \n",
    "                    callbacks=[early_stopping]) "
   ]
  },
  {
   "cell_type": "code",
   "execution_count": 17,
   "metadata": {},
   "outputs": [
    {
     "name": "stdout",
     "output_type": "stream",
     "text": [
      "4/4 [==============================] - 1s 39ms/step - loss: 0.1926 - accuracy: 0.9535\n",
      "Accuracy of the model is -->  95.34883499145508 %\n",
      "4/4 [==============================] - 0s 16ms/step - loss: 0.1926 - accuracy: 0.9535\n",
      "Loss of the model is -->  0.19257411360740662\n"
     ]
    }
   ],
   "source": [
    "print(\"Accuracy of the model is --> \" , model.evaluate(X_val, y_val, batch_size=batch_size)[1]*100 , \"%\")\n",
    "print(\"Loss of the model is --> \" , model.evaluate(X_val, y_val, batch_size=batch_size)[0])"
   ]
  },
  {
   "cell_type": "code",
   "execution_count": 18,
   "metadata": {},
   "outputs": [
    {
     "data": {
      "image/png": "[encoded data removed]",
      "text/plain": [
       "<Figure size 640x480 with 1 Axes>"
      ]
     },
     "metadata": {},
     "output_type": "display_data"
    }
   ],
   "source": [
    "# Model Loss\n",
    "\n",
    "plt.figure()\n",
    "plt.plot(history.history[\"loss\"],label = \"Train Loss\", color = \"black\")\n",
    "plt.plot(history.history[\"val_loss\"],label = \"Validation Loss\", color = \"darkred\", marker = \"+\", linestyle=\"dashed\",markeredgecolor = \"purple\", markeredgewidth = 2)\n",
    "plt.title(\"Model Loss\", color = \"darkred\", size = 13)\n",
    "plt.legend()\n",
    "plt.show()"
   ]
  },
  {
   "cell_type": "code",
   "execution_count": 19,
   "metadata": {},
   "outputs": [
    {
     "data": {
      "image/png": "[encoded data removed]",
      "text/plain": [
       "<Figure size 640x480 with 1 Axes>"
      ]
     },
     "metadata": {},
     "output_type": "display_data"
    }
   ],
   "source": [
    "# Model Accuracy \n",
    "\n",
    "plt.figure()\n",
    "plt.plot(history.history[\"accuracy\"],label = \"Train Accuracy\", color = \"black\")\n",
    "plt.plot(history.history[\"val_accuracy\"],label = \"Validation Accuracy\", color = \"darkred\", marker = \"+\", linestyle=\"dashed\",markeredgecolor = \"purple\", markeredgewidth = 2)\n",
    "plt.title(\"Model Accuracy\", color = \"darkred\", size = 13)\n",
    "plt.legend()\n",
    "plt.show()"
   ]
  },
  {
   "cell_type": "code",
   "execution_count": 20,
   "metadata": {},
   "outputs": [
    {
     "name": "stdout",
     "output_type": "stream",
     "text": [
      "32/32 [==============================] - 0s 7ms/step\n",
      "[[0.02796599]\n",
      " [0.04979075]\n",
      " [0.02804767]\n",
      " ...\n",
      " [0.04753266]\n",
      " [0.02302381]\n",
      " [0.02056023]]\n",
      "{0: 894, 1: 110}\n",
      "0.8904382470119522\n",
      "Test accuracy: 91.83%\n"
     ]
    }
   ],
   "source": [
    "Y_predict_test = model.predict(X_test)\n",
    "print(Y_predict_test)\n",
    "\n",
    "binary_predictions = (Y_predict_test > 0.5).astype(int)\n",
    "\n",
    "accuracy = (binary_predictions.flatten() == y_test).mean()\n",
    "unique, counts = np.unique(y_test, return_counts=True)\n",
    "\n",
    "print(dict(zip(unique, counts)))\n",
    "print(894/len(y_test))\n",
    "\n",
    "print(f\"Test accuracy: {accuracy * 100:.2f}%\")"
   ]
  },
  {
   "cell_type": "markdown",
   "metadata": {},
   "source": [
    "Test accuracy: 89.34 %\n",
    "\n",
    "Test accuracy: 92.13 % (I don't know what changed, only the image size... 636x229)\n",
    "\n",
    "90.74 % with initial bias\n",
    "\n",
    "89.94 % with 1000/500, size image down "
   ]
  },
  {
   "cell_type": "code",
   "execution_count": 21,
   "metadata": {},
   "outputs": [
    {
     "name": "stdout",
     "output_type": "stream",
     "text": [
      "25/25 [==============================] - 0s 5ms/step\n"
     ]
    },
    {
     "data": {
      "image/png": "[encoded data removed]",
      "text/plain": [
       "<Figure size 640x480 with 2 Axes>"
      ]
     },
     "metadata": {},
     "output_type": "display_data"
    },
    {
     "name": "stdout",
     "output_type": "stream",
     "text": [
      "Accuracy: 95.35%\n",
      "Precision: 0.9386\n",
      "Recall: 0.7868\n",
      "F1 Score: 0.8560\n"
     ]
    }
   ],
   "source": [
    "from sklearn.metrics import confusion_matrix\n",
    "import seaborn as sns\n",
    "import matplotlib.pyplot as plt\n",
    "from sklearn.metrics import accuracy_score, precision_score, recall_score, f1_score\n",
    "\n",
    "# Assuming you have 'test_labels' and 'binary_predictions'\n",
    "# test_labels: True labels for the test set\n",
    "# binary_predictions: Predictions made by the model (0 or 1)\n",
    "\n",
    "Y_pred = model.predict(X_val)\n",
    "Y_pred_bin_list = []\n",
    "for val in Y_pred:\n",
    "    if val > 0.5:\n",
    "        Y_pred_bin_list.append(1)\n",
    "    else:\n",
    "        Y_pred_bin_list.append(0)\n",
    "Y_pred_bin = np.array(Y_pred_bin_list)\n",
    "#print(Y_pred_bin)\n",
    "\n",
    "# Calculate the confusion matrix\n",
    "conf_matrix = confusion_matrix(y_val, Y_pred_bin)\n",
    "\n",
    "# Display the confusion matrix using a heatmap\n",
    "sns.heatmap(conf_matrix, annot=True, fmt='d', cmap='Blues', annot_kws={\"size\": 16})\n",
    "plt.xlabel('Predicted')\n",
    "plt.ylabel('True')\n",
    "plt.title('Confusion Matrix')\n",
    "plt.show()\n",
    "\n",
    "# Additional metrics\n",
    "accuracy = accuracy_score(y_val, Y_pred_bin)\n",
    "precision = precision_score(y_val, Y_pred_bin)\n",
    "recall = recall_score(y_val, Y_pred_bin)\n",
    "f1 = f1_score(y_val, Y_pred_bin)\n",
    "\n",
    "print(f\"Accuracy: {accuracy * 100:.2f}%\")\n",
    "print(f\"Precision: {precision:.4f}\")\n",
    "print(f\"Recall: {recall:.4f}\")\n",
    "print(f\"F1 Score: {f1:.4f}\")"
   ]
  },
  {
   "cell_type": "code",
   "execution_count": 22,
   "metadata": {},
   "outputs": [
    {
     "name": "stdout",
     "output_type": "stream",
     "text": [
      "32/32 [==============================] - 0s 5ms/step\n"
     ]
    },
    {
     "data": {
      "image/png": "[encoded data removed]",
      "text/plain": [
       "<Figure size 640x480 with 2 Axes>"
      ]
     },
     "metadata": {},
     "output_type": "display_data"
    },
    {
     "name": "stdout",
     "output_type": "stream",
     "text": [
      "Accuracy: 91.83%\n",
      "Precision: 0.8333\n",
      "Recall: 0.3182\n",
      "F1 Score: 0.4605\n"
     ]
    }
   ],
   "source": [
    "from sklearn.metrics import confusion_matrix\n",
    "import seaborn as sns\n",
    "import matplotlib.pyplot as plt\n",
    "from sklearn.metrics import accuracy_score, precision_score, recall_score, f1_score\n",
    "\n",
    "# Assuming you have 'test_labels' and 'binary_predictions'\n",
    "# test_labels: True labels for the test set\n",
    "# binary_predictions: Predictions made by the model (0 or 1)\n",
    "\n",
    "Y_pred = model.predict(X_test)\n",
    "Y_pred_bin_list = []\n",
    "for val in Y_pred:\n",
    "    if val > 0.5:\n",
    "        Y_pred_bin_list.append(1)\n",
    "    else:\n",
    "        Y_pred_bin_list.append(0)\n",
    "Y_pred_bin = np.array(Y_pred_bin_list)\n",
    "# print(Y_pred_bin)\n",
    "\n",
    "# Calculate the confusion matrix\n",
    "conf_matrix = confusion_matrix(y_test, Y_pred_bin)\n",
    "\n",
    "# Display the confusion matrix using a heatmap\n",
    "sns.heatmap(conf_matrix, annot=True, fmt='d', cmap='Blues', annot_kws={\"size\": 16})\n",
    "plt.xlabel('Predicted')\n",
    "plt.ylabel('True')\n",
    "plt.title('Confusion Matrix')\n",
    "plt.show()\n",
    "\n",
    "# Additional metrics\n",
    "accuracy = accuracy_score(y_test, Y_pred_bin)\n",
    "precision = precision_score(y_test, Y_pred_bin)\n",
    "recall = recall_score(y_test, Y_pred_bin)\n",
    "f1 = f1_score(y_test, Y_pred_bin)\n",
    "\n",
    "print(f\"Accuracy: {accuracy * 100:.2f}%\")\n",
    "print(f\"Precision: {precision:.4f}\")\n",
    "print(f\"Recall: {recall:.4f}\")\n",
    "print(f\"F1 Score: {f1:.4f}\")"
   ]
  }
 ],
 "metadata": {
  "kernelspec": {
   "display_name": "Python 3",
   "language": "python",
   "name": "python3"
  },
  "language_info": {
   "codemirror_mode": {
    "name": "ipython",
    "version": 3
   },
   "file_extension": ".py",
   "mimetype": "text/x-python",
   "name": "python",
   "nbconvert_exporter": "python",
   "pygments_lexer": "ipython3",
   "version": "3.10.13"
  }
 },
 "nbformat": 4,
 "nbformat_minor": 2
}
