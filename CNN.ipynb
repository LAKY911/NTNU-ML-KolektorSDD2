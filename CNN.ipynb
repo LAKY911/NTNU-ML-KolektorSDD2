{
 "cells": [
  {
   "cell_type": "markdown",
   "metadata": {},
   "source": [
    "# Kolektor Surface Defect Detection\n",
    "TMM4128 - Machine Learning for Engineers - Semestral Project\n"
   ]
  },
  {
   "cell_type": "markdown",
   "metadata": {},
   "source": [
    "### Import TensorFlow"
   ]
  },
  {
   "cell_type": "code",
   "execution_count": 1,
   "metadata": {},
   "outputs": [],
   "source": [
    "import numpy as np\n",
    "import seaborn as sns\n",
    "import matplotlib.pyplot as plt\n",
    "import cv2\n",
    "import os\n",
    "import pandas as pd\n",
    "# import keras\n",
    "from tensorflow.keras.preprocessing.image import load_img, img_to_array\n",
    "import math"
   ]
  },
  {
   "cell_type": "code",
   "execution_count": 2,
   "metadata": {},
   "outputs": [
    {
     "name": "stdout",
     "output_type": "stream",
     "text": [
      "Number of GPUs:  1\n"
     ]
    }
   ],
   "source": [
    "import tensorflow as tf\n",
    "# CUDA check\n",
    "print(\"Number of GPUs: \", len(tf.config.list_physical_devices('GPU')))"
   ]
  },
  {
   "cell_type": "code",
   "execution_count": 3,
   "metadata": {},
   "outputs": [
    {
     "name": "stdout",
     "output_type": "stream",
     "text": [
      "c:\\Users\\lukasvi\\Documents\\GitHub\\NTNU-ML-KolektorSDD2\n"
     ]
    }
   ],
   "source": [
    "Categories = [\"Undamaged\", \"Damaged\"]\n",
    "data_train = \"./datasets/KolektorSDD2/train/\"\n",
    "data_test = \"./datasets/KolektorSDD2/test/\"\n",
    "current_directory = os.getcwd()\n",
    "print(current_directory)\n",
    "\n",
    "flat_train = []\n",
    "flat_train_GT = []\n",
    "flat_test = []\n",
    "flat_test_GT = []\n",
    "damage_label_train = []\n",
    "damage_label_test = []\n",
    "img_name = []\n",
    "X_train = []\n",
    "X_test = []\n",
    "y_train = []\n",
    "y_test = []\n",
    "\n",
    "# Average image size\n",
    "img_height = 636 \n",
    "img_width = 229\n",
    "img_size = (img_height, img_width)"
   ]
  },
  {
   "cell_type": "code",
   "execution_count": 4,
   "metadata": {},
   "outputs": [
    {
     "name": "stdout",
     "output_type": "stream",
     "text": [
      "2579 2579\n"
     ]
    }
   ],
   "source": [
    "# Create TRAIN DATA\n",
    "\n",
    "#Create path to folder\n",
    "path = data_train\n",
    "\n",
    "list_damaged = []\n",
    "\n",
    "#For-loop to go through all the contents in the folder\n",
    "for img in os.listdir(path):\n",
    "    #Distinguishing between Groundtruth pictures and Actual pictures\n",
    "    if \"GT\" in img:\n",
    "        img_array = cv2.imread(os.path.join(path,img))\n",
    "        #If the GT Image is Black, no damage is detected\n",
    "        if np.all(img_array == 0): # OK\n",
    "            y_train.append(0)\n",
    "        else:                   # NOK\n",
    "            y_train.append(1) # Original image\n",
    "            list_damaged.append(img)\n",
    "        \n",
    "        #Mark GT images, if any defect is on them\n",
    "    elif \"GT\" not in img:\n",
    "        img2 = load_img(os.path.join(path,img), target_size = img_size) # load image and resize\n",
    "        img_array = img_to_array(img2) # convert image to array\n",
    "        img_array /= 255.0 # normalizing to scale from 0 to 1\n",
    "        X_train.append(img_array) # original image\n",
    "\n",
    "for img_name in list_damaged:\n",
    "    img_name = img_name[:5] + \".png\"\n",
    "    img = load_img(os.path.join(path,img_name), target_size = img_size) # load image and resize\n",
    "    img_array = img_to_array(img2) # convert image to array\n",
    "    img_array /= 255.0 # normalizing to scale from 0 to 1\n",
    "    rotated_image_array = np.rot90(img_array, k=2)\n",
    "    X_train.append(rotated_image_array) # rotated image\n",
    "    y_train.append(1)\n",
    "\n",
    "\n",
    "print(len(X_train), len(y_train))"
   ]
  },
  {
   "cell_type": "code",
   "execution_count": 5,
   "metadata": {},
   "outputs": [],
   "source": [
    "# # Faulty pictures export\n",
    "\n",
    "# import cv2\n",
    "# stop_index = 5 # 5 or 8 for GT\n",
    "# vis = cv2.imread(os.path.join(path,list_damaged[0][:stop_index] + \".png\"))\n",
    "# vis = cv2.resize(vis, (231,636), interpolation = cv2.INTER_LINEAR)\n",
    "\n",
    "# for i in range(1, 8):\n",
    "#     img = cv2.imread(os.path.join(path,list_damaged[i][:stop_index] + \".png\"))\n",
    "#     stretch_near = cv2.resize(img, (231,636), interpolation = cv2.INTER_LINEAR)\n",
    "#     vis = np.concatenate((vis, stretch_near), axis=1)\n",
    "\n",
    "# vis1 = cv2.imread(os.path.join(path,list_damaged[8][:stop_index] + \".png\"))\n",
    "# vis1 = cv2.resize(vis1, (231,636), interpolation = cv2.INTER_LINEAR)\n",
    "\n",
    "# for i in range(9, 16):\n",
    "#     img = cv2.imread(os.path.join(path,list_damaged[i][:stop_index] + \".png\"))\n",
    "#     stretch_near = cv2.resize(img, (231,636), interpolation = cv2.INTER_LINEAR)\n",
    "#     vis1 = np.concatenate((vis1, stretch_near), axis=1)\n",
    "# # cv2.imshow('Horizontal', vis)\n",
    "\n",
    "# visAll = np.concatenate((vis, vis1), axis=0)\n",
    "\n",
    "# cv2.imwrite('out.png', visAll)"
   ]
  },
  {
   "cell_type": "code",
   "execution_count": 6,
   "metadata": {},
   "outputs": [],
   "source": [
    "# Create TEST DATA \n",
    "\n",
    "#Create path to folder\n",
    "path = data_test\n",
    "\n",
    "#For-loop to go through all the contents in the folder\n",
    "for img in os.listdir(path):\n",
    "    #Distinguishing between Groundtruth pictures and Actual pictures\n",
    "    \n",
    "    if \"GT\" in img:\n",
    "        img_array = cv2.imread(os.path.join(path,img))\n",
    "        flat_test_GT.append(img_array.flatten())\n",
    "        #If the GT Image is Black, no damage is detected\n",
    "        if np.all(img_array == 0):\n",
    "            y_test.append(0)\n",
    "        else:\n",
    "            y_test.append(1)\n",
    "        #Mark GT images, if any defect is on them\n",
    "    elif \"GT\" not in img:\n",
    "        img2 = load_img(os.path.join(path,img), target_size = img_size) # load image and resize\n",
    "        img_array = img_to_array(img2) # convert image to array\n",
    "        img_array /= 255.0 # normalizing to scale from 0 to 1\n",
    "        X_test.append(img_array)"
   ]
  },
  {
   "cell_type": "code",
   "execution_count": 7,
   "metadata": {},
   "outputs": [
    {
     "name": "stdout",
     "output_type": "stream",
     "text": [
      "(2579, 636, 229, 3)\n",
      "(2579,)\n",
      "(1004, 636, 229, 3)\n",
      "(1004,)\n"
     ]
    }
   ],
   "source": [
    "X_train = np.array(X_train) \n",
    "X_test = np.array(X_test) \n",
    "y_train = np.array(y_train) \n",
    "y_test = np.array(y_test) \n",
    "\n",
    "print(X_train.shape)\n",
    "print(y_train.shape)\n",
    "print(X_test.shape)\n",
    "print(y_test.shape)"
   ]
  },
  {
   "cell_type": "code",
   "execution_count": 8,
   "metadata": {},
   "outputs": [
    {
     "name": "stdout",
     "output_type": "stream",
     "text": [
      "{0: 2085, 1: 494}\n",
      "Percentage of faulty images in all train data: 19.15471112834432  %\n"
     ]
    }
   ],
   "source": [
    "# Faulty vs non-faulty images\n",
    "unique, counts = np.unique(y_train, return_counts=True)\n",
    "pos = counts[1]\n",
    "neg = counts[0]\n",
    "print(dict(zip(unique, counts)))\n",
    "print(\"Percentage of faulty images in all train data:\", counts[1]/len(y_train)*100, \" %\")"
   ]
  },
  {
   "cell_type": "code",
   "execution_count": 9,
   "metadata": {},
   "outputs": [
    {
     "name": "stdout",
     "output_type": "stream",
     "text": [
      "x_train shape (1805, 636, 229, 3)\n",
      "x_val shape (774, 636, 229, 3)\n",
      "y_train shape (1805,)\n",
      "y_val shape (774,)\n"
     ]
    }
   ],
   "source": [
    "# Train - Test split\n",
    "\n",
    "from sklearn.model_selection import train_test_split\n",
    "X_train, X_val, y_train, y_val = train_test_split(X_train, y_train, test_size = 0.3, random_state = 4)\n",
    "print(\"x_train shape\",X_train.shape)\n",
    "print(\"x_val shape\",X_val.shape)\n",
    "print(\"y_train shape\",y_train.shape)\n",
    "print(\"y_val shape\",y_val.shape)\n"
   ]
  },
  {
   "cell_type": "code",
   "execution_count": 10,
   "metadata": {},
   "outputs": [
    {
     "name": "stdout",
     "output_type": "stream",
     "text": [
      "{0: 1447, 1: 358}\n",
      "Percentage of faulty images in train data: 19.833795013850416  %\n",
      "{0: 638, 1: 136}\n",
      "Percentage of faulty images in test data: 17.571059431524546  %\n"
     ]
    }
   ],
   "source": [
    "unique, counts = np.unique(y_train, return_counts=True)\n",
    "\n",
    "print(dict(zip(unique, counts)))\n",
    "print(\"Percentage of faulty images in train data:\", counts[1]/len(y_train)*100, \" %\")\n",
    "\n",
    "unique, counts = np.unique(y_val, return_counts=True)\n",
    "\n",
    "print(dict(zip(unique, counts)))\n",
    "print(\"Percentage of faulty images in test data:\", counts[1]/len(y_val)*100, \" %\")"
   ]
  },
  {
   "cell_type": "code",
   "execution_count": 11,
   "metadata": {},
   "outputs": [],
   "source": [
    "from sklearn.metrics import confusion_matrix\n",
    "import itertools\n",
    "\n",
    "from keras.utils import to_categorical # convert to one-hot-encoding\n",
    "from keras.models import Sequential\n",
    "from keras.layers import Dense, Dropout, Flatten, Conv2D, MaxPool2D\n",
    "from keras import layers\n",
    "from keras.optimizers import RMSprop,Adam\n",
    "from keras.preprocessing.image import ImageDataGenerator\n",
    "from keras.callbacks import ReduceLROnPlateau\n",
    "\n",
    "\n",
    "initial_bias = np.log([pos/neg])\n",
    "# print(initial_bias)\n",
    "\n",
    "output_bias = tf.keras.initializers.Constant(initial_bias)\n",
    "\n",
    "\n",
    "model = Sequential()\n",
    "\n",
    "model.add(Conv2D(filters = 32, kernel_size = (3,3),padding = 'Same', \n",
    "                 activation ='relu', input_shape = (img_height,img_width,3)))\n",
    "\n",
    "model.add(MaxPool2D(pool_size=(2,2)))\n",
    "model.add(Dropout(0.25))\n",
    "\n",
    "model.add(Conv2D(filters = 64, kernel_size = (3,3),padding = 'Same', \n",
    "                 activation ='relu'))\n",
    "model.add(MaxPool2D(pool_size=(2,2)))\n",
    "model.add(Dropout(0.25))\n",
    "\n",
    "model.add(Conv2D(filters = 128, kernel_size = (3,3),padding = 'Same', \n",
    "                 activation ='relu', input_shape = (img_height,img_width,3)))\n",
    "model.add(MaxPool2D(pool_size=(2,2)))\n",
    "\n",
    "# fully connected\n",
    "model.add(Flatten())\n",
    "model.add(Dense(128, activation = \"relu\"))\n",
    "model.add(Dropout(0.5))\n",
    "model.add(Dense(1, activation = \"sigmoid\", bias_initializer=output_bias))\n",
    "\n",
    "\n"
   ]
  },
  {
   "cell_type": "markdown",
   "metadata": {},
   "source": [
    "### Test of Autoencoder for de-noising"
   ]
  },
  {
   "cell_type": "code",
   "execution_count": 22,
   "metadata": {},
   "outputs": [
    {
     "name": "stdout",
     "output_type": "stream",
     "text": [
      "Model: \"model_4\"\n",
      "_________________________________________________________________\n",
      " Layer (type)                Output Shape              Param #   \n",
      "=================================================================\n",
      " input_5 (InputLayer)        [(None, 636, 229, 3)]     0         \n",
      "                                                                 \n",
      " conv2d_15 (Conv2D)          (None, 636, 229, 32)      896       \n",
      "                                                                 \n",
      " max_pooling2d_11 (MaxPoolin  (None, 318, 115, 32)     0         \n",
      " g2D)                                                            \n",
      "                                                                 \n",
      " conv2d_16 (Conv2D)          (None, 318, 115, 32)      9248      \n",
      "                                                                 \n",
      " max_pooling2d_12 (MaxPoolin  (None, 159, 58, 32)      0         \n",
      " g2D)                                                            \n",
      "                                                                 \n",
      " conv2d_transpose_8 (Conv2DT  (None, 318, 116, 32)     9248      \n",
      " ranspose)                                                       \n",
      "                                                                 \n",
      " conv2d_transpose_9 (Conv2DT  (None, 636, 232, 32)     9248      \n",
      " ranspose)                                                       \n",
      "                                                                 \n",
      " conv2d_17 (Conv2D)          (None, 636, 232, 1)       289       \n",
      "                                                                 \n",
      " flatten_3 (Flatten)         (None, 147552)            0         \n",
      "                                                                 \n",
      " dense_5 (Dense)             (None, 1)                 147553    \n",
      "                                                                 \n",
      "=================================================================\n",
      "Total params: 176,482\n",
      "Trainable params: 176,482\n",
      "Non-trainable params: 0\n",
      "_________________________________________________________________\n"
     ]
    }
   ],
   "source": [
    "import numpy as np\n",
    "import matplotlib.pyplot as plt\n",
    "\n",
    "from keras import layers\n",
    "from keras.models import Model\n",
    "\n",
    "# Autoencoder\n",
    "\n",
    "input = layers.Input(shape=(img_height, img_width, 3))\n",
    "\n",
    "# Encoder\n",
    "x = layers.Conv2D(32, (3, 3), activation=\"relu\", padding=\"same\")(input)\n",
    "x = layers.MaxPooling2D((2, 2), padding=\"same\")(x)\n",
    "x = layers.Conv2D(32, (3, 3), activation=\"relu\", padding=\"same\")(x)\n",
    "x = layers.MaxPooling2D((2, 2), padding=\"same\")(x)\n",
    "\n",
    "# Decoder\n",
    "x = layers.Conv2DTranspose(32, (3, 3), strides=2, activation=\"relu\", padding=\"same\")(x)\n",
    "x = layers.Conv2DTranspose(32, (3, 3), strides=2, activation=\"relu\", padding=\"same\")(x)\n",
    "x = layers.Conv2D(1, (3, 3), activation=\"sigmoid\", padding=\"same\")(x)\n",
    "\n",
    "x = layers.Flatten()(x)\n",
    "x = layers.Dense(1, activation=\"sigmoid\")(x) # binary activation output\n",
    "# Autoencoder\n",
    "autoencoder = Model(input, x)\n",
    "autoencoder.compile(optimizer=\"adam\", loss=\"binary_crossentropy\", metrics=[\"accuracy\"])\n",
    "autoencoder.summary()\n",
    "\n",
    "from keras.callbacks import EarlyStopping\n",
    "early_stopping = EarlyStopping(monitor='val_loss', mode='min', verbose=1, patience=6)\n"
   ]
  },
  {
   "cell_type": "code",
   "execution_count": 23,
   "metadata": {},
   "outputs": [
    {
     "name": "stdout",
     "output_type": "stream",
     "text": [
      "Epoch 1/50\n",
      "15/15 [==============================] - 12s 755ms/step - loss: 9.4195 - accuracy: 0.6687 - val_loss: 2.2099 - val_accuracy: 0.8243\n",
      "Epoch 2/50\n",
      "15/15 [==============================] - 10s 699ms/step - loss: 1.5226 - accuracy: 0.7163 - val_loss: 0.6418 - val_accuracy: 0.8243\n",
      "Epoch 3/50\n",
      "15/15 [==============================] - 10s 701ms/step - loss: 0.6759 - accuracy: 0.8017 - val_loss: 0.6806 - val_accuracy: 0.8243\n",
      "Epoch 4/50\n",
      "15/15 [==============================] - 11s 703ms/step - loss: 0.6798 - accuracy: 0.8017 - val_loss: 0.6737 - val_accuracy: 0.8243\n",
      "Epoch 5/50\n",
      "15/15 [==============================] - 11s 703ms/step - loss: 0.6700 - accuracy: 0.8017 - val_loss: 0.6555 - val_accuracy: 0.8243\n",
      "Epoch 6/50\n",
      "15/15 [==============================] - 11s 705ms/step - loss: 0.6382 - accuracy: 0.8017 - val_loss: 0.5771 - val_accuracy: 0.8243\n",
      "Epoch 7/50\n",
      "15/15 [==============================] - 11s 706ms/step - loss: 0.5287 - accuracy: 0.8017 - val_loss: 0.4521 - val_accuracy: 0.8243\n",
      "Epoch 8/50\n",
      "15/15 [==============================] - 11s 710ms/step - loss: 0.4929 - accuracy: 0.8017 - val_loss: 0.4537 - val_accuracy: 0.8243\n",
      "Epoch 9/50\n",
      "15/15 [==============================] - 11s 712ms/step - loss: 0.4873 - accuracy: 0.8017 - val_loss: 0.4433 - val_accuracy: 0.8243\n",
      "Epoch 10/50\n",
      "15/15 [==============================] - 11s 709ms/step - loss: 0.4820 - accuracy: 0.8017 - val_loss: 0.4422 - val_accuracy: 0.8243\n",
      "Epoch 11/50\n",
      "15/15 [==============================] - 11s 711ms/step - loss: 0.4790 - accuracy: 0.8017 - val_loss: 0.4349 - val_accuracy: 0.8243\n",
      "Epoch 12/50\n",
      "15/15 [==============================] - 11s 712ms/step - loss: 0.4756 - accuracy: 0.8017 - val_loss: 0.4315 - val_accuracy: 0.8243\n",
      "Epoch 13/50\n",
      "15/15 [==============================] - 11s 713ms/step - loss: 0.4730 - accuracy: 0.8017 - val_loss: 0.4286 - val_accuracy: 0.8243\n",
      "Epoch 14/50\n",
      "15/15 [==============================] - 11s 712ms/step - loss: 0.4694 - accuracy: 0.8017 - val_loss: 0.4299 - val_accuracy: 0.8243\n",
      "Epoch 15/50\n",
      "15/15 [==============================] - 11s 713ms/step - loss: 0.4693 - accuracy: 0.8017 - val_loss: 0.4190 - val_accuracy: 0.8243\n",
      "Epoch 16/50\n",
      "15/15 [==============================] - 11s 715ms/step - loss: 0.4662 - accuracy: 0.8017 - val_loss: 0.4177 - val_accuracy: 0.8243\n",
      "Epoch 17/50\n",
      "15/15 [==============================] - 11s 719ms/step - loss: 0.4587 - accuracy: 0.8017 - val_loss: 0.4127 - val_accuracy: 0.8243\n",
      "Epoch 18/50\n",
      "15/15 [==============================] - 11s 713ms/step - loss: 0.4543 - accuracy: 0.8017 - val_loss: 0.4002 - val_accuracy: 0.8243\n",
      "Epoch 19/50\n",
      "15/15 [==============================] - 10s 702ms/step - loss: 0.4468 - accuracy: 0.8017 - val_loss: 0.3857 - val_accuracy: 0.8243\n",
      "Epoch 20/50\n",
      "15/15 [==============================] - 10s 695ms/step - loss: 0.4365 - accuracy: 0.8017 - val_loss: 0.3865 - val_accuracy: 0.8243\n",
      "Epoch 21/50\n",
      "15/15 [==============================] - 10s 701ms/step - loss: 0.4253 - accuracy: 0.8022 - val_loss: 0.3616 - val_accuracy: 0.9302\n",
      "Epoch 22/50\n",
      "15/15 [==============================] - 11s 710ms/step - loss: 0.4099 - accuracy: 0.8759 - val_loss: 0.3393 - val_accuracy: 0.9302\n",
      "Epoch 23/50\n",
      "15/15 [==============================] - 10s 693ms/step - loss: 0.4032 - accuracy: 0.8864 - val_loss: 0.3194 - val_accuracy: 0.9302\n",
      "Epoch 24/50\n",
      "15/15 [==============================] - 10s 690ms/step - loss: 0.3736 - accuracy: 0.8931 - val_loss: 0.2918 - val_accuracy: 0.9302\n",
      "Epoch 25/50\n",
      "15/15 [==============================] - 10s 693ms/step - loss: 0.3483 - accuracy: 0.8953 - val_loss: 0.2712 - val_accuracy: 0.9302\n",
      "Epoch 26/50\n",
      "15/15 [==============================] - 10s 693ms/step - loss: 0.3371 - accuracy: 0.8964 - val_loss: 0.2601 - val_accuracy: 0.9302\n",
      "Epoch 27/50\n",
      "15/15 [==============================] - 10s 695ms/step - loss: 0.3308 - accuracy: 0.8958 - val_loss: 0.2587 - val_accuracy: 0.9302\n",
      "Epoch 28/50\n",
      "15/15 [==============================] - 10s 696ms/step - loss: 0.3281 - accuracy: 0.8958 - val_loss: 0.2548 - val_accuracy: 0.9289\n",
      "Epoch 29/50\n",
      "15/15 [==============================] - 10s 695ms/step - loss: 0.3315 - accuracy: 0.8953 - val_loss: 0.2587 - val_accuracy: 0.9302\n",
      "Epoch 30/50\n",
      "15/15 [==============================] - 10s 696ms/step - loss: 0.3240 - accuracy: 0.8958 - val_loss: 0.2528 - val_accuracy: 0.9289\n",
      "Epoch 31/50\n",
      "15/15 [==============================] - 10s 695ms/step - loss: 0.3209 - accuracy: 0.8975 - val_loss: 0.2741 - val_accuracy: 0.9264\n",
      "Epoch 32/50\n",
      "15/15 [==============================] - 10s 695ms/step - loss: 0.3201 - accuracy: 0.8992 - val_loss: 0.2540 - val_accuracy: 0.9289\n",
      "Epoch 33/50\n",
      "15/15 [==============================] - 10s 695ms/step - loss: 0.3172 - accuracy: 0.8986 - val_loss: 0.2499 - val_accuracy: 0.9289\n",
      "Epoch 34/50\n",
      "15/15 [==============================] - 10s 692ms/step - loss: 0.3135 - accuracy: 0.9003 - val_loss: 0.2526 - val_accuracy: 0.9302\n",
      "Epoch 35/50\n",
      "15/15 [==============================] - 10s 697ms/step - loss: 0.3106 - accuracy: 0.9003 - val_loss: 0.2597 - val_accuracy: 0.9302\n",
      "Epoch 36/50\n",
      "15/15 [==============================] - 10s 693ms/step - loss: 0.3130 - accuracy: 0.9003 - val_loss: 0.2641 - val_accuracy: 0.9276\n",
      "Epoch 37/50\n",
      "15/15 [==============================] - 10s 694ms/step - loss: 0.3127 - accuracy: 0.8981 - val_loss: 0.2653 - val_accuracy: 0.9302\n",
      "Epoch 38/50\n",
      "15/15 [==============================] - 11s 707ms/step - loss: 0.3163 - accuracy: 0.8986 - val_loss: 0.2584 - val_accuracy: 0.9302\n",
      "Epoch 39/50\n",
      "15/15 [==============================] - 11s 707ms/step - loss: 0.3117 - accuracy: 0.8964 - val_loss: 0.2666 - val_accuracy: 0.9302\n",
      "Epoch 39: early stopping\n"
     ]
    },
    {
     "data": {
      "text/plain": [
       "<keras.callbacks.History at 0x1818e455990>"
      ]
     },
     "execution_count": 23,
     "metadata": {},
     "output_type": "execute_result"
    }
   ],
   "source": [
    "autoencoder.fit(\n",
    "    x=X_train,\n",
    "    y=y_train,\n",
    "    epochs=50,\n",
    "    batch_size=128,\n",
    "    shuffle=True,\n",
    "    validation_data=(X_val, y_val), \n",
    "    callbacks=[early_stopping]\n",
    ")"
   ]
  },
  {
   "cell_type": "code",
   "execution_count": 24,
   "metadata": {},
   "outputs": [
    {
     "name": "stdout",
     "output_type": "stream",
     "text": [
      "7/7 [==============================] - 2s 162ms/step - loss: 0.2666 - accuracy: 0.9302\n",
      "Accuracy of the model is -->  93.0232584476471 %\n",
      "7/7 [==============================] - 1s 160ms/step - loss: 0.2666 - accuracy: 0.9302\n",
      "Loss of the model is -->  0.2665816843509674\n"
     ]
    }
   ],
   "source": [
    "print(\"Accuracy of the model is --> \" , autoencoder.evaluate(X_val, y_val, batch_size=128)[1]*100 , \"%\")\n",
    "print(\"Loss of the model is --> \" , autoencoder.evaluate(X_val, y_val, batch_size=128)[0])"
   ]
  },
  {
   "cell_type": "markdown",
   "metadata": {},
   "source": [
    "### End of Autoencoder"
   ]
  },
  {
   "cell_type": "code",
   "execution_count": 12,
   "metadata": {},
   "outputs": [],
   "source": [
    "# Define the optimizer\n",
    "# In neural networks, an optimizer is an algorithm used to adjust the weights and biases \n",
    "# of the network during training in order to minimize the loss function and improve the accuracy of the model.\n",
    "\n",
    "optimizer = Adam(learning_rate=0.001) # , beta_1=0.9, beta_2=0.999"
   ]
  },
  {
   "cell_type": "code",
   "execution_count": 13,
   "metadata": {},
   "outputs": [],
   "source": [
    "model.compile(optimizer = optimizer , loss = \"binary_crossentropy\", metrics=[\"accuracy\"])\n",
    "model.summary()"
   ]
  },
  {
   "cell_type": "code",
   "execution_count": 14,
   "metadata": {},
   "outputs": [],
   "source": [
    "epochs = 100  \n",
    "batch_size = 250"
   ]
  },
  {
   "cell_type": "code",
   "execution_count": 15,
   "metadata": {},
   "outputs": [],
   "source": [
    "from keras.callbacks import EarlyStopping\n",
    "early_stopping = EarlyStopping(monitor='val_loss', mode='min', verbose=1, patience=6)"
   ]
  },
  {
   "cell_type": "code",
   "execution_count": 16,
   "metadata": {},
   "outputs": [
    {
     "name": "stdout",
     "output_type": "stream",
     "text": [
      "Epoch 1/100\n",
      "7/7 [==============================] - 24s 2s/step - loss: 2.7051 - accuracy: 0.7163 - val_loss: 0.4655 - val_accuracy: 0.8243\n",
      "Epoch 2/100\n",
      "7/7 [==============================] - 5s 769ms/step - loss: 0.5007 - accuracy: 0.8017 - val_loss: 0.4657 - val_accuracy: 0.8243\n",
      "Epoch 3/100\n",
      "7/7 [==============================] - 5s 766ms/step - loss: 0.4980 - accuracy: 0.8017 - val_loss: 0.4658 - val_accuracy: 0.8243\n",
      "Epoch 4/100\n",
      "7/7 [==============================] - 5s 769ms/step - loss: 0.4979 - accuracy: 0.8017 - val_loss: 0.4657 - val_accuracy: 0.8243\n",
      "Epoch 5/100\n",
      "7/7 [==============================] - 5s 780ms/step - loss: 0.4973 - accuracy: 0.8017 - val_loss: 0.4644 - val_accuracy: 0.8243\n",
      "Epoch 6/100\n",
      "7/7 [==============================] - 5s 779ms/step - loss: 0.4939 - accuracy: 0.8017 - val_loss: 0.4521 - val_accuracy: 0.8243\n",
      "Epoch 7/100\n",
      "7/7 [==============================] - 5s 767ms/step - loss: 0.4888 - accuracy: 0.8017 - val_loss: 0.4486 - val_accuracy: 0.8243\n",
      "Epoch 8/100\n",
      "7/7 [==============================] - 5s 764ms/step - loss: 0.4869 - accuracy: 0.8017 - val_loss: 0.4474 - val_accuracy: 0.8243\n",
      "Epoch 9/100\n",
      "7/7 [==============================] - 5s 764ms/step - loss: 0.4711 - accuracy: 0.8017 - val_loss: 0.4236 - val_accuracy: 0.8243\n",
      "Epoch 10/100\n",
      "7/7 [==============================] - 5s 791ms/step - loss: 0.4470 - accuracy: 0.8072 - val_loss: 0.3943 - val_accuracy: 0.8243\n",
      "Epoch 11/100\n",
      "7/7 [==============================] - 5s 782ms/step - loss: 0.4112 - accuracy: 0.8366 - val_loss: 0.3470 - val_accuracy: 0.8243\n",
      "Epoch 12/100\n",
      "7/7 [==============================] - 5s 785ms/step - loss: 0.3753 - accuracy: 0.8770 - val_loss: 0.3022 - val_accuracy: 0.9302\n",
      "Epoch 13/100\n",
      "7/7 [==============================] - 5s 782ms/step - loss: 0.3633 - accuracy: 0.8864 - val_loss: 0.3200 - val_accuracy: 0.8243\n",
      "Epoch 14/100\n",
      "7/7 [==============================] - 5s 778ms/step - loss: 0.3533 - accuracy: 0.8859 - val_loss: 0.2885 - val_accuracy: 0.9302\n",
      "Epoch 15/100\n",
      "7/7 [==============================] - 5s 777ms/step - loss: 0.3402 - accuracy: 0.8942 - val_loss: 0.2773 - val_accuracy: 0.9302\n",
      "Epoch 16/100\n",
      "7/7 [==============================] - 5s 783ms/step - loss: 0.3299 - accuracy: 0.8942 - val_loss: 0.2713 - val_accuracy: 0.9302\n",
      "Epoch 17/100\n",
      "7/7 [==============================] - 5s 780ms/step - loss: 0.3103 - accuracy: 0.8958 - val_loss: 0.2486 - val_accuracy: 0.9302\n",
      "Epoch 18/100\n",
      "7/7 [==============================] - 5s 793ms/step - loss: 0.2977 - accuracy: 0.8975 - val_loss: 0.2617 - val_accuracy: 0.9302\n",
      "Epoch 19/100\n",
      "7/7 [==============================] - 5s 787ms/step - loss: 0.2826 - accuracy: 0.9014 - val_loss: 0.2500 - val_accuracy: 0.9302\n",
      "Epoch 20/100\n",
      "7/7 [==============================] - 5s 782ms/step - loss: 0.2758 - accuracy: 0.9069 - val_loss: 0.2495 - val_accuracy: 0.9328\n",
      "Epoch 21/100\n",
      "7/7 [==============================] - 5s 791ms/step - loss: 0.2670 - accuracy: 0.9108 - val_loss: 0.2512 - val_accuracy: 0.9341\n",
      "Epoch 22/100\n",
      "7/7 [==============================] - 5s 796ms/step - loss: 0.2432 - accuracy: 0.9180 - val_loss: 0.2376 - val_accuracy: 0.9380\n",
      "Epoch 23/100\n",
      "7/7 [==============================] - 5s 795ms/step - loss: 0.2298 - accuracy: 0.9258 - val_loss: 0.2230 - val_accuracy: 0.9393\n",
      "Epoch 24/100\n",
      "7/7 [==============================] - 5s 789ms/step - loss: 0.2072 - accuracy: 0.9285 - val_loss: 0.2187 - val_accuracy: 0.9393\n",
      "Epoch 25/100\n",
      "7/7 [==============================] - 5s 790ms/step - loss: 0.2029 - accuracy: 0.9302 - val_loss: 0.2206 - val_accuracy: 0.9444\n",
      "Epoch 26/100\n",
      "7/7 [==============================] - 5s 794ms/step - loss: 0.1749 - accuracy: 0.9396 - val_loss: 0.2210 - val_accuracy: 0.9432\n",
      "Epoch 27/100\n",
      "7/7 [==============================] - 5s 792ms/step - loss: 0.1696 - accuracy: 0.9463 - val_loss: 0.2173 - val_accuracy: 0.9470\n",
      "Epoch 28/100\n",
      "7/7 [==============================] - 5s 781ms/step - loss: 0.4714 - accuracy: 0.8310 - val_loss: 0.4535 - val_accuracy: 0.8243\n",
      "Epoch 29/100\n",
      "7/7 [==============================] - 5s 767ms/step - loss: 0.4493 - accuracy: 0.8061 - val_loss: 0.4511 - val_accuracy: 0.8243\n",
      "Epoch 30/100\n",
      "7/7 [==============================] - 5s 766ms/step - loss: 0.3478 - accuracy: 0.8598 - val_loss: 0.2557 - val_accuracy: 0.9315\n",
      "Epoch 31/100\n",
      "7/7 [==============================] - 5s 777ms/step - loss: 0.2679 - accuracy: 0.9108 - val_loss: 0.2515 - val_accuracy: 0.9367\n",
      "Epoch 32/100\n",
      "7/7 [==============================] - 5s 782ms/step - loss: 0.2183 - accuracy: 0.9330 - val_loss: 0.2823 - val_accuracy: 0.9367\n",
      "Epoch 33/100\n",
      "7/7 [==============================] - 5s 775ms/step - loss: 0.1915 - accuracy: 0.9396 - val_loss: 0.2450 - val_accuracy: 0.9406\n",
      "Epoch 33: early stopping\n"
     ]
    }
   ],
   "source": [
    "# Lets fit the model\n",
    "\n",
    "history = model.fit(X_train, \n",
    "                    y_train, \n",
    "                    epochs = epochs, \n",
    "                    validation_data = (X_val, y_val), \n",
    "                    steps_per_epoch=X_train.shape[0] // batch_size, \n",
    "                    callbacks=[early_stopping]) "
   ]
  },
  {
   "cell_type": "code",
   "execution_count": 17,
   "metadata": {},
   "outputs": [
    {
     "name": "stdout",
     "output_type": "stream",
     "text": [
      "4/4 [==============================] - 2s 222ms/step - loss: 0.2450 - accuracy: 0.9406\n",
      "Accuracy of the model is -->  94.05684471130371 %\n",
      "4/4 [==============================] - 1s 140ms/step - loss: 0.2450 - accuracy: 0.9406\n",
      "Loss of the model is -->  0.24496020376682281\n"
     ]
    }
   ],
   "source": [
    "print(\"Accuracy of the model is --> \" , model.evaluate(X_val, y_val, batch_size=batch_size)[1]*100 , \"%\")\n",
    "print(\"Loss of the model is --> \" , model.evaluate(X_val, y_val, batch_size=batch_size)[0])"
   ]
  },
  {
   "cell_type": "code",
   "execution_count": 18,
   "metadata": {},
   "outputs": [
    {
     "data": {
      "image/png": "[encoded data removed]",
      "text/plain": [
       "<Figure size 640x480 with 1 Axes>"
      ]
     },
     "metadata": {},
     "output_type": "display_data"
    }
   ],
   "source": [
    "# Model Loss\n",
    "\n",
    "plt.figure()\n",
    "plt.plot(history.history[\"loss\"],label = \"Train Loss\", color = \"black\")\n",
    "plt.plot(history.history[\"val_loss\"],label = \"Validation Loss\", color = \"darkred\", marker = \"+\", linestyle=\"dashed\",markeredgecolor = \"purple\", markeredgewidth = 2)\n",
    "plt.title(\"Model Loss\", color = \"darkred\", size = 13)\n",
    "plt.legend()\n",
    "plt.show()"
   ]
  },
  {
   "cell_type": "code",
   "execution_count": 19,
   "metadata": {},
   "outputs": [
    {
     "data": {
      "image/png": "[encoded data removed]",
      "text/plain": [
       "<Figure size 640x480 with 1 Axes>"
      ]
     },
     "metadata": {},
     "output_type": "display_data"
    }
   ],
   "source": [
    "# Model Accuracy \n",
    "\n",
    "plt.figure()\n",
    "plt.plot(history.history[\"accuracy\"],label = \"Train Accuracy\", color = \"black\")\n",
    "plt.plot(history.history[\"val_accuracy\"],label = \"Validation Accuracy\", color = \"darkred\", marker = \"+\", linestyle=\"dashed\",markeredgecolor = \"purple\", markeredgewidth = 2)\n",
    "plt.title(\"Model Accuracy\", color = \"darkred\", size = 13)\n",
    "plt.legend()\n",
    "plt.show()"
   ]
  },
  {
   "cell_type": "code",
   "execution_count": 21,
   "metadata": {},
   "outputs": [
    {
     "name": "stdout",
     "output_type": "stream",
     "text": [
      "32/32 [==============================] - 1s 30ms/step\n",
      "[[0.10447237]\n",
      " [0.09657013]\n",
      " [0.08817079]\n",
      " ...\n",
      " [0.07354869]\n",
      " [0.06230111]\n",
      " [0.05910594]]\n",
      "{0: 894, 1: 110}\n",
      "0.8904382470119522\n",
      "Test accuracy: 90.74%\n"
     ]
    }
   ],
   "source": [
    "Y_predict_test = model.predict(X_test)\n",
    "print(Y_predict_test)\n",
    "\n",
    "binary_predictions = (Y_predict_test > 0.5).astype(int)\n",
    "\n",
    "accuracy = (binary_predictions.flatten() == y_test).mean()\n",
    "unique, counts = np.unique(y_test, return_counts=True)\n",
    "\n",
    "print(dict(zip(unique, counts)))\n",
    "print(894/len(y_test))\n",
    "\n",
    "print(f\"Test accuracy: {accuracy * 100:.2f}%\")"
   ]
  },
  {
   "cell_type": "markdown",
   "metadata": {},
   "source": [
    "Test accuracy: 89.34 %\n",
    "\n",
    "Test accuracy: 92.13 % (I don't know what changed, only the image size... 636x229)\n",
    "\n",
    "90.74 % with initial bias"
   ]
  },
  {
   "cell_type": "code",
   "execution_count": 22,
   "metadata": {},
   "outputs": [
    {
     "name": "stdout",
     "output_type": "stream",
     "text": [
      "25/25 [==============================] - 1s 29ms/step\n"
     ]
    },
    {
     "data": {
      "image/png": "[encoded data removed]",
      "text/plain": [
       "<Figure size 640x480 with 2 Axes>"
      ]
     },
     "metadata": {},
     "output_type": "display_data"
    },
    {
     "name": "stdout",
     "output_type": "stream",
     "text": [
      "Accuracy: 94.06%\n",
      "Precision: 0.9688\n",
      "Recall: 0.6838\n",
      "F1 Score: 0.8017\n"
     ]
    }
   ],
   "source": [
    "from sklearn.metrics import confusion_matrix\n",
    "import seaborn as sns\n",
    "import matplotlib.pyplot as plt\n",
    "from sklearn.metrics import accuracy_score, precision_score, recall_score, f1_score\n",
    "\n",
    "# Assuming you have 'test_labels' and 'binary_predictions'\n",
    "# test_labels: True labels for the test set\n",
    "# binary_predictions: Predictions made by the model (0 or 1)\n",
    "\n",
    "Y_pred = model.predict(X_val)\n",
    "Y_pred_bin_list = []\n",
    "for val in Y_pred:\n",
    "    if val > 0.5:\n",
    "        Y_pred_bin_list.append(1)\n",
    "    else:\n",
    "        Y_pred_bin_list.append(0)\n",
    "Y_pred_bin = np.array(Y_pred_bin_list)\n",
    "#print(Y_pred_bin)\n",
    "\n",
    "# Calculate the confusion matrix\n",
    "conf_matrix = confusion_matrix(y_val, Y_pred_bin)\n",
    "\n",
    "# Display the confusion matrix using a heatmap\n",
    "sns.heatmap(conf_matrix, annot=True, fmt='d', cmap='Blues', annot_kws={\"size\": 16})\n",
    "plt.xlabel('Predicted')\n",
    "plt.ylabel('True')\n",
    "plt.title('Confusion Matrix')\n",
    "plt.show()\n",
    "\n",
    "# Additional metrics\n",
    "accuracy = accuracy_score(y_val, Y_pred_bin)\n",
    "precision = precision_score(y_val, Y_pred_bin)\n",
    "recall = recall_score(y_val, Y_pred_bin)\n",
    "f1 = f1_score(y_val, Y_pred_bin)\n",
    "\n",
    "print(f\"Accuracy: {accuracy * 100:.2f}%\")\n",
    "print(f\"Precision: {precision:.4f}\")\n",
    "print(f\"Recall: {recall:.4f}\")\n",
    "print(f\"F1 Score: {f1:.4f}\")"
   ]
  },
  {
   "cell_type": "code",
   "execution_count": 26,
   "metadata": {},
   "outputs": [
    {
     "name": "stdout",
     "output_type": "stream",
     "text": [
      "32/32 [==============================] - 2s 51ms/step\n"
     ]
    },
    {
     "data": {
      "image/png": "[encoded data removed]",
      "text/plain": [
       "<Figure size 640x480 with 2 Axes>"
      ]
     },
     "metadata": {},
     "output_type": "display_data"
    },
    {
     "name": "stdout",
     "output_type": "stream",
     "text": [
      "Accuracy: 89.14%\n",
      "Precision: 0.6667\n",
      "Recall: 0.0182\n",
      "F1 Score: 0.0354\n"
     ]
    }
   ],
   "source": [
    "from sklearn.metrics import confusion_matrix\n",
    "import seaborn as sns\n",
    "import matplotlib.pyplot as plt\n",
    "from sklearn.metrics import accuracy_score, precision_score, recall_score, f1_score\n",
    "\n",
    "# Assuming you have 'test_labels' and 'binary_predictions'\n",
    "# test_labels: True labels for the test set\n",
    "# binary_predictions: Predictions made by the model (0 or 1)\n",
    "\n",
    "Y_pred = model.predict(X_test)\n",
    "Y_pred_bin_list = []\n",
    "for val in Y_pred:\n",
    "    if val > 0.5:\n",
    "        Y_pred_bin_list.append(1)\n",
    "    else:\n",
    "        Y_pred_bin_list.append(0)\n",
    "Y_pred_bin = np.array(Y_pred_bin_list)\n",
    "# print(Y_pred_bin)\n",
    "\n",
    "# Calculate the confusion matrix\n",
    "conf_matrix = confusion_matrix(y_test, Y_pred_bin)\n",
    "\n",
    "# Display the confusion matrix using a heatmap\n",
    "sns.heatmap(conf_matrix, annot=True, fmt='d', cmap='Blues', annot_kws={\"size\": 16})\n",
    "plt.xlabel('Predicted')\n",
    "plt.ylabel('True')\n",
    "plt.title('Confusion Matrix')\n",
    "plt.show()\n",
    "\n",
    "# Additional metrics\n",
    "accuracy = accuracy_score(y_test, Y_pred_bin)\n",
    "precision = precision_score(y_test, Y_pred_bin)\n",
    "recall = recall_score(y_test, Y_pred_bin)\n",
    "f1 = f1_score(y_test, Y_pred_bin)\n",
    "\n",
    "print(f\"Accuracy: {accuracy * 100:.2f}%\")\n",
    "print(f\"Precision: {precision:.4f}\")\n",
    "print(f\"Recall: {recall:.4f}\")\n",
    "print(f\"F1 Score: {f1:.4f}\")"
   ]
  }
 ],
 "metadata": {
  "kernelspec": {
   "display_name": "Python 3",
   "language": "python",
   "name": "python3"
  },
  "language_info": {
   "codemirror_mode": {
    "name": "ipython",
    "version": 3
   },
   "file_extension": ".py",
   "mimetype": "text/x-python",
   "name": "python",
   "nbconvert_exporter": "python",
   "pygments_lexer": "ipython3",
   "version": "3.10.13"
  }
 },
 "nbformat": 4,
 "nbformat_minor": 2
}
