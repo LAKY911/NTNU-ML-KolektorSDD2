{
 "cells": [
  {
   "cell_type": "markdown",
   "metadata": {},
   "source": [
    "# Kolektor Surface Defect Detection\n",
    "TMM4128 - Machine Learning for Engineers - Semestral Project\n"
   ]
  },
  {
   "cell_type": "markdown",
   "metadata": {},
   "source": [
    "### Import TensorFlow"
   ]
  },
  {
   "cell_type": "code",
   "execution_count": 1,
   "metadata": {},
   "outputs": [],
   "source": [
    "import numpy as np\n",
    "import seaborn as sns\n",
    "import matplotlib.pyplot as plt\n",
    "import cv2\n",
    "import os\n",
    "import pandas as pd\n",
    "import keras\n",
    "from tensorflow.keras.preprocessing.image import load_img, img_to_array"
   ]
  },
  {
   "cell_type": "code",
   "execution_count": 2,
   "metadata": {},
   "outputs": [
    {
     "name": "stdout",
     "output_type": "stream",
     "text": [
      "Number of GPUs:  1\n"
     ]
    }
   ],
   "source": [
    "import tensorflow as tf\n",
    "\n",
    "print(\"Number of GPUs: \", len(tf.config.list_physical_devices('GPU')))"
   ]
  },
  {
   "cell_type": "code",
   "execution_count": 8,
   "metadata": {},
   "outputs": [
    {
     "name": "stdout",
     "output_type": "stream",
     "text": [
      "c:\\Users\\lukasvi\\Documents\\GitHub\\NTNU-ML-KolektorSDD2\n"
     ]
    }
   ],
   "source": [
    "Categories = [\"Undamaged\", \"Damaged\"]\n",
    "data_train = \"./datasets/KolektorSDD2/train/\"\n",
    "data_test = \"./datasets/KolektorSDD2/test/\"\n",
    "current_directory = os.getcwd()\n",
    "print(current_directory)\n",
    "\n",
    "flat_train = []\n",
    "flat_train_GT = []\n",
    "flat_test = []\n",
    "flat_test_GT = []\n",
    "damage_label_train = []\n",
    "damage_label_test = []\n",
    "img_name = []\n",
    "X_train = []\n",
    "X_test = []\n",
    "y_train = []\n",
    "y_test = []"
   ]
  },
  {
   "cell_type": "code",
   "execution_count": 9,
   "metadata": {},
   "outputs": [],
   "source": [
    "#Create path to folder\n",
    "path = data_train\n",
    "\n",
    "#For-loop to go through all the contents in the folder\n",
    "for img in os.listdir(path):\n",
    "    #Distinguishing between Groundtruth pictures and Actual pictures\n",
    "    if \"GT\" in img:\n",
    "        img_array = cv2.imread(os.path.join(path,img))\n",
    "        flat_train_GT.append(img_array.flatten())\n",
    "        #If the GT Image is Black, no damage is detected\n",
    "        if np.all(img_array == 0):\n",
    "            y_train.append(0)\n",
    "        else:\n",
    "            y_train.append(1)\n",
    "        #Mark GT images, if any defect is on them\n",
    "    elif \"GT\" not in img:\n",
    "        img2 = load_img(os.path.join(path,img), target_size = (231,636))\n",
    "        img_array = img_to_array(img2)\n",
    "        img_array /= 255.0\n",
    "        X_train.append(img_array)"
   ]
  },
  {
   "cell_type": "code",
   "execution_count": 10,
   "metadata": {},
   "outputs": [
    {
     "name": "stdout",
     "output_type": "stream",
     "text": [
      "(2332, 231, 636, 3)\n"
     ]
    }
   ],
   "source": [
    "X_train = np.array(X_train)\n",
    "X_test = np.array(X_test)\n",
    "y_train = np.array(y_train)\n",
    "y_test = np.array(y_test)\n",
    "print(X_train.shape)"
   ]
  },
  {
   "cell_type": "code",
   "execution_count": 11,
   "metadata": {},
   "outputs": [],
   "source": [
    "#df_train = pd.DataFrame(flat_train)\n",
    "#df_train[\"Damage\"] = damage_label_train\n",
    "\n",
    "#df_test = pd.DataFrame(flat_test)\n",
    "#df_test[\"Damage\"] = damage_label_test"
   ]
  },
  {
   "cell_type": "code",
   "execution_count": 12,
   "metadata": {},
   "outputs": [],
   "source": [
    "#X_train = df_train.iloc[:, :-1]\n",
    "#y_train = df_train.iloc[:, -1] \n",
    "\n",
    "#X_test = df_test.iloc[:, -1] \n",
    "#y_test = df_test.iloc[:, -1] "
   ]
  },
  {
   "cell_type": "code",
   "execution_count": 13,
   "metadata": {},
   "outputs": [
    {
     "name": "stdout",
     "output_type": "stream",
     "text": [
      "[[[[0.07450981 0.07843138 0.09019608]\n",
      "   [0.07450981 0.07843138 0.09019608]\n",
      "   [0.07450981 0.07843138 0.09019608]\n",
      "   ...\n",
      "   [0.16470589 0.16862746 0.16862746]\n",
      "   [0.16470589 0.16862746 0.16862746]\n",
      "   [0.16470589 0.16862746 0.16862746]]\n",
      "\n",
      "  [[0.04313726 0.0627451  0.07450981]\n",
      "   [0.04313726 0.0627451  0.07450981]\n",
      "   [0.04313726 0.0627451  0.07450981]\n",
      "   ...\n",
      "   [0.21176471 0.20784314 0.21176471]\n",
      "   [0.21176471 0.20784314 0.21176471]\n",
      "   [0.21176471 0.20784314 0.21176471]]\n",
      "\n",
      "  [[0.09019608 0.10980392 0.11764706]\n",
      "   [0.09019608 0.10980392 0.11764706]\n",
      "   [0.09019608 0.10980392 0.11764706]\n",
      "   ...\n",
      "   [0.18039216 0.16470589 0.19607843]\n",
      "   [0.18039216 0.16470589 0.19607843]\n",
      "   [0.18039216 0.16470589 0.19607843]]\n",
      "\n",
      "  ...\n",
      "\n",
      "  [[0.11764706 0.12941177 0.14901961]\n",
      "   [0.11764706 0.12941177 0.14901961]\n",
      "   [0.11764706 0.12941177 0.14901961]\n",
      "   ...\n",
      "   [0.09411765 0.11764706 0.12941177]\n",
      "   [0.09411765 0.11764706 0.12941177]\n",
      "   [0.09411765 0.11764706 0.12941177]]\n",
      "\n",
      "  [[0.13333334 0.1254902  0.13333334]\n",
      "   [0.13333334 0.1254902  0.13333334]\n",
      "   [0.13333334 0.1254902  0.13333334]\n",
      "   ...\n",
      "   [0.10588235 0.10196079 0.11372549]\n",
      "   [0.10588235 0.10196079 0.11372549]\n",
      "   [0.10588235 0.10196079 0.11372549]]\n",
      "\n",
      "  [[0.09019608 0.11372549 0.14901961]\n",
      "   [0.09019608 0.11372549 0.14901961]\n",
      "   [0.09019608 0.11372549 0.14901961]\n",
      "   ...\n",
      "   [0.24313726 0.26666668 0.2784314 ]\n",
      "   [0.24313726 0.26666668 0.2784314 ]\n",
      "   [0.24313726 0.26666668 0.2784314 ]]]\n",
      "\n",
      "\n",
      " [[[0.04313726 0.03137255 0.02745098]\n",
      "   [0.04313726 0.03137255 0.02745098]\n",
      "   [0.04313726 0.03137255 0.02745098]\n",
      "   ...\n",
      "   [0.09411765 0.10196079 0.12156863]\n",
      "   [0.09411765 0.10196079 0.12156863]\n",
      "   [0.09411765 0.10196079 0.12156863]]\n",
      "\n",
      "  [[0.05098039 0.05098039 0.06666667]\n",
      "   [0.05098039 0.05098039 0.06666667]\n",
      "   [0.05098039 0.05098039 0.06666667]\n",
      "   ...\n",
      "   [0.20392157 0.18039216 0.16862746]\n",
      "   [0.20392157 0.18039216 0.16862746]\n",
      "   [0.20392157 0.18039216 0.16862746]]\n",
      "\n",
      "  [[0.04313726 0.05098039 0.0627451 ]\n",
      "   [0.04313726 0.05098039 0.0627451 ]\n",
      "   [0.04313726 0.05098039 0.0627451 ]\n",
      "   ...\n",
      "   [0.17254902 0.1764706  0.1882353 ]\n",
      "   [0.17254902 0.1764706  0.1882353 ]\n",
      "   [0.17254902 0.1764706  0.1882353 ]]\n",
      "\n",
      "  ...\n",
      "\n",
      "  [[0.1254902  0.14509805 0.1764706 ]\n",
      "   [0.1254902  0.14509805 0.1764706 ]\n",
      "   [0.1254902  0.14509805 0.1764706 ]\n",
      "   ...\n",
      "   [0.14901961 0.16470589 0.16078432]\n",
      "   [0.14901961 0.16470589 0.16078432]\n",
      "   [0.14901961 0.16470589 0.16078432]]\n",
      "\n",
      "  [[0.10980392 0.11764706 0.14117648]\n",
      "   [0.10980392 0.11764706 0.14117648]\n",
      "   [0.10980392 0.11764706 0.14117648]\n",
      "   ...\n",
      "   [0.09411765 0.10196079 0.10980392]\n",
      "   [0.09411765 0.10196079 0.10980392]\n",
      "   [0.09411765 0.10196079 0.10980392]]\n",
      "\n",
      "  [[0.10196079 0.10588235 0.12156863]\n",
      "   [0.10196079 0.10588235 0.12156863]\n",
      "   [0.10196079 0.10588235 0.12156863]\n",
      "   ...\n",
      "   [0.12941177 0.14901961 0.16862746]\n",
      "   [0.12941177 0.14901961 0.16862746]\n",
      "   [0.12941177 0.14901961 0.16862746]]]\n",
      "\n",
      "\n",
      " [[[0.07450981 0.08627451 0.09019608]\n",
      "   [0.07450981 0.08627451 0.09019608]\n",
      "   [0.07450981 0.08627451 0.09019608]\n",
      "   ...\n",
      "   [0.1764706  0.18431373 0.1764706 ]\n",
      "   [0.1764706  0.18431373 0.1764706 ]\n",
      "   [0.1764706  0.18431373 0.1764706 ]]\n",
      "\n",
      "  [[0.05882353 0.07058824 0.09803922]\n",
      "   [0.05882353 0.07058824 0.09803922]\n",
      "   [0.05882353 0.07058824 0.09803922]\n",
      "   ...\n",
      "   [0.23921569 0.21176471 0.21960784]\n",
      "   [0.23921569 0.21176471 0.21960784]\n",
      "   [0.23921569 0.21176471 0.21960784]]\n",
      "\n",
      "  [[0.07450981 0.07843138 0.07843138]\n",
      "   [0.07450981 0.07843138 0.07843138]\n",
      "   [0.07450981 0.07843138 0.07843138]\n",
      "   ...\n",
      "   [0.16078432 0.16862746 0.15686275]\n",
      "   [0.16078432 0.16862746 0.15686275]\n",
      "   [0.16078432 0.16862746 0.15686275]]\n",
      "\n",
      "  ...\n",
      "\n",
      "  [[0.06666667 0.07450981 0.09019608]\n",
      "   [0.06666667 0.07450981 0.09019608]\n",
      "   [0.06666667 0.07450981 0.09019608]\n",
      "   ...\n",
      "   [0.1254902  0.14901961 0.15294118]\n",
      "   [0.1254902  0.14901961 0.15294118]\n",
      "   [0.1254902  0.14901961 0.15294118]]\n",
      "\n",
      "  [[0.05490196 0.07058824 0.06666667]\n",
      "   [0.05490196 0.07058824 0.06666667]\n",
      "   [0.05490196 0.07058824 0.06666667]\n",
      "   ...\n",
      "   [0.15294118 0.17254902 0.16470589]\n",
      "   [0.15294118 0.17254902 0.16470589]\n",
      "   [0.15294118 0.17254902 0.16470589]]\n",
      "\n",
      "  [[0.05490196 0.06666667 0.07058824]\n",
      "   [0.05490196 0.06666667 0.07058824]\n",
      "   [0.05490196 0.06666667 0.07058824]\n",
      "   ...\n",
      "   [0.18431373 0.18431373 0.22352941]\n",
      "   [0.18431373 0.18431373 0.22352941]\n",
      "   [0.18431373 0.18431373 0.22352941]]]\n",
      "\n",
      "\n",
      " ...\n",
      "\n",
      "\n",
      " [[[0.09803922 0.07843138 0.07450981]\n",
      "   [0.09803922 0.07843138 0.07450981]\n",
      "   [0.09803922 0.07843138 0.07450981]\n",
      "   ...\n",
      "   [0.19215687 0.17254902 0.16470589]\n",
      "   [0.19215687 0.17254902 0.16470589]\n",
      "   [0.19215687 0.17254902 0.16470589]]\n",
      "\n",
      "  [[0.06666667 0.06666667 0.07843138]\n",
      "   [0.06666667 0.06666667 0.07843138]\n",
      "   [0.06666667 0.06666667 0.07843138]\n",
      "   ...\n",
      "   [0.16078432 0.16862746 0.1764706 ]\n",
      "   [0.16078432 0.16862746 0.1764706 ]\n",
      "   [0.16078432 0.16862746 0.1764706 ]]\n",
      "\n",
      "  [[0.10588235 0.10196079 0.10980392]\n",
      "   [0.10588235 0.10196079 0.10980392]\n",
      "   [0.10588235 0.10196079 0.10980392]\n",
      "   ...\n",
      "   [0.14509805 0.14901961 0.1764706 ]\n",
      "   [0.14509805 0.14901961 0.1764706 ]\n",
      "   [0.14509805 0.14901961 0.1764706 ]]\n",
      "\n",
      "  ...\n",
      "\n",
      "  [[0.13333334 0.12156863 0.14117648]\n",
      "   [0.13333334 0.12156863 0.14117648]\n",
      "   [0.13333334 0.12156863 0.14117648]\n",
      "   ...\n",
      "   [0.13333334 0.12156863 0.11372549]\n",
      "   [0.13333334 0.12156863 0.11372549]\n",
      "   [0.13333334 0.12156863 0.11372549]]\n",
      "\n",
      "  [[0.10980392 0.10980392 0.11764706]\n",
      "   [0.10980392 0.10980392 0.11764706]\n",
      "   [0.10980392 0.10980392 0.11764706]\n",
      "   ...\n",
      "   [0.10588235 0.10196079 0.10980392]\n",
      "   [0.10588235 0.10196079 0.10980392]\n",
      "   [0.10588235 0.10196079 0.10980392]]\n",
      "\n",
      "  [[0.07058824 0.06666667 0.07450981]\n",
      "   [0.07058824 0.06666667 0.07450981]\n",
      "   [0.07058824 0.06666667 0.07450981]\n",
      "   ...\n",
      "   [0.2        0.2        0.2       ]\n",
      "   [0.2        0.2        0.2       ]\n",
      "   [0.2        0.2        0.2       ]]]\n",
      "\n",
      "\n",
      " [[[0.0627451  0.07450981 0.07058824]\n",
      "   [0.0627451  0.07450981 0.07058824]\n",
      "   [0.0627451  0.07450981 0.07058824]\n",
      "   ...\n",
      "   [0.10980392 0.09803922 0.09411765]\n",
      "   [0.10980392 0.09803922 0.09411765]\n",
      "   [0.10980392 0.09803922 0.09411765]]\n",
      "\n",
      "  [[0.10588235 0.10588235 0.10980392]\n",
      "   [0.10588235 0.10588235 0.10980392]\n",
      "   [0.10588235 0.10588235 0.10980392]\n",
      "   ...\n",
      "   [0.14901961 0.13725491 0.13333334]\n",
      "   [0.14901961 0.13725491 0.13333334]\n",
      "   [0.14901961 0.13725491 0.13333334]]\n",
      "\n",
      "  [[0.09803922 0.11372549 0.12941177]\n",
      "   [0.09803922 0.11372549 0.12941177]\n",
      "   [0.09803922 0.11372549 0.12941177]\n",
      "   ...\n",
      "   [0.15294118 0.13725491 0.15686275]\n",
      "   [0.15294118 0.13725491 0.15686275]\n",
      "   [0.15294118 0.13725491 0.15686275]]\n",
      "\n",
      "  ...\n",
      "\n",
      "  [[0.10980392 0.09803922 0.1254902 ]\n",
      "   [0.10980392 0.09803922 0.1254902 ]\n",
      "   [0.10980392 0.09803922 0.1254902 ]\n",
      "   ...\n",
      "   [0.12156863 0.13725491 0.15294118]\n",
      "   [0.12156863 0.13725491 0.15294118]\n",
      "   [0.12156863 0.13725491 0.15294118]]\n",
      "\n",
      "  [[0.13333334 0.13333334 0.15294118]\n",
      "   [0.13333334 0.13333334 0.15294118]\n",
      "   [0.13333334 0.13333334 0.15294118]\n",
      "   ...\n",
      "   [0.17254902 0.16470589 0.18039216]\n",
      "   [0.17254902 0.16470589 0.18039216]\n",
      "   [0.17254902 0.16470589 0.18039216]]\n",
      "\n",
      "  [[0.09803922 0.10980392 0.11764706]\n",
      "   [0.09803922 0.10980392 0.11764706]\n",
      "   [0.09803922 0.10980392 0.11764706]\n",
      "   ...\n",
      "   [0.23137255 0.23921569 0.24705882]\n",
      "   [0.23137255 0.23921569 0.24705882]\n",
      "   [0.23137255 0.23921569 0.24705882]]]\n",
      "\n",
      "\n",
      " [[[0.09411765 0.09019608 0.10588235]\n",
      "   [0.09411765 0.09019608 0.10588235]\n",
      "   [0.09411765 0.09019608 0.10588235]\n",
      "   ...\n",
      "   [0.1764706  0.1764706  0.17254902]\n",
      "   [0.1764706  0.1764706  0.17254902]\n",
      "   [0.1764706  0.1764706  0.17254902]]\n",
      "\n",
      "  [[0.07450981 0.09411765 0.09803922]\n",
      "   [0.07450981 0.09411765 0.09803922]\n",
      "   [0.07450981 0.09411765 0.09803922]\n",
      "   ...\n",
      "   [0.1882353  0.19215687 0.19215687]\n",
      "   [0.1882353  0.19215687 0.19215687]\n",
      "   [0.1882353  0.19215687 0.19215687]]\n",
      "\n",
      "  [[0.11372549 0.14117648 0.18431373]\n",
      "   [0.11372549 0.14117648 0.18431373]\n",
      "   [0.11372549 0.14117648 0.18431373]\n",
      "   ...\n",
      "   [0.21176471 0.23529412 0.23921569]\n",
      "   [0.21176471 0.23529412 0.23921569]\n",
      "   [0.21176471 0.23529412 0.23921569]]\n",
      "\n",
      "  ...\n",
      "\n",
      "  [[0.07450981 0.08627451 0.11372549]\n",
      "   [0.07450981 0.08627451 0.11372549]\n",
      "   [0.07450981 0.08627451 0.11372549]\n",
      "   ...\n",
      "   [0.17254902 0.17254902 0.18431373]\n",
      "   [0.17254902 0.17254902 0.18431373]\n",
      "   [0.17254902 0.17254902 0.18431373]]\n",
      "\n",
      "  [[0.07843138 0.09803922 0.1254902 ]\n",
      "   [0.07843138 0.09803922 0.1254902 ]\n",
      "   [0.07843138 0.09803922 0.1254902 ]\n",
      "   ...\n",
      "   [0.18431373 0.21568628 0.2       ]\n",
      "   [0.18431373 0.21568628 0.2       ]\n",
      "   [0.18431373 0.21568628 0.2       ]]\n",
      "\n",
      "  [[0.09019608 0.11372549 0.16078432]\n",
      "   [0.09019608 0.11372549 0.16078432]\n",
      "   [0.09019608 0.11372549 0.16078432]\n",
      "   ...\n",
      "   [0.13333334 0.14117648 0.17254902]\n",
      "   [0.13333334 0.14117648 0.17254902]\n",
      "   [0.13333334 0.14117648 0.17254902]]]]\n"
     ]
    }
   ],
   "source": [
    "print(X_train)"
   ]
  },
  {
   "cell_type": "code",
   "execution_count": 14,
   "metadata": {},
   "outputs": [
    {
     "name": "stdout",
     "output_type": "stream",
     "text": [
      "x_train shape:  (2332, 231, 636, 3)\n",
      "X_test shape:  (0, 231, 636, 3)\n",
      "y_train shape:  (2332,)\n"
     ]
    }
   ],
   "source": [
    "# Reshape\n",
    "X_train = X_train.reshape(-1,231,636,3)\n",
    "X_test = X_test.reshape(-1,231,636,3)\n",
    "print(\"x_train shape: \", X_train.shape)\n",
    "print(\"X_test shape: \", X_test.shape)\n",
    "print(\"y_train shape: \",y_train.shape)"
   ]
  },
  {
   "cell_type": "code",
   "execution_count": 15,
   "metadata": {},
   "outputs": [
    {
     "name": "stdout",
     "output_type": "stream",
     "text": [
      "x_train shape (1632, 231, 636, 3)\n",
      "x_val shape (700, 231, 636, 3)\n",
      "y_train shape (1632,)\n",
      "y_val shape (700,)\n"
     ]
    }
   ],
   "source": [
    "# Train - Test split\n",
    "\n",
    "from sklearn.model_selection import train_test_split\n",
    "X_train, X_val, y_train, y_val = train_test_split(X_train, y_train, test_size = 0.3, random_state=4)\n",
    "print(\"x_train shape\",X_train.shape)\n",
    "print(\"x_val shape\",X_val.shape)\n",
    "print(\"y_train shape\",y_train.shape)\n",
    "print(\"y_val shape\",y_val.shape)"
   ]
  },
  {
   "cell_type": "code",
   "execution_count": 16,
   "metadata": {},
   "outputs": [],
   "source": [
    "from sklearn.metrics import confusion_matrix\n",
    "import itertools\n",
    "\n",
    "from keras.utils import to_categorical # convert to one-hot-encoding\n",
    "from keras.models import Sequential\n",
    "from keras.layers import Dense, Dropout, Flatten, Conv2D, MaxPool2D\n",
    "from keras.optimizers import RMSprop,Adam\n",
    "from keras.preprocessing.image import ImageDataGenerator\n",
    "from keras.callbacks import ReduceLROnPlateau\n",
    "\n",
    "model = Sequential()\n",
    "\n",
    "model.add(Conv2D(filters = 8, kernel_size = (5,5),padding = 'Same', \n",
    "                 activation ='relu', input_shape = (231,636,3)))\n",
    "model.add(MaxPool2D(pool_size=(2,2)))\n",
    "model.add(Dropout(0.25))\n",
    "\n",
    "model.add(Conv2D(filters = 16, kernel_size = (3,3),padding = 'Same', \n",
    "                 activation ='relu'))\n",
    "model.add(MaxPool2D(pool_size=(2,2), strides=(2,2)))\n",
    "model.add(Dropout(0.25))\n",
    "\n",
    "# fully connected\n",
    "model.add(Flatten())\n",
    "model.add(Dense(256, activation = \"relu\"))\n",
    "model.add(Dropout(0.5))\n",
    "model.add(Dense(1, activation = \"softmax\"))"
   ]
  },
  {
   "cell_type": "code",
   "execution_count": 17,
   "metadata": {},
   "outputs": [],
   "source": [
    "# Define the optimizer\n",
    "# In neural networks, an optimizer is an algorithm used to adjust the weights and biases \n",
    "# of the network during training in order to minimize the loss function and improve the accuracy of the model.\n",
    "\n",
    "optimizer = Adam(learning_rate=0.001, beta_1=0.9, beta_2=0.999)"
   ]
  },
  {
   "cell_type": "code",
   "execution_count": 18,
   "metadata": {},
   "outputs": [],
   "source": [
    "model.compile(optimizer = optimizer , loss = \"categorical_crossentropy\", metrics=[\"accuracy\"])"
   ]
  },
  {
   "cell_type": "code",
   "execution_count": 19,
   "metadata": {},
   "outputs": [],
   "source": [
    "epochs = 100  \n",
    "batch_size = 250"
   ]
  },
  {
   "cell_type": "code",
   "execution_count": 20,
   "metadata": {},
   "outputs": [],
   "source": [
    "from tensorflow.keras.callbacks import EarlyStopping\n",
    "early_stopping = EarlyStopping(monitor='val_loss', mode='min', verbose=1,patience=6)"
   ]
  },
  {
   "cell_type": "code",
   "execution_count": 21,
   "metadata": {},
   "outputs": [
    {
     "name": "stdout",
     "output_type": "stream",
     "text": [
      "Epoch 1/100\n",
      "6/6 [==============================] - 9s 570ms/step - loss: 0.0000e+00 - accuracy: 0.1158 - val_loss: 0.0000e+00 - val_accuracy: 0.0829\n",
      "Epoch 2/100\n",
      "6/6 [==============================] - 2s 374ms/step - loss: 0.0000e+00 - accuracy: 0.1158 - val_loss: 0.0000e+00 - val_accuracy: 0.0829\n",
      "Epoch 3/100\n",
      "6/6 [==============================] - 2s 382ms/step - loss: 0.0000e+00 - accuracy: 0.1158 - val_loss: 0.0000e+00 - val_accuracy: 0.0829\n",
      "Epoch 4/100\n",
      "6/6 [==============================] - 2s 380ms/step - loss: 0.0000e+00 - accuracy: 0.1158 - val_loss: 0.0000e+00 - val_accuracy: 0.0829\n",
      "Epoch 5/100\n",
      "6/6 [==============================] - 2s 378ms/step - loss: 0.0000e+00 - accuracy: 0.1158 - val_loss: 0.0000e+00 - val_accuracy: 0.0829\n",
      "Epoch 6/100\n",
      "6/6 [==============================] - 2s 393ms/step - loss: 0.0000e+00 - accuracy: 0.1158 - val_loss: 0.0000e+00 - val_accuracy: 0.0829\n",
      "Epoch 7/100\n",
      "6/6 [==============================] - 2s 377ms/step - loss: 0.0000e+00 - accuracy: 0.1158 - val_loss: 0.0000e+00 - val_accuracy: 0.0829\n",
      "Epoch 7: early stopping\n"
     ]
    }
   ],
   "source": [
    "# Lets fit the model\n",
    "\n",
    "history = model.fit(X_train, y_train,\n",
    "                              epochs = epochs, validation_data = (X_val, y_val), steps_per_epoch=X_train.shape[0] // batch_size,\n",
    "                              callbacks=[early_stopping])"
   ]
  },
  {
   "cell_type": "code",
   "execution_count": 22,
   "metadata": {},
   "outputs": [
    {
     "name": "stdout",
     "output_type": "stream",
     "text": [
      "3/3 [==============================] - 1s 247ms/step - loss: 0.0000e+00 - accuracy: 0.0829\n",
      "Accuracy of the model is -->  8.285713940858841 %\n",
      "3/3 [==============================] - 1s 127ms/step - loss: 0.0000e+00 - accuracy: 0.0829\n",
      "Loss of the model is -->  0.0\n"
     ]
    }
   ],
   "source": [
    "print(\"Accuracy of the model is --> \" , model.evaluate(X_val, y_val, batch_size=batch_size)[1]*100 , \"%\")\n",
    "print(\"Loss of the model is --> \" , model.evaluate(X_val, y_val, batch_size=batch_size)[0])"
   ]
  },
  {
   "cell_type": "code",
   "execution_count": 23,
   "metadata": {},
   "outputs": [
    {
     "data": {
      "image/png": "[encoded data removed]",
      "text/plain": [
       "<Figure size 640x480 with 1 Axes>"
      ]
     },
     "metadata": {},
     "output_type": "display_data"
    }
   ],
   "source": [
    "# Model Loss\n",
    "\n",
    "plt.figure()\n",
    "plt.plot(history.history[\"loss\"],label = \"Train Loss\", color = \"black\")\n",
    "plt.plot(history.history[\"val_loss\"],label = \"Validation Loss\", color = \"darkred\", marker = \"+\", linestyle=\"dashed\",markeredgecolor = \"purple\", markeredgewidth = 2)\n",
    "plt.title(\"Model Loss\", color = \"darkred\", size = 13)\n",
    "plt.legend()\n",
    "plt.show()"
   ]
  },
  {
   "cell_type": "code",
   "execution_count": 183,
   "metadata": {},
   "outputs": [
    {
     "data": {
      "image/png": "[encoded data removed]",
      "text/plain": [
       "<Figure size 640x480 with 1 Axes>"
      ]
     },
     "metadata": {},
     "output_type": "display_data"
    }
   ],
   "source": [
    "# Model Accuracy \n",
    "\n",
    "plt.figure()\n",
    "plt.plot(history.history[\"accuracy\"],label = \"Train Accuracy\", color = \"black\")\n",
    "plt.plot(history.history[\"val_accuracy\"],label = \"Validation Accuracy\", color = \"darkred\", marker = \"+\", linestyle=\"dashed\",markeredgecolor = \"purple\", markeredgewidth = 2)\n",
    "plt.title(\"Model Accuracy\", color = \"darkred\", size = 13)\n",
    "plt.legend()\n",
    "plt.show()"
   ]
  },
  {
   "cell_type": "code",
   "execution_count": 184,
   "metadata": {},
   "outputs": [
    {
     "name": "stdout",
     "output_type": "stream",
     "text": [
      "22/22 [==============================] - 1s 23ms/step\n"
     ]
    },
    {
     "ename": "AxisError",
     "evalue": "axis 1 is out of bounds for array of dimension 1",
     "output_type": "error",
     "traceback": [
      "\u001b[1;31m---------------------------------------------------------------------------\u001b[0m",
      "\u001b[1;31mAxisError\u001b[0m                                 Traceback (most recent call last)",
      "Cell \u001b[1;32mIn[184], line 9\u001b[0m\n\u001b[0;32m      6\u001b[0m Y_pred_classes \u001b[38;5;241m=\u001b[39m np\u001b[38;5;241m.\u001b[39margmax(Y_pred,axis \u001b[38;5;241m=\u001b[39m \u001b[38;5;241m1\u001b[39m) \n\u001b[0;32m      8\u001b[0m \u001b[38;5;66;03m# We do the same for the y_val values. because we will compare these values. \u001b[39;00m\n\u001b[1;32m----> 9\u001b[0m Y_true \u001b[38;5;241m=\u001b[39m \u001b[43mnp\u001b[49m\u001b[38;5;241;43m.\u001b[39;49m\u001b[43margmax\u001b[49m\u001b[43m(\u001b[49m\u001b[43my_val\u001b[49m\u001b[43m,\u001b[49m\u001b[43maxis\u001b[49m\u001b[43m \u001b[49m\u001b[38;5;241;43m=\u001b[39;49m\u001b[43m \u001b[49m\u001b[38;5;241;43m1\u001b[39;49m\u001b[43m)\u001b[49m \n\u001b[0;32m     11\u001b[0m confusion_mtx \u001b[38;5;241m=\u001b[39m confusion_matrix(Y_true, Y_pred_classes) \n\u001b[0;32m     13\u001b[0m \u001b[38;5;66;03m# plot the confusion matrix\u001b[39;00m\n",
      "File \u001b[1;32mc:\\Users\\patricjr\\AppData\\Local\\Programs\\Python\\Python310\\lib\\site-packages\\numpy\\core\\fromnumeric.py:1229\u001b[0m, in \u001b[0;36margmax\u001b[1;34m(a, axis, out, keepdims)\u001b[0m\n\u001b[0;32m   1142\u001b[0m \u001b[38;5;250m\u001b[39m\u001b[38;5;124;03m\"\"\"\u001b[39;00m\n\u001b[0;32m   1143\u001b[0m \u001b[38;5;124;03mReturns the indices of the maximum values along an axis.\u001b[39;00m\n\u001b[0;32m   1144\u001b[0m \n\u001b[1;32m   (...)\u001b[0m\n\u001b[0;32m   1226\u001b[0m \u001b[38;5;124;03m(2, 1, 4)\u001b[39;00m\n\u001b[0;32m   1227\u001b[0m \u001b[38;5;124;03m\"\"\"\u001b[39;00m\n\u001b[0;32m   1228\u001b[0m kwds \u001b[38;5;241m=\u001b[39m {\u001b[38;5;124m'\u001b[39m\u001b[38;5;124mkeepdims\u001b[39m\u001b[38;5;124m'\u001b[39m: keepdims} \u001b[38;5;28;01mif\u001b[39;00m keepdims \u001b[38;5;129;01mis\u001b[39;00m \u001b[38;5;129;01mnot\u001b[39;00m np\u001b[38;5;241m.\u001b[39m_NoValue \u001b[38;5;28;01melse\u001b[39;00m {}\n\u001b[1;32m-> 1229\u001b[0m \u001b[38;5;28;01mreturn\u001b[39;00m _wrapfunc(a, \u001b[38;5;124m'\u001b[39m\u001b[38;5;124margmax\u001b[39m\u001b[38;5;124m'\u001b[39m, axis\u001b[38;5;241m=\u001b[39maxis, out\u001b[38;5;241m=\u001b[39mout, \u001b[38;5;241m*\u001b[39m\u001b[38;5;241m*\u001b[39mkwds)\n",
      "File \u001b[1;32mc:\\Users\\patricjr\\AppData\\Local\\Programs\\Python\\Python310\\lib\\site-packages\\numpy\\core\\fromnumeric.py:59\u001b[0m, in \u001b[0;36m_wrapfunc\u001b[1;34m(obj, method, *args, **kwds)\u001b[0m\n\u001b[0;32m     56\u001b[0m     \u001b[38;5;28;01mreturn\u001b[39;00m _wrapit(obj, method, \u001b[38;5;241m*\u001b[39margs, \u001b[38;5;241m*\u001b[39m\u001b[38;5;241m*\u001b[39mkwds)\n\u001b[0;32m     58\u001b[0m \u001b[38;5;28;01mtry\u001b[39;00m:\n\u001b[1;32m---> 59\u001b[0m     \u001b[38;5;28;01mreturn\u001b[39;00m bound(\u001b[38;5;241m*\u001b[39margs, \u001b[38;5;241m*\u001b[39m\u001b[38;5;241m*\u001b[39mkwds)\n\u001b[0;32m     60\u001b[0m \u001b[38;5;28;01mexcept\u001b[39;00m \u001b[38;5;167;01mTypeError\u001b[39;00m:\n\u001b[0;32m     61\u001b[0m     \u001b[38;5;66;03m# A TypeError occurs if the object does have such a method in its\u001b[39;00m\n\u001b[0;32m     62\u001b[0m     \u001b[38;5;66;03m# class, but its signature is not identical to that of NumPy's. This\u001b[39;00m\n\u001b[1;32m   (...)\u001b[0m\n\u001b[0;32m     66\u001b[0m     \u001b[38;5;66;03m# Call _wrapit from within the except clause to ensure a potential\u001b[39;00m\n\u001b[0;32m     67\u001b[0m     \u001b[38;5;66;03m# exception has a traceback chain.\u001b[39;00m\n\u001b[0;32m     68\u001b[0m     \u001b[38;5;28;01mreturn\u001b[39;00m _wrapit(obj, method, \u001b[38;5;241m*\u001b[39margs, \u001b[38;5;241m*\u001b[39m\u001b[38;5;241m*\u001b[39mkwds)\n",
      "\u001b[1;31mAxisError\u001b[0m: axis 1 is out of bounds for array of dimension 1"
     ]
    }
   ],
   "source": [
    "import matplotlib\n",
    "\n",
    "# We make predictions using the model we have created.\n",
    "Y_pred = model.predict(X_val)\n",
    "# argmax = To briefly mention it, it will give the index of the value with the highest value.\n",
    "Y_pred_classes = np.argmax(Y_pred,axis = 1) \n",
    "\n",
    "# We do the same for the y_val values. because we will compare these values. \n",
    "Y_true = np.argmax(y_val,axis = 1) \n",
    "\n",
    "confusion_mtx = confusion_matrix(Y_true, Y_pred_classes) \n",
    "\n",
    "# plot the confusion matrix\n",
    "f,ax = plt.subplots(figsize=(1, 8))\n",
    "sns.heatmap(confusion_mtx, annot=True, linewidths=0.01,linecolor=\"gray\", fmt= '.1f',ax=ax)\n",
    "plt.xlabel(\"Predicted Label\", color = \"blue\")\n",
    "plt.ylabel(\"True Label\", color = \"green\")\n",
    "plt.title(\"Confusion Matrix\", color = \"darkred\", size = 15)\n",
    "plt.show()"
   ]
  }
 ],
 "metadata": {
  "kernelspec": {
   "display_name": "Python 3",
   "language": "python",
   "name": "python3"
  },
  "language_info": {
   "codemirror_mode": {
    "name": "ipython",
    "version": 3
   },
   "file_extension": ".py",
   "mimetype": "text/x-python",
   "name": "python",
   "nbconvert_exporter": "python",
   "pygments_lexer": "ipython3",
   "version": "3.10.13"
  }
 },
 "nbformat": 4,
 "nbformat_minor": 2
}
