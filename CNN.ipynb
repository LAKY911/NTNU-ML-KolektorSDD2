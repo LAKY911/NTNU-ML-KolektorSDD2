{
 "cells": [
  {
   "cell_type": "markdown",
   "metadata": {},
   "source": [
    "# Kolektor Surface Defect Detection\n",
    "TMM4128 - Machine Learning for Engineers - Semestral Project\n"
   ]
  },
  {
   "cell_type": "markdown",
   "metadata": {},
   "source": [
    "### Import TensorFlow"
   ]
  },
  {
   "cell_type": "code",
   "execution_count": 32,
   "metadata": {},
   "outputs": [],
   "source": [
    "import numpy as np\n",
    "import seaborn as sns\n",
    "import matplotlib.pyplot as plt\n",
    "import cv2\n",
    "import os\n",
    "import pandas as pd\n",
    "import keras\n",
    "from tensorflow.keras.preprocessing.image import load_img, img_to_array\n",
    "import math"
   ]
  },
  {
   "cell_type": "code",
   "execution_count": 33,
   "metadata": {},
   "outputs": [
    {
     "name": "stdout",
     "output_type": "stream",
     "text": [
      "Number of GPUs:  1\n"
     ]
    }
   ],
   "source": [
    "import tensorflow as tf\n",
    "# CUDA check\n",
    "print(\"Number of GPUs: \", len(tf.config.list_physical_devices('GPU')))"
   ]
  },
  {
   "cell_type": "code",
   "execution_count": 34,
   "metadata": {},
   "outputs": [
    {
     "name": "stdout",
     "output_type": "stream",
     "text": [
      "c:\\Users\\lukasvi\\Documents\\GitHub\\NTNU-ML-KolektorSDD2\n"
     ]
    }
   ],
   "source": [
    "Categories = [\"Undamaged\", \"Damaged\"]\n",
    "data_train = \"./datasets/KolektorSDD2/train/\"\n",
    "data_test = \"./datasets/KolektorSDD2/test/\"\n",
    "current_directory = os.getcwd()\n",
    "print(current_directory)\n",
    "\n",
    "flat_train = []\n",
    "flat_train_GT = []\n",
    "flat_test = []\n",
    "flat_test_GT = []\n",
    "damage_label_train = []\n",
    "damage_label_test = []\n",
    "img_name = []\n",
    "X_train = []\n",
    "X_test = []\n",
    "y_train = []\n",
    "y_test = []"
   ]
  },
  {
   "cell_type": "code",
   "execution_count": 35,
   "metadata": {},
   "outputs": [
    {
     "name": "stdout",
     "output_type": "stream",
     "text": [
      "2579 2579\n"
     ]
    }
   ],
   "source": [
    "#Create path to folder\n",
    "path = data_train\n",
    "\n",
    "list_damaged = []\n",
    "\n",
    "#For-loop to go through all the contents in the folder\n",
    "for img in os.listdir(path):\n",
    "    #Distinguishing between Groundtruth pictures and Actual pictures\n",
    "    if \"GT\" in img:\n",
    "        img_array = cv2.imread(os.path.join(path,img))\n",
    "        #If the GT Image is Black, no damage is detected\n",
    "        if np.all(img_array == 0): # OK\n",
    "            y_train.append(0)\n",
    "        else:                   # NOK\n",
    "            y_train.append(1) # Original image\n",
    "            list_damaged.append(img)\n",
    "        \n",
    "        #Mark GT images, if any defect is on them\n",
    "    elif \"GT\" not in img:\n",
    "        img2 = load_img(os.path.join(path,img), target_size = (636, 231)) # load image and resize\n",
    "        img_array = img_to_array(img2) # convert image to array\n",
    "        img_array /= 255.0 # normalizing to scale from 0 to 1\n",
    "        X_train.append(img_array) # original image\n",
    "\n",
    "for img_name in list_damaged:\n",
    "    img_name = img_name[:5] + \".png\"\n",
    "    img = load_img(os.path.join(path,img_name), target_size = (636, 231)) # load image and resize\n",
    "    img_array = img_to_array(img2) # convert image to array\n",
    "    img_array /= 255.0 # normalizing to scale from 0 to 1\n",
    "    rotated_image_array = np.rot90(img_array, k=2)\n",
    "    X_train.append(rotated_image_array) # rotated image\n",
    "    y_train.append(1)\n",
    "\n",
    "\n",
    "print(len(X_train), len(y_train))"
   ]
  },
  {
   "cell_type": "code",
   "execution_count": 54,
   "metadata": {},
   "outputs": [
    {
     "data": {
      "text/plain": [
       "True"
      ]
     },
     "execution_count": 54,
     "metadata": {},
     "output_type": "execute_result"
    }
   ],
   "source": [
    "# # Faulty pictures export\n",
    "# import cv2\n",
    "# stop_index = 5 # 5 or 8 for GT\n",
    "# vis = cv2.imread(os.path.join(path,list_damaged[0][:stop_index] + \".png\"))\n",
    "# vis = cv2.resize(vis, (231,636), interpolation = cv2.INTER_LINEAR)\n",
    "\n",
    "# for i in range(1, 8):\n",
    "#     img = cv2.imread(os.path.join(path,list_damaged[i][:stop_index] + \".png\"))\n",
    "#     stretch_near = cv2.resize(img, (231,636), interpolation = cv2.INTER_LINEAR)\n",
    "#     vis = np.concatenate((vis, stretch_near), axis=1)\n",
    "\n",
    "# vis1 = cv2.imread(os.path.join(path,list_damaged[8][:stop_index] + \".png\"))\n",
    "# vis1 = cv2.resize(vis1, (231,636), interpolation = cv2.INTER_LINEAR)\n",
    "\n",
    "# for i in range(9, 16):\n",
    "#     img = cv2.imread(os.path.join(path,list_damaged[i][:stop_index] + \".png\"))\n",
    "#     stretch_near = cv2.resize(img, (231,636), interpolation = cv2.INTER_LINEAR)\n",
    "#     vis1 = np.concatenate((vis1, stretch_near), axis=1)\n",
    "# # cv2.imshow('Horizontal', vis)\n",
    "\n",
    "# visAll = np.concatenate((vis, vis1), axis=0)\n",
    "\n",
    "# cv2.imwrite('out.png', visAll)"
   ]
  },
  {
   "cell_type": "code",
   "execution_count": null,
   "metadata": {},
   "outputs": [
    {
     "name": "stdout",
     "output_type": "stream",
     "text": [
      "2579 2579\n"
     ]
    }
   ],
   "source": [
    "#Create path to folder\n",
    "path = data_train\n",
    "\n",
    "list_damaged = []\n",
    "\n",
    "#For-loop to go through all the contents in the folder\n",
    "for img in os.listdir(path):\n",
    "    #Distinguishing between Groundtruth pictures and Actual pictures\n",
    "    if \"GT\" in img:\n",
    "        img_array = cv2.imread(os.path.join(path,img))\n",
    "        #If the GT Image is Black, no damage is detected\n",
    "        if np.all(img_array == 0): # OK\n",
    "            y_train.append(0)\n",
    "        else:                   # NOK\n",
    "            y_train.append(1) # Original image\n",
    "            list_damaged.append(img)\n",
    "        \n",
    "        #Mark GT images, if any defect is on them\n",
    "    elif \"GT\" not in img:\n",
    "        img2 = load_img(os.path.join(path,img), target_size = (636, 231)) # load image and resize\n",
    "        img_array = img_to_array(img2) # convert image to array\n",
    "        img_array /= 255.0 # normalizing to scale from 0 to 1\n",
    "        X_train.append(img_array) # original image\n",
    "\n",
    "for img_name in list_damaged:\n",
    "    img_name = img_name[:5] + \".png\"\n",
    "    img = load_img(os.path.join(path,img_name), target_size = (636, 231)) # load image and resize\n",
    "    img_array = img_to_array(img2) # convert image to array\n",
    "    img_array /= 255.0 # normalizing to scale from 0 to 1\n",
    "    rotated_image_array = np.rot90(img_array, k=2)\n",
    "    X_train.append(rotated_image_array) # rotated image\n",
    "    y_train.append(1)\n",
    "\n",
    "\n",
    "print(len(X_train), len(y_train))"
   ]
  },
  {
   "cell_type": "code",
   "execution_count": 5,
   "metadata": {},
   "outputs": [],
   "source": [
    "#Create path to folder\n",
    "path = data_test\n",
    "\n",
    "#For-loop to go through all the contents in the folder\n",
    "for img in os.listdir(path):\n",
    "    #Distinguishing between Groundtruth pictures and Actual pictures\n",
    "    \n",
    "    if \"GT\" in img:\n",
    "        img_array = cv2.imread(os.path.join(path,img))\n",
    "        flat_test_GT.append(img_array.flatten())\n",
    "        #If the GT Image is Black, no damage is detected\n",
    "        if np.all(img_array == 0):\n",
    "            y_test.append(0)\n",
    "        else:\n",
    "            y_test.append(1)\n",
    "        #Mark GT images, if any defect is on them\n",
    "    elif \"GT\" not in img:\n",
    "        img2 = load_img(os.path.join(path,img), target_size = (636, 231)) # load image and resize\n",
    "        img_array = img_to_array(img2) # convert image to array\n",
    "        img_array /= 255.0 # normalizing to scale from 0 to 1\n",
    "        X_test.append(img_array)"
   ]
  },
  {
   "cell_type": "code",
   "execution_count": 6,
   "metadata": {},
   "outputs": [
    {
     "name": "stdout",
     "output_type": "stream",
     "text": [
      "(2579, 636, 231, 3)\n",
      "(2579,)\n",
      "(1004, 636, 231, 3)\n",
      "(1004,)\n"
     ]
    }
   ],
   "source": [
    "X_train = np.array(X_train) \n",
    "X_test = np.array(X_test) \n",
    "y_train = np.array(y_train) \n",
    "y_test = np.array(y_test) \n",
    "print(X_train.shape)\n",
    "print(y_train.shape)\n",
    "print(X_test.shape)\n",
    "print(y_test.shape)"
   ]
  },
  {
   "cell_type": "code",
   "execution_count": 7,
   "metadata": {},
   "outputs": [],
   "source": [
    "#df_train = pd.DataFrame(flat_train)\n",
    "#df_train[\"Damage\"] = damage_label_train\n",
    "\n",
    "#df_test = pd.DataFrame(flat_test)\n",
    "#df_test[\"Damage\"] = damage_label_test"
   ]
  },
  {
   "cell_type": "code",
   "execution_count": 8,
   "metadata": {},
   "outputs": [],
   "source": [
    "#X_train = df_train.iloc[:, :-1]\n",
    "#y_train = df_train.iloc[:, -1] \n",
    "\n",
    "#X_test = df_test.iloc[:, -1] \n",
    "#y_test = df_test.iloc[:, -1] "
   ]
  },
  {
   "cell_type": "code",
   "execution_count": 9,
   "metadata": {},
   "outputs": [],
   "source": [
    "#print(X_train)"
   ]
  },
  {
   "cell_type": "code",
   "execution_count": 10,
   "metadata": {},
   "outputs": [],
   "source": [
    "# Reshape\n",
    "# X_train = X_train.reshape(-1, 636, 231, 3) # -1 means it keeps the same length\n",
    "# X_test = X_test.reshape(-1, 636, 231, 3) # Empty !\n",
    "# print(\"x_train shape: \", X_train.shape)\n",
    "# print(\"X_test shape: \", X_test.shape)\n",
    "# print(\"y_train shape: \",y_train.shape)"
   ]
  },
  {
   "cell_type": "code",
   "execution_count": 11,
   "metadata": {},
   "outputs": [
    {
     "name": "stdout",
     "output_type": "stream",
     "text": [
      "x_train shape (1805, 636, 231, 3)\n",
      "x_val shape (774, 636, 231, 3)\n",
      "y_train shape (1805,)\n",
      "y_val shape (774,)\n"
     ]
    }
   ],
   "source": [
    "# Train - Test split\n",
    "\n",
    "from sklearn.model_selection import train_test_split\n",
    "X_train, X_val, y_train, y_val = train_test_split(X_train, y_train, test_size = 0.3, random_state=4)\n",
    "print(\"x_train shape\",X_train.shape)\n",
    "print(\"x_val shape\",X_val.shape)\n",
    "print(\"y_train shape\",y_train.shape)\n",
    "print(\"y_val shape\",y_val.shape)\n"
   ]
  },
  {
   "cell_type": "code",
   "execution_count": 12,
   "metadata": {},
   "outputs": [
    {
     "name": "stdout",
     "output_type": "stream",
     "text": [
      "{0: 1447, 1: 358}\n",
      "19.833795013850416\n",
      "{0: 638, 1: 136}\n",
      "17.571059431524546\n"
     ]
    }
   ],
   "source": [
    "unique, counts = np.unique(y_train, return_counts=True)\n",
    "\n",
    "print(dict(zip(unique, counts)))\n",
    "print(counts[1]/len(y_train)*100)\n",
    "\n",
    "unique, counts = np.unique(y_val, return_counts=True)\n",
    "\n",
    "print(dict(zip(unique, counts)))\n",
    "print(counts[1]/len(y_val)*100)"
   ]
  },
  {
   "cell_type": "code",
   "execution_count": 13,
   "metadata": {},
   "outputs": [],
   "source": [
    "from sklearn.metrics import confusion_matrix\n",
    "import itertools\n",
    "\n",
    "from keras.utils import to_categorical # convert to one-hot-encoding\n",
    "from keras.models import Sequential\n",
    "from keras.layers import Dense, Dropout, Flatten, Conv2D, MaxPool2D\n",
    "from keras.optimizers import RMSprop,Adam\n",
    "from keras.preprocessing.image import ImageDataGenerator\n",
    "from keras.callbacks import ReduceLROnPlateau\n",
    "\n",
    "model = Sequential()\n",
    "\n",
    "model.add(Conv2D(filters = 32, kernel_size = (3,3),padding = 'Same', \n",
    "                 activation ='relu', input_shape = (636,231,3)))\n",
    "model.add(MaxPool2D(pool_size=(2,2)))\n",
    "model.add(Dropout(0.25))\n",
    "\n",
    "model.add(Conv2D(filters = 64, kernel_size = (3,3),padding = 'Same', \n",
    "                 activation ='relu'))\n",
    "model.add(MaxPool2D(pool_size=(2,2)))\n",
    "model.add(Dropout(0.25))\n",
    "\n",
    "model.add(Conv2D(filters = 128, kernel_size = (3,3),padding = 'Same', \n",
    "                 activation ='relu', input_shape = (636,231,3)))\n",
    "model.add(MaxPool2D(pool_size=(2,2)))\n",
    "\n",
    "\n",
    "# fully connected\n",
    "model.add(Flatten())\n",
    "model.add(Dense(128, activation = \"relu\"))\n",
    "model.add(Dropout(0.5))\n",
    "model.add(Dense(1, activation = \"sigmoid\"))"
   ]
  },
  {
   "cell_type": "code",
   "execution_count": 14,
   "metadata": {},
   "outputs": [],
   "source": [
    "# Define the optimizer\n",
    "# In neural networks, an optimizer is an algorithm used to adjust the weights and biases \n",
    "# of the network during training in order to minimize the loss function and improve the accuracy of the model.\n",
    "\n",
    "optimizer = Adam(learning_rate=0.001) # , beta_1=0.9, beta_2=0.999"
   ]
  },
  {
   "cell_type": "code",
   "execution_count": 15,
   "metadata": {},
   "outputs": [],
   "source": [
    "model.compile(optimizer = optimizer , loss = \"binary_crossentropy\", metrics=[\"accuracy\"])"
   ]
  },
  {
   "cell_type": "code",
   "execution_count": 16,
   "metadata": {},
   "outputs": [],
   "source": [
    "epochs = 100  \n",
    "batch_size = 250"
   ]
  },
  {
   "cell_type": "code",
   "execution_count": 17,
   "metadata": {},
   "outputs": [],
   "source": [
    "from keras.callbacks import EarlyStopping\n",
    "early_stopping = EarlyStopping(monitor='val_loss', mode='min', verbose=1, patience=6)"
   ]
  },
  {
   "cell_type": "code",
   "execution_count": 18,
   "metadata": {},
   "outputs": [
    {
     "name": "stdout",
     "output_type": "stream",
     "text": [
      "Epoch 1/100\n",
      "7/7 [==============================] - 24s 2s/step - loss: 2.8613 - accuracy: 0.6161 - val_loss: 0.6841 - val_accuracy: 0.8243\n",
      "Epoch 2/100\n",
      "7/7 [==============================] - 5s 795ms/step - loss: 0.5885 - accuracy: 0.7922 - val_loss: 0.5064 - val_accuracy: 0.8243\n",
      "Epoch 3/100\n",
      "7/7 [==============================] - 5s 784ms/step - loss: 0.5173 - accuracy: 0.8017 - val_loss: 0.5167 - val_accuracy: 0.8243\n",
      "Epoch 4/100\n",
      "7/7 [==============================] - 5s 788ms/step - loss: 0.5107 - accuracy: 0.8017 - val_loss: 0.5212 - val_accuracy: 0.8243\n",
      "Epoch 5/100\n",
      "7/7 [==============================] - 5s 784ms/step - loss: 0.5119 - accuracy: 0.8017 - val_loss: 0.5018 - val_accuracy: 0.8243\n",
      "Epoch 6/100\n",
      "7/7 [==============================] - 5s 782ms/step - loss: 0.5014 - accuracy: 0.8017 - val_loss: 0.4992 - val_accuracy: 0.8243\n",
      "Epoch 7/100\n",
      "7/7 [==============================] - 5s 784ms/step - loss: 0.4973 - accuracy: 0.8017 - val_loss: 0.4825 - val_accuracy: 0.8243\n",
      "Epoch 8/100\n",
      "7/7 [==============================] - 5s 782ms/step - loss: 0.4992 - accuracy: 0.8017 - val_loss: 0.4853 - val_accuracy: 0.8243\n",
      "Epoch 9/100\n",
      "7/7 [==============================] - 5s 777ms/step - loss: 0.4940 - accuracy: 0.8017 - val_loss: 0.4990 - val_accuracy: 0.8243\n",
      "Epoch 10/100\n",
      "7/7 [==============================] - 5s 788ms/step - loss: 0.4890 - accuracy: 0.8017 - val_loss: 0.4892 - val_accuracy: 0.8243\n",
      "Epoch 11/100\n",
      "7/7 [==============================] - 5s 783ms/step - loss: 0.4838 - accuracy: 0.8017 - val_loss: 0.4756 - val_accuracy: 0.8243\n",
      "Epoch 12/100\n",
      "7/7 [==============================] - 5s 789ms/step - loss: 0.4705 - accuracy: 0.8017 - val_loss: 0.4369 - val_accuracy: 0.8243\n",
      "Epoch 13/100\n",
      "7/7 [==============================] - 5s 803ms/step - loss: 0.4537 - accuracy: 0.8017 - val_loss: 0.4048 - val_accuracy: 0.8243\n",
      "Epoch 14/100\n",
      "7/7 [==============================] - 5s 805ms/step - loss: 0.4335 - accuracy: 0.8017 - val_loss: 0.3766 - val_accuracy: 0.8243\n",
      "Epoch 15/100\n",
      "7/7 [==============================] - 5s 802ms/step - loss: 0.4155 - accuracy: 0.8017 - val_loss: 0.3576 - val_accuracy: 0.8243\n",
      "Epoch 16/100\n",
      "7/7 [==============================] - 5s 797ms/step - loss: 0.4012 - accuracy: 0.8017 - val_loss: 0.3466 - val_accuracy: 0.8243\n",
      "Epoch 17/100\n",
      "7/7 [==============================] - 5s 802ms/step - loss: 0.4009 - accuracy: 0.8022 - val_loss: 0.3343 - val_accuracy: 0.8217\n",
      "Epoch 18/100\n",
      "7/7 [==============================] - 6s 822ms/step - loss: 0.3948 - accuracy: 0.8371 - val_loss: 0.3338 - val_accuracy: 0.9276\n",
      "Epoch 19/100\n",
      "7/7 [==============================] - 6s 832ms/step - loss: 0.3941 - accuracy: 0.8471 - val_loss: 0.3332 - val_accuracy: 0.9289\n",
      "Epoch 20/100\n",
      "7/7 [==============================] - 5s 788ms/step - loss: 0.4118 - accuracy: 0.8460 - val_loss: 0.3343 - val_accuracy: 0.9289\n",
      "Epoch 21/100\n",
      "7/7 [==============================] - 5s 797ms/step - loss: 0.3999 - accuracy: 0.8510 - val_loss: 0.3560 - val_accuracy: 0.8230\n",
      "Epoch 22/100\n",
      "7/7 [==============================] - 5s 796ms/step - loss: 0.3934 - accuracy: 0.8504 - val_loss: 0.3645 - val_accuracy: 0.9276\n",
      "Epoch 23/100\n",
      "7/7 [==============================] - 5s 797ms/step - loss: 0.3924 - accuracy: 0.8476 - val_loss: 0.3332 - val_accuracy: 0.9289\n",
      "Epoch 24/100\n",
      "7/7 [==============================] - 6s 828ms/step - loss: 0.3865 - accuracy: 0.8820 - val_loss: 0.3476 - val_accuracy: 0.9276\n",
      "Epoch 25/100\n",
      "7/7 [==============================] - 6s 807ms/step - loss: 0.3759 - accuracy: 0.8903 - val_loss: 0.3046 - val_accuracy: 0.9276\n",
      "Epoch 26/100\n",
      "7/7 [==============================] - 5s 797ms/step - loss: 0.3690 - accuracy: 0.8914 - val_loss: 0.3235 - val_accuracy: 0.9302\n",
      "Epoch 27/100\n",
      "7/7 [==============================] - 5s 797ms/step - loss: 0.3615 - accuracy: 0.8920 - val_loss: 0.3052 - val_accuracy: 0.9289\n",
      "Epoch 28/100\n",
      "7/7 [==============================] - 5s 799ms/step - loss: 0.3613 - accuracy: 0.8892 - val_loss: 0.2916 - val_accuracy: 0.9302\n",
      "Epoch 29/100\n",
      "7/7 [==============================] - 6s 822ms/step - loss: 0.3483 - accuracy: 0.8964 - val_loss: 0.2830 - val_accuracy: 0.9302\n",
      "Epoch 30/100\n",
      "7/7 [==============================] - 6s 815ms/step - loss: 0.3323 - accuracy: 0.8992 - val_loss: 0.2733 - val_accuracy: 0.9289\n",
      "Epoch 31/100\n",
      "7/7 [==============================] - 5s 801ms/step - loss: 0.3315 - accuracy: 0.9003 - val_loss: 0.2622 - val_accuracy: 0.9289\n",
      "Epoch 32/100\n",
      "7/7 [==============================] - 5s 806ms/step - loss: 0.3395 - accuracy: 0.8825 - val_loss: 0.2712 - val_accuracy: 0.9302\n",
      "Epoch 33/100\n",
      "7/7 [==============================] - 5s 806ms/step - loss: 0.3237 - accuracy: 0.8925 - val_loss: 0.2778 - val_accuracy: 0.9251\n",
      "Epoch 34/100\n",
      "7/7 [==============================] - 5s 806ms/step - loss: 0.3163 - accuracy: 0.8925 - val_loss: 0.2601 - val_accuracy: 0.9302\n",
      "Epoch 35/100\n",
      "7/7 [==============================] - 6s 827ms/step - loss: 0.3071 - accuracy: 0.8942 - val_loss: 0.2557 - val_accuracy: 0.9251\n",
      "Epoch 36/100\n",
      "7/7 [==============================] - 5s 801ms/step - loss: 0.3123 - accuracy: 0.8942 - val_loss: 0.2438 - val_accuracy: 0.9302\n",
      "Epoch 37/100\n",
      "7/7 [==============================] - 5s 796ms/step - loss: 0.2919 - accuracy: 0.8964 - val_loss: 0.2443 - val_accuracy: 0.9315\n",
      "Epoch 38/100\n",
      "7/7 [==============================] - 5s 805ms/step - loss: 0.2843 - accuracy: 0.8986 - val_loss: 0.2551 - val_accuracy: 0.9302\n",
      "Epoch 39/100\n",
      "7/7 [==============================] - 5s 796ms/step - loss: 0.2671 - accuracy: 0.9014 - val_loss: 0.2373 - val_accuracy: 0.9276\n",
      "Epoch 40/100\n",
      "7/7 [==============================] - 5s 806ms/step - loss: 0.2671 - accuracy: 0.9025 - val_loss: 0.2477 - val_accuracy: 0.9289\n",
      "Epoch 41/100\n",
      "7/7 [==============================] - 6s 803ms/step - loss: 0.2629 - accuracy: 0.9053 - val_loss: 0.2317 - val_accuracy: 0.9302\n",
      "Epoch 42/100\n",
      "7/7 [==============================] - 5s 807ms/step - loss: 0.2595 - accuracy: 0.9036 - val_loss: 0.2469 - val_accuracy: 0.9302\n",
      "Epoch 43/100\n",
      "7/7 [==============================] - 6s 812ms/step - loss: 0.2493 - accuracy: 0.9064 - val_loss: 0.2375 - val_accuracy: 0.9302\n",
      "Epoch 44/100\n",
      "7/7 [==============================] - 6s 808ms/step - loss: 0.2470 - accuracy: 0.9008 - val_loss: 0.2436 - val_accuracy: 0.9289\n",
      "Epoch 45/100\n",
      "7/7 [==============================] - 5s 806ms/step - loss: 0.2283 - accuracy: 0.9097 - val_loss: 0.2463 - val_accuracy: 0.9289\n",
      "Epoch 46/100\n",
      "7/7 [==============================] - 5s 802ms/step - loss: 0.2234 - accuracy: 0.9169 - val_loss: 0.2476 - val_accuracy: 0.9315\n",
      "Epoch 47/100\n",
      "7/7 [==============================] - 6s 810ms/step - loss: 0.2121 - accuracy: 0.9175 - val_loss: 0.2406 - val_accuracy: 0.9341\n",
      "Epoch 47: early stopping\n"
     ]
    }
   ],
   "source": [
    "# Lets fit the model\n",
    "\n",
    "history = model.fit(X_train, y_train, epochs = epochs, validation_data = (X_val, y_val), \n",
    "                    steps_per_epoch=X_train.shape[0] // batch_size, callbacks=[early_stopping]) "
   ]
  },
  {
   "cell_type": "code",
   "execution_count": 19,
   "metadata": {},
   "outputs": [
    {
     "name": "stdout",
     "output_type": "stream",
     "text": [
      "4/4 [==============================] - 2s 224ms/step - loss: 0.2406 - accuracy: 0.9341\n",
      "Accuracy of the model is -->  93.4108555316925 %\n",
      "4/4 [==============================] - 1s 143ms/step - loss: 0.2406 - accuracy: 0.9341\n",
      "Loss of the model is -->  0.24056409299373627\n"
     ]
    }
   ],
   "source": [
    "print(\"Accuracy of the model is --> \" , model.evaluate(X_val, y_val, batch_size=batch_size)[1]*100 , \"%\")\n",
    "print(\"Loss of the model is --> \" , model.evaluate(X_val, y_val, batch_size=batch_size)[0])"
   ]
  },
  {
   "cell_type": "code",
   "execution_count": 20,
   "metadata": {},
   "outputs": [
    {
     "data": {
      "image/png": "[encoded data removed]",
      "text/plain": [
       "<Figure size 640x480 with 1 Axes>"
      ]
     },
     "metadata": {},
     "output_type": "display_data"
    }
   ],
   "source": [
    "# Model Loss\n",
    "\n",
    "plt.figure()\n",
    "plt.plot(history.history[\"loss\"],label = \"Train Loss\", color = \"black\")\n",
    "plt.plot(history.history[\"val_loss\"],label = \"Validation Loss\", color = \"darkred\", marker = \"+\", linestyle=\"dashed\",markeredgecolor = \"purple\", markeredgewidth = 2)\n",
    "plt.title(\"Model Loss\", color = \"darkred\", size = 13)\n",
    "plt.legend()\n",
    "plt.show()"
   ]
  },
  {
   "cell_type": "code",
   "execution_count": 21,
   "metadata": {},
   "outputs": [
    {
     "data": {
      "image/png": "[encoded data removed]",
      "text/plain": [
       "<Figure size 640x480 with 1 Axes>"
      ]
     },
     "metadata": {},
     "output_type": "display_data"
    }
   ],
   "source": [
    "# Model Accuracy \n",
    "\n",
    "plt.figure()\n",
    "plt.plot(history.history[\"accuracy\"],label = \"Train Accuracy\", color = \"black\")\n",
    "plt.plot(history.history[\"val_accuracy\"],label = \"Validation Accuracy\", color = \"darkred\", marker = \"+\", linestyle=\"dashed\",markeredgecolor = \"purple\", markeredgewidth = 2)\n",
    "plt.title(\"Model Accuracy\", color = \"darkred\", size = 13)\n",
    "plt.legend()\n",
    "plt.show()"
   ]
  },
  {
   "cell_type": "code",
   "execution_count": 22,
   "metadata": {},
   "outputs": [
    {
     "name": "stdout",
     "output_type": "stream",
     "text": [
      "32/32 [==============================] - 1s 34ms/step\n",
      "[[0.07042298]\n",
      " [0.01462048]\n",
      " [0.01390356]\n",
      " ...\n",
      " [0.06364242]\n",
      " [0.02243147]\n",
      " [0.04563423]]\n",
      "{0: 894, 1: 110}\n",
      "0.8904382470119522\n",
      "Test accuracy: 89.34%\n"
     ]
    }
   ],
   "source": [
    "Y_predict_test = model.predict(X_test)\n",
    "print(Y_predict_test)\n",
    "\n",
    "binary_predictions = (Y_predict_test > 0.5).astype(int)\n",
    "\n",
    "accuracy = (binary_predictions.flatten() == y_test).mean()\n",
    "unique, counts = np.unique(y_test, return_counts=True)\n",
    "\n",
    "print(dict(zip(unique, counts)))\n",
    "print(894/len(y_test))\n",
    "\n",
    "print(f\"Test accuracy: {accuracy * 100:.2f}%\")"
   ]
  },
  {
   "cell_type": "code",
   "execution_count": null,
   "metadata": {},
   "outputs": [],
   "source": []
  },
  {
   "cell_type": "code",
   "execution_count": 23,
   "metadata": {},
   "outputs": [
    {
     "name": "stdout",
     "output_type": "stream",
     "text": [
      "25/25 [==============================] - 1s 40ms/step\n"
     ]
    },
    {
     "data": {
      "image/png": "[encoded data removed]",
      "text/plain": [
       "<Figure size 640x480 with 2 Axes>"
      ]
     },
     "metadata": {},
     "output_type": "display_data"
    },
    {
     "name": "stdout",
     "output_type": "stream",
     "text": [
      "Accuracy: 93.41%\n",
      "Precision: 0.9570\n",
      "Recall: 0.6544\n",
      "F1 Score: 0.7773\n"
     ]
    }
   ],
   "source": [
    "from sklearn.metrics import confusion_matrix\n",
    "import seaborn as sns\n",
    "import matplotlib.pyplot as plt\n",
    "from sklearn.metrics import accuracy_score, precision_score, recall_score, f1_score\n",
    "\n",
    "# Assuming you have 'test_labels' and 'binary_predictions'\n",
    "# test_labels: True labels for the test set\n",
    "# binary_predictions: Predictions made by the model (0 or 1)\n",
    "\n",
    "Y_pred = model.predict(X_val)\n",
    "Y_pred_bin_list = []\n",
    "for val in Y_pred:\n",
    "    if val > 0.5:\n",
    "        Y_pred_bin_list.append(1)\n",
    "    else:\n",
    "        Y_pred_bin_list.append(0)\n",
    "Y_pred_bin = np.array(Y_pred_bin_list)\n",
    "#print(Y_pred_bin)\n",
    "\n",
    "# Calculate the confusion matrix\n",
    "conf_matrix = confusion_matrix(y_val, Y_pred_bin)\n",
    "\n",
    "# Display the confusion matrix using a heatmap\n",
    "sns.heatmap(conf_matrix, annot=True, fmt='d', cmap='Blues', annot_kws={\"size\": 16})\n",
    "plt.xlabel('Predicted')\n",
    "plt.ylabel('True')\n",
    "plt.title('Confusion Matrix')\n",
    "plt.show()\n",
    "\n",
    "# Additional metrics\n",
    "accuracy = accuracy_score(y_val, Y_pred_bin)\n",
    "precision = precision_score(y_val, Y_pred_bin)\n",
    "recall = recall_score(y_val, Y_pred_bin)\n",
    "f1 = f1_score(y_val, Y_pred_bin)\n",
    "\n",
    "print(f\"Accuracy: {accuracy * 100:.2f}%\")\n",
    "print(f\"Precision: {precision:.4f}\")\n",
    "print(f\"Recall: {recall:.4f}\")\n",
    "print(f\"F1 Score: {f1:.4f}\")"
   ]
  },
  {
   "cell_type": "code",
   "execution_count": 24,
   "metadata": {},
   "outputs": [
    {
     "name": "stdout",
     "output_type": "stream",
     "text": [
      "32/32 [==============================] - 1s 30ms/step\n"
     ]
    },
    {
     "data": {
      "image/png": "[encoded data removed]",
      "text/plain": [
       "<Figure size 640x480 with 2 Axes>"
      ]
     },
     "metadata": {},
     "output_type": "display_data"
    },
    {
     "name": "stdout",
     "output_type": "stream",
     "text": [
      "Accuracy: 89.34%\n",
      "Precision: 0.6154\n",
      "Recall: 0.0727\n",
      "F1 Score: 0.1301\n"
     ]
    }
   ],
   "source": [
    "from sklearn.metrics import confusion_matrix\n",
    "import seaborn as sns\n",
    "import matplotlib.pyplot as plt\n",
    "from sklearn.metrics import accuracy_score, precision_score, recall_score, f1_score\n",
    "\n",
    "# Assuming you have 'test_labels' and 'binary_predictions'\n",
    "# test_labels: True labels for the test set\n",
    "# binary_predictions: Predictions made by the model (0 or 1)\n",
    "\n",
    "Y_pred = model.predict(X_test)\n",
    "Y_pred_bin_list = []\n",
    "for val in Y_pred:\n",
    "    if val > 0.5:\n",
    "        Y_pred_bin_list.append(1)\n",
    "    else:\n",
    "        Y_pred_bin_list.append(0)\n",
    "Y_pred_bin = np.array(Y_pred_bin_list)\n",
    "# print(Y_pred_bin)\n",
    "\n",
    "# Calculate the confusion matrix\n",
    "conf_matrix = confusion_matrix(y_test, Y_pred_bin)\n",
    "\n",
    "# Display the confusion matrix using a heatmap\n",
    "sns.heatmap(conf_matrix, annot=True, fmt='d', cmap='Blues', annot_kws={\"size\": 16})\n",
    "plt.xlabel('Predicted')\n",
    "plt.ylabel('True')\n",
    "plt.title('Confusion Matrix')\n",
    "plt.show()\n",
    "\n",
    "# Additional metrics\n",
    "accuracy = accuracy_score(y_test, Y_pred_bin)\n",
    "precision = precision_score(y_test, Y_pred_bin)\n",
    "recall = recall_score(y_test, Y_pred_bin)\n",
    "f1 = f1_score(y_test, Y_pred_bin)\n",
    "\n",
    "print(f\"Accuracy: {accuracy * 100:.2f}%\")\n",
    "print(f\"Precision: {precision:.4f}\")\n",
    "print(f\"Recall: {recall:.4f}\")\n",
    "print(f\"F1 Score: {f1:.4f}\")"
   ]
  }
 ],
 "metadata": {
  "kernelspec": {
   "display_name": "Python 3",
   "language": "python",
   "name": "python3"
  },
  "language_info": {
   "codemirror_mode": {
    "name": "ipython",
    "version": 3
   },
   "file_extension": ".py",
   "mimetype": "text/x-python",
   "name": "python",
   "nbconvert_exporter": "python",
   "pygments_lexer": "ipython3",
   "version": "3.10.13"
  }
 },
 "nbformat": 4,
 "nbformat_minor": 2
}
