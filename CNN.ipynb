{
 "cells": [
  {
   "cell_type": "markdown",
   "metadata": {},
   "source": [
    "# Kolektor Surface Defect Detection\n",
    "TMM4128 - Machine Learning for Engineers - Semestral Project\n"
   ]
  },
  {
   "cell_type": "markdown",
   "metadata": {},
   "source": [
    "### Import TensorFlow"
   ]
  },
  {
   "cell_type": "code",
   "execution_count": 1,
   "metadata": {},
   "outputs": [],
   "source": [
    "import numpy as np\n",
    "import seaborn as sns\n",
    "import matplotlib.pyplot as plt\n",
    "import cv2\n",
    "import os\n",
    "# import pandas as pd\n",
    "# import keras\n",
    "from tensorflow.keras.preprocessing.image import load_img, img_to_array\n",
    "from PIL import Image, ImageFilter \n",
    "# import math"
   ]
  },
  {
   "cell_type": "code",
   "execution_count": 2,
   "metadata": {},
   "outputs": [
    {
     "name": "stdout",
     "output_type": "stream",
     "text": [
      "Number of GPUs:  1\n"
     ]
    }
   ],
   "source": [
    "import tensorflow as tf\n",
    "# CUDA check\n",
    "print(\"Number of GPUs: \", len(tf.config.list_physical_devices('GPU')))"
   ]
  },
  {
   "cell_type": "code",
   "execution_count": 3,
   "metadata": {},
   "outputs": [
    {
     "name": "stdout",
     "output_type": "stream",
     "text": [
      "c:\\Users\\lukasvi\\Documents\\GitHub\\NTNU-ML-KolektorSDD2\n"
     ]
    }
   ],
   "source": [
    "Categories = [\"Undamaged\", \"Damaged\"]\n",
    "data_train = \"./datasets/KolektorSDD2/train/\"\n",
    "data_test = \"./datasets/KolektorSDD2/test/\"\n",
    "current_directory = os.getcwd()\n",
    "print(current_directory)\n",
    "\n",
    "flat_train = []\n",
    "flat_train_GT = []\n",
    "flat_test = []\n",
    "flat_test_GT = []\n",
    "damage_label_train = []\n",
    "damage_label_test = []\n",
    "img_name = []\n",
    "X_train = []\n",
    "X_test = []\n",
    "y_train = []\n",
    "y_test = []\n",
    "\n",
    "# Average image size\n",
    "img_height =  636 #194 # 636 # 388\n",
    "img_width = 229 # 70 # 229 # 140\n",
    "img_size = (img_height, img_width)"
   ]
  },
  {
   "cell_type": "code",
   "execution_count": 4,
   "metadata": {},
   "outputs": [
    {
     "name": "stdout",
     "output_type": "stream",
     "text": [
      "247\n",
      "2332 2332\n",
      "2579 2579\n"
     ]
    }
   ],
   "source": [
    "# Create TRAIN DATA\n",
    "\n",
    "#Create path to folder\n",
    "path = data_train\n",
    "\n",
    "list_damaged = []\n",
    "negative_max = 3000\n",
    "negative_counter = 0 \n",
    "\n",
    "\n",
    "\n",
    "#For-loop to go through all the contents in the folder\n",
    "for img in os.listdir(path):\n",
    "    #Distinguishing between Groundtruth pictures and Actual pictures\n",
    "    image_path_GT = os.path.join(path,img)\n",
    "    image_path = os.path.join(path,img[:5]+\".png\")\n",
    "\n",
    "    if \"GT\" in img:\n",
    "        img_array = cv2.imread(image_path_GT)\n",
    "        #If the GT Image is Black, no damage is detected\n",
    "        if np.all(img_array == 0): # OK\n",
    "            if negative_counter < negative_max:\n",
    "                y_train.append(0)\n",
    "                # img2 = load_img(image_path, target_size = img_size) # load image and resize\n",
    "                imgPIL = Image.open(image_path)\n",
    "                imgPIL = imgPIL.resize((img_width, img_height))\n",
    "                # imgPIL.show(\"haha\")\n",
    "                imgPIL = imgPIL.filter(ImageFilter.GaussianBlur(1))\n",
    "                # imgPIL.show(\"FU\")\n",
    "                \n",
    "                img_array = img_to_array(imgPIL) # convert image to array\n",
    "                img_array /= 255.0 # normalizing to scale from 0 to 1\n",
    "                X_train.append(img_array) # original image\n",
    "                negative_counter += 1\n",
    "\n",
    "        else:                   # NOK\n",
    "            y_train.append(1) # Original image\n",
    "            list_damaged.append(img)\n",
    "            # img2 = load_img(image_path, target_size = img_size) # load image and resize\n",
    "            imgPIL = Image.open(image_path)\n",
    "            imgPIL = imgPIL.resize((img_width, img_height))\n",
    "            # imgPIL.show(\"haha\")\n",
    "            imgPIL = imgPIL.filter(ImageFilter.GaussianBlur(1))\n",
    "            # imgPIL.show(\"FU\")\n",
    "            img_array = img_to_array(imgPIL) # convert image to array\n",
    "            img_array /= 255.0 # normalizing to scale from 0 to 1\n",
    "            X_train.append(img_array) # original image\n",
    "print(len(list_damaged))\n",
    "\n",
    "print(len(X_train), len(y_train))\n",
    "        \n",
    "        #Mark GT images, if any defect is on them\n",
    "    # elif \"GT\" not in img:\n",
    "    #     img2 = load_img(os.path.join(path,img), target_size = img_size) # load image and resize\n",
    "    #     img_array = img_to_array(img2) # convert image to array\n",
    "    #     img_array /= 255.0 # normalizing to scale from 0 to 1\n",
    "    #     X_train.append(img_array) # original image\n",
    "\n",
    "for img_name in list_damaged:\n",
    "    img_name = img_name[:5] + \".png\"\n",
    "    # img = load_img(os.path.join(path,img_name), target_size = img_size) # load image and resize\n",
    "    imgPIL = Image.open(os.path.join(path,img_name))\n",
    "    imgPIL = imgPIL.resize((img_width, img_height))\n",
    "    # imgPIL.show(\"haha\")\n",
    "    imgPIL = imgPIL.filter(ImageFilter.GaussianBlur(1))\n",
    "    # imgPIL.show(\"FU\")\n",
    "    img_array = img_to_array(imgPIL) # convert image to array\n",
    "    img_array /= 255.0 # normalizing to scale from 0 to 1\n",
    "    rotated_image_array = np.rot90(img_array, k=2)\n",
    "    X_train.append(rotated_image_array) # rotated image\n",
    "    y_train.append(1)\n",
    "\n",
    "\n",
    "print(len(X_train), len(y_train))"
   ]
  },
  {
   "cell_type": "code",
   "execution_count": 5,
   "metadata": {},
   "outputs": [],
   "source": [
    "# # Faulty pictures export\n",
    "\n",
    "# import cv2\n",
    "# stop_index = 5 # 5 or 8 for GT\n",
    "# vis = cv2.imread(os.path.join(path,list_damaged[0][:stop_index] + \".png\"))\n",
    "# vis = cv2.resize(vis, (231,636), interpolation = cv2.INTER_LINEAR)\n",
    "\n",
    "# for i in range(1, 8):\n",
    "#     img = cv2.imread(os.path.join(path,list_damaged[i][:stop_index] + \".png\"))\n",
    "#     stretch_near = cv2.resize(img, (231,636), interpolation = cv2.INTER_LINEAR)\n",
    "#     vis = np.concatenate((vis, stretch_near), axis=1)\n",
    "\n",
    "# vis1 = cv2.imread(os.path.join(path,list_damaged[8][:stop_index] + \".png\"))\n",
    "# vis1 = cv2.resize(vis1, (231,636), interpolation = cv2.INTER_LINEAR)\n",
    "\n",
    "# for i in range(9, 16):\n",
    "#     img = cv2.imread(os.path.join(path,list_damaged[i][:stop_index] + \".png\"))\n",
    "#     stretch_near = cv2.resize(img, (231,636), interpolation = cv2.INTER_LINEAR)\n",
    "#     vis1 = np.concatenate((vis1, stretch_near), axis=1)\n",
    "# # cv2.imshow('Horizontal', vis)\n",
    "\n",
    "# visAll = np.concatenate((vis, vis1), axis=0)\n",
    "\n",
    "# cv2.imwrite('out.png', visAll)"
   ]
  },
  {
   "cell_type": "code",
   "execution_count": 6,
   "metadata": {},
   "outputs": [],
   "source": [
    "# Create TEST DATA \n",
    "\n",
    "#Create path to folder\n",
    "path = data_test\n",
    "\n",
    "#For-loop to go through all the contents in the folder\n",
    "for img in os.listdir(path):\n",
    "    #Distinguishing between Groundtruth pictures and Actual pictures\n",
    "    \n",
    "    if \"GT\" in img:\n",
    "        img_array = cv2.imread(os.path.join(path,img))\n",
    "        #If the GT Image is Black, no damage is detected\n",
    "        if np.all(img_array == 0):\n",
    "            y_test.append(0)\n",
    "        else:\n",
    "            y_test.append(1)\n",
    "        #Mark GT images, if any defect is on them\n",
    "    elif \"GT\" not in img:\n",
    "        # img2 = load_img(os.path.join(path,img), target_size = img_size) # load image and resize\n",
    "        imgPIL = Image.open(os.path.join(path,img))\n",
    "        imgPIL = imgPIL.resize((img_width, img_height))\n",
    "        # imgPIL.show(\"haha\")\n",
    "        imgPIL = imgPIL.filter(ImageFilter.GaussianBlur(1))\n",
    "        # imgPIL.show(\"FU\")\n",
    "        img_array = img_to_array(imgPIL) # convert image to array\n",
    "        img_array /= 255.0 # normalizing to scale from 0 to 1\n",
    "        X_test.append(img_array)"
   ]
  },
  {
   "cell_type": "code",
   "execution_count": 7,
   "metadata": {},
   "outputs": [
    {
     "name": "stdout",
     "output_type": "stream",
     "text": [
      "(2579, 636, 229, 3)\n",
      "(2579,)\n",
      "(1004, 636, 229, 3)\n",
      "(1004,)\n"
     ]
    }
   ],
   "source": [
    "X_train = np.array(X_train) \n",
    "X_test = np.array(X_test) \n",
    "y_train = np.array(y_train) \n",
    "y_test = np.array(y_test) \n",
    "\n",
    "print(X_train.shape)\n",
    "print(y_train.shape)\n",
    "print(X_test.shape)\n",
    "print(y_test.shape)"
   ]
  },
  {
   "cell_type": "code",
   "execution_count": 8,
   "metadata": {},
   "outputs": [
    {
     "name": "stdout",
     "output_type": "stream",
     "text": [
      "{0: 2085, 1: 494}\n",
      "Percentage of faulty images in all train data: 19.15471112834432  %\n"
     ]
    }
   ],
   "source": [
    "# Faulty vs non-faulty images\n",
    "unique, counts = np.unique(y_train, return_counts=True)\n",
    "pos = counts[1]\n",
    "neg = counts[0]\n",
    "print(dict(zip(unique, counts)))\n",
    "print(\"Percentage of faulty images in all train data:\", counts[1]/len(y_train)*100, \" %\")"
   ]
  },
  {
   "cell_type": "code",
   "execution_count": 9,
   "metadata": {},
   "outputs": [
    {
     "name": "stdout",
     "output_type": "stream",
     "text": [
      "x_train shape (1805, 636, 229, 3)\n",
      "x_val shape (774, 636, 229, 3)\n",
      "y_train shape (1805,)\n",
      "y_val shape (774,)\n"
     ]
    }
   ],
   "source": [
    "# Train - Test split\n",
    "\n",
    "from sklearn.model_selection import train_test_split\n",
    "X_train, X_val, y_train, y_val = train_test_split(X_train, y_train, test_size = 0.3, random_state = 4)\n",
    "print(\"x_train shape\",X_train.shape)\n",
    "print(\"x_val shape\",X_val.shape)\n",
    "print(\"y_train shape\",y_train.shape)\n",
    "print(\"y_val shape\",y_val.shape)\n"
   ]
  },
  {
   "cell_type": "code",
   "execution_count": 10,
   "metadata": {},
   "outputs": [
    {
     "name": "stdout",
     "output_type": "stream",
     "text": [
      "{0: 1447, 1: 358}\n",
      "Percentage of faulty images in train data: 19.833795013850416  %\n",
      "{0: 638, 1: 136}\n",
      "Percentage of faulty images in test data: 17.571059431524546  %\n"
     ]
    }
   ],
   "source": [
    "unique, counts = np.unique(y_train, return_counts=True)\n",
    "\n",
    "print(dict(zip(unique, counts)))\n",
    "print(\"Percentage of faulty images in train data:\", counts[1]/len(y_train)*100, \" %\")\n",
    "\n",
    "unique, counts = np.unique(y_val, return_counts=True)\n",
    "\n",
    "print(dict(zip(unique, counts)))\n",
    "print(\"Percentage of faulty images in test data:\", counts[1]/len(y_val)*100, \" %\")"
   ]
  },
  {
   "cell_type": "code",
   "execution_count": 11,
   "metadata": {},
   "outputs": [],
   "source": [
    "from sklearn.metrics import confusion_matrix\n",
    "#import itertools\n",
    "\n",
    "# from keras.utils import to_categorical # convert to one-hot-encoding\n",
    "from keras.models import Sequential\n",
    "from keras.layers import Dense, Dropout, Flatten, Conv2D, MaxPool2D\n",
    "from keras import layers\n",
    "from keras.optimizers import RMSprop,Adam\n",
    "#from keras.preprocessing.image import ImageDataGenerator\n",
    "#from keras.callbacks import ReduceLROnPlateau\n",
    "\n",
    "\n",
    "initial_bias = np.log([pos/neg])\n",
    "# print(initial_bias)\n",
    "\n",
    "output_bias = tf.keras.initializers.Constant(initial_bias)\n",
    "\n",
    "\n",
    "model = Sequential()\n",
    "\n",
    "model.add(Conv2D(filters = 32, kernel_size = (5,5),padding = 'Same', \n",
    "                 activation ='relu', input_shape = (img_height,img_width,3)))\n",
    "\n",
    "model.add(MaxPool2D(pool_size=(2,2)))\n",
    "model.add(Dropout(0.25))\n",
    "# model.add(Conv2D(filters = 64, kernel_size = (5, 5),padding = 'Same', \n",
    "#                  activation ='relu'))\n",
    "model.add(Conv2D(filters = 64, kernel_size = (5, 5),padding = 'Same', \n",
    "                 activation ='relu'))\n",
    "model.add(MaxPool2D(pool_size=(2,2)))\n",
    "model.add(Dropout(0.25))\n",
    "\n",
    "model.add(Conv2D(filters = 128, kernel_size = (5, 5),padding = 'Same', \n",
    "                 activation ='relu'))\n",
    "model.add(MaxPool2D(pool_size=(2,2)))\n",
    "model.add(Dropout(0.25))\n",
    "\n",
    "model.add(Conv2D(filters = 256, kernel_size = (5, 5),padding = 'Same', \n",
    "                 activation ='relu'))\n",
    "model.add(MaxPool2D(pool_size=(2,2)))\n",
    "\n",
    "# fully connected\n",
    "model.add(Flatten())\n",
    "model.add(Dense(128, activation = \"relu\"))\n",
    "model.add(Dropout(0.2))\n",
    "model.add(Dense(16, activation = \"relu\"))\n",
    "\n",
    "model.add(Dense(1, activation = \"sigmoid\", bias_initializer=output_bias))\n",
    "\n",
    "\n"
   ]
  },
  {
   "cell_type": "code",
   "execution_count": 12,
   "metadata": {},
   "outputs": [],
   "source": [
    "# Define the optimizer\n",
    "# In neural networks, an optimizer is an algorithm used to adjust the weights and biases \n",
    "# of the network during training in order to minimize the loss function and improve the accuracy of the model.\n",
    "\n",
    "optimizer = Adam(learning_rate=0.001) # , beta_1=0.9, beta_2=0.999"
   ]
  },
  {
   "cell_type": "code",
   "execution_count": 13,
   "metadata": {},
   "outputs": [],
   "source": [
    "# from keras import backend as K\n",
    "\n",
    "# def weighted_binary_crossentropy(y_true, y_pred):\n",
    "#     # Define class weights\n",
    "#     class_weights = tf.constant([60.0, 40.0])  # adjust according to your dataset\n",
    "\n",
    "#     # Convert predictions to logits\n",
    "#     epsilon = tf.convert_to_tensor(K.epsilon(), y_pred.dtype.base_dtype)\n",
    "#     y_pred = tf.clip_by_value(y_pred, epsilon, 1 - epsilon)\n",
    "#     y_pred = tf.math.log(y_pred / (1 - y_pred))\n",
    "\n",
    "#     # Calculate weighted binary cross-entropy\n",
    "#     weighted_losses = tf.nn.weighted_cross_entropy_with_logits(logits=y_pred, labels=y_true, pos_weight=class_weights)\n",
    "    \n",
    "#     # Return mean loss\n",
    "#     return tf.reduce_mean(weighted_losses, axis=-1)\n",
    "\n",
    "# # Compile your model using the custom loss function\n",
    "# model.compile(optimizer='adam', loss=weighted_binary_crossentropy, metrics=['accuracy'])\n"
   ]
  },
  {
   "cell_type": "code",
   "execution_count": 18,
   "metadata": {},
   "outputs": [
    {
     "name": "stdout",
     "output_type": "stream",
     "text": [
      "Model: \"sequential\"\n",
      "_________________________________________________________________\n",
      " Layer (type)                Output Shape              Param #   \n",
      "=================================================================\n",
      " conv2d (Conv2D)             (None, 636, 229, 32)      2432      \n",
      "                                                                 \n",
      " max_pooling2d (MaxPooling2D  (None, 318, 114, 32)     0         \n",
      " )                                                               \n",
      "                                                                 \n",
      " dropout (Dropout)           (None, 318, 114, 32)      0         \n",
      "                                                                 \n",
      " conv2d_1 (Conv2D)           (None, 318, 114, 64)      51264     \n",
      "                                                                 \n",
      " max_pooling2d_1 (MaxPooling  (None, 159, 57, 64)      0         \n",
      " 2D)                                                             \n",
      "                                                                 \n",
      " dropout_1 (Dropout)         (None, 159, 57, 64)       0         \n",
      "                                                                 \n",
      " conv2d_2 (Conv2D)           (None, 159, 57, 128)      204928    \n",
      "                                                                 \n",
      " max_pooling2d_2 (MaxPooling  (None, 79, 28, 128)      0         \n",
      " 2D)                                                             \n",
      "                                                                 \n",
      " dropout_2 (Dropout)         (None, 79, 28, 128)       0         \n",
      "                                                                 \n",
      " conv2d_3 (Conv2D)           (None, 79, 28, 256)       819456    \n",
      "                                                                 \n",
      " max_pooling2d_3 (MaxPooling  (None, 39, 14, 256)      0         \n",
      " 2D)                                                             \n",
      "                                                                 \n",
      " flatten (Flatten)           (None, 139776)            0         \n",
      "                                                                 \n",
      " dense (Dense)               (None, 128)               17891456  \n"
     ]
    },
    {
     "name": "stdout",
     "output_type": "stream",
     "text": [
      "                                                                 \n",
      " dropout_3 (Dropout)         (None, 128)               0         \n",
      "                                                                 \n",
      " dense_1 (Dense)             (None, 16)                2064      \n",
      "                                                                 \n",
      " dense_2 (Dense)             (None, 1)                 17        \n",
      "                                                                 \n",
      "=================================================================\n",
      "Total params: 18,971,617\n",
      "Trainable params: 18,971,617\n",
      "Non-trainable params: 0\n",
      "_________________________________________________________________\n"
     ]
    }
   ],
   "source": [
    "# model.compile(optimizer = optimizer , loss = \"binary_crossentropy\", metrics=[\"accuracy\"])\n",
    "\n",
    "import tensorflow_addons as tfa\n",
    "# model.compile(optimizer = optimizer , loss = tfa.losses.SigmoidFocalCrossEntropy(), metrics=[\"accuracy\"])\n",
    "model.compile(optimizer = optimizer , loss = \"binary_focal_crossentropy\", metrics=[\"accuracy\"])\n",
    "\n",
    "model.summary()"
   ]
  },
  {
   "cell_type": "code",
   "execution_count": 19,
   "metadata": {},
   "outputs": [],
   "source": [
    "epochs = 100  \n",
    "batch_size = 250"
   ]
  },
  {
   "cell_type": "code",
   "execution_count": 20,
   "metadata": {},
   "outputs": [],
   "source": [
    "from keras.callbacks import EarlyStopping\n",
    "early_stopping = EarlyStopping(monitor='val_loss', mode='min', verbose=1, patience=15, restore_best_weights=True)"
   ]
  },
  {
   "cell_type": "code",
   "execution_count": 21,
   "metadata": {},
   "outputs": [
    {
     "name": "stdout",
     "output_type": "stream",
     "text": [
      "Epoch 1/100\n",
      "7/7 [==============================] - 9s 1s/step - loss: 0.1755 - accuracy: 0.7474 - val_loss: 0.1812 - val_accuracy: 0.8243\n",
      "Epoch 2/100\n",
      "7/7 [==============================] - 8s 1s/step - loss: 0.1563 - accuracy: 0.7972 - val_loss: 0.1188 - val_accuracy: 0.8243\n",
      "Epoch 3/100\n",
      "7/7 [==============================] - 7s 1s/step - loss: 0.1293 - accuracy: 0.8006 - val_loss: 0.1266 - val_accuracy: 0.8243\n",
      "Epoch 4/100\n",
      "7/7 [==============================] - 7s 1s/step - loss: 0.1256 - accuracy: 0.8066 - val_loss: 0.1247 - val_accuracy: 0.8243\n",
      "Epoch 5/100\n",
      "7/7 [==============================] - 7s 1s/step - loss: 0.1227 - accuracy: 0.8061 - val_loss: 0.1262 - val_accuracy: 0.8243\n",
      "Epoch 6/100\n",
      "7/7 [==============================] - 8s 1s/step - loss: 0.1196 - accuracy: 0.8227 - val_loss: 0.1185 - val_accuracy: 0.8243\n",
      "Epoch 7/100\n",
      "7/7 [==============================] - 8s 1s/step - loss: 0.1140 - accuracy: 0.8294 - val_loss: 0.0985 - val_accuracy: 0.8295\n",
      "Epoch 8/100\n",
      "7/7 [==============================] - 8s 1s/step - loss: 0.1136 - accuracy: 0.8521 - val_loss: 0.1045 - val_accuracy: 0.8243\n",
      "Epoch 9/100\n",
      "7/7 [==============================] - 8s 1s/step - loss: 0.1029 - accuracy: 0.8681 - val_loss: 0.0874 - val_accuracy: 0.8953\n",
      "Epoch 10/100\n",
      "7/7 [==============================] - 8s 1s/step - loss: 0.0990 - accuracy: 0.8886 - val_loss: 0.0865 - val_accuracy: 0.8979\n",
      "Epoch 11/100\n",
      "7/7 [==============================] - 8s 1s/step - loss: 0.0939 - accuracy: 0.8931 - val_loss: 0.0927 - val_accuracy: 0.8566\n",
      "Epoch 12/100\n",
      "7/7 [==============================] - 8s 1s/step - loss: 0.0933 - accuracy: 0.8859 - val_loss: 0.0963 - val_accuracy: 0.8450\n",
      "Epoch 13/100\n",
      "7/7 [==============================] - 8s 1s/step - loss: 0.1048 - accuracy: 0.8587 - val_loss: 0.1187 - val_accuracy: 0.8243\n",
      "Epoch 14/100\n",
      "7/7 [==============================] - 7s 1s/step - loss: 0.1193 - accuracy: 0.8288 - val_loss: 0.1092 - val_accuracy: 0.8243\n",
      "Epoch 15/100\n",
      "7/7 [==============================] - 7s 1s/step - loss: 0.1142 - accuracy: 0.8349 - val_loss: 0.0903 - val_accuracy: 0.9289\n",
      "Epoch 16/100\n",
      "7/7 [==============================] - 7s 1s/step - loss: 0.1035 - accuracy: 0.8720 - val_loss: 0.0977 - val_accuracy: 0.8902\n",
      "Epoch 17/100\n",
      "7/7 [==============================] - 7s 1s/step - loss: 0.0998 - accuracy: 0.8753 - val_loss: 0.0974 - val_accuracy: 0.9264\n",
      "Epoch 18/100\n",
      "7/7 [==============================] - 8s 1s/step - loss: 0.0942 - accuracy: 0.8886 - val_loss: 0.0943 - val_accuracy: 0.9276\n",
      "Epoch 19/100\n",
      "7/7 [==============================] - 8s 1s/step - loss: 0.0925 - accuracy: 0.8958 - val_loss: 0.0910 - val_accuracy: 0.9289\n",
      "Epoch 20/100\n",
      "7/7 [==============================] - 8s 1s/step - loss: 0.0868 - accuracy: 0.9053 - val_loss: 0.0793 - val_accuracy: 0.9264\n",
      "Epoch 21/100\n",
      "7/7 [==============================] - 8s 1s/step - loss: 0.0795 - accuracy: 0.9147 - val_loss: 0.0784 - val_accuracy: 0.9264\n",
      "Epoch 22/100\n",
      "7/7 [==============================] - 7s 1s/step - loss: 0.0774 - accuracy: 0.9191 - val_loss: 0.0788 - val_accuracy: 0.9341\n",
      "Epoch 23/100\n",
      "7/7 [==============================] - 8s 1s/step - loss: 0.0690 - accuracy: 0.9307 - val_loss: 0.0616 - val_accuracy: 0.9289\n",
      "Epoch 24/100\n",
      "7/7 [==============================] - 7s 1s/step - loss: 0.0819 - accuracy: 0.8986 - val_loss: 0.0903 - val_accuracy: 0.8540\n",
      "Epoch 25/100\n",
      "7/7 [==============================] - 8s 1s/step - loss: 0.0894 - accuracy: 0.8936 - val_loss: 0.0800 - val_accuracy: 0.8721\n",
      "Epoch 26/100\n",
      "7/7 [==============================] - 8s 1s/step - loss: 3.2668 - accuracy: 0.7568 - val_loss: 0.1196 - val_accuracy: 0.8243\n",
      "Epoch 27/100\n",
      "7/7 [==============================] - 7s 1s/step - loss: 0.1441 - accuracy: 0.8028 - val_loss: 0.1307 - val_accuracy: 0.8243\n",
      "Epoch 28/100\n",
      "7/7 [==============================] - 8s 1s/step - loss: 0.1273 - accuracy: 0.8083 - val_loss: 0.1214 - val_accuracy: 0.8243\n",
      "Epoch 29/100\n",
      "7/7 [==============================] - 7s 1s/step - loss: 0.1225 - accuracy: 0.8144 - val_loss: 0.1246 - val_accuracy: 0.8243\n",
      "Epoch 30/100\n",
      "7/7 [==============================] - 8s 1s/step - loss: 0.1254 - accuracy: 0.8061 - val_loss: 0.1030 - val_accuracy: 0.8256\n",
      "Epoch 31/100\n",
      "7/7 [==============================] - 8s 1s/step - loss: 0.1209 - accuracy: 0.8327 - val_loss: 0.1030 - val_accuracy: 0.8269\n",
      "Epoch 32/100\n",
      "7/7 [==============================] - 8s 1s/step - loss: 0.1148 - accuracy: 0.8488 - val_loss: 0.0999 - val_accuracy: 0.8307\n",
      "Epoch 33/100\n",
      "7/7 [==============================] - 8s 1s/step - loss: 0.1122 - accuracy: 0.8432 - val_loss: 0.1067 - val_accuracy: 0.8295\n",
      "Epoch 34/100\n",
      "7/7 [==============================] - 8s 1s/step - loss: 0.1026 - accuracy: 0.8659 - val_loss: 0.0958 - val_accuracy: 0.8346\n",
      "Epoch 35/100\n",
      "7/7 [==============================] - 8s 1s/step - loss: 0.1009 - accuracy: 0.8776 - val_loss: 0.0841 - val_accuracy: 0.9044\n",
      "Epoch 36/100\n",
      "7/7 [==============================] - 8s 1s/step - loss: 0.0979 - accuracy: 0.8814 - val_loss: 0.0843 - val_accuracy: 0.8979\n",
      "Epoch 37/100\n",
      "7/7 [==============================] - 8s 1s/step - loss: 0.0963 - accuracy: 0.8809 - val_loss: 0.0842 - val_accuracy: 0.8915\n",
      "Epoch 38/100\n",
      "7/7 [==============================] - ETA: 0s - loss: 0.0937 - accuracy: 0.8842Restoring model weights from the end of the best epoch: 23.\n",
      "7/7 [==============================] - 8s 1s/step - loss: 0.0937 - accuracy: 0.8842 - val_loss: 0.0799 - val_accuracy: 0.9251\n",
      "Epoch 38: early stopping\n"
     ]
    }
   ],
   "source": [
    "# Lets fit the model\n",
    "\n",
    "history = model.fit(X_train, \n",
    "                    y_train, \n",
    "                    epochs = epochs, \n",
    "                    validation_data = (X_val, y_val), \n",
    "                    steps_per_epoch=X_train.shape[0] // batch_size, \n",
    "                    callbacks=[early_stopping]) "
   ]
  },
  {
   "cell_type": "code",
   "execution_count": 22,
   "metadata": {},
   "outputs": [
    {
     "name": "stdout",
     "output_type": "stream",
     "text": [
      "4/4 [==============================] - 3s 357ms/step - loss: 0.0616 - accuracy: 0.9289\n",
      "Accuracy of the model is -->  92.89405941963196 %\n",
      "4/4 [==============================] - 1s 176ms/step - loss: 0.0616 - accuracy: 0.9289\n",
      "Loss of the model is -->  0.06159188598394394\n"
     ]
    }
   ],
   "source": [
    "print(\"Accuracy of the model is --> \" , model.evaluate(X_val, y_val, batch_size=batch_size)[1]*100 , \"%\")\n",
    "print(\"Loss of the model is --> \" , model.evaluate(X_val, y_val, batch_size=batch_size)[0])"
   ]
  },
  {
   "cell_type": "code",
   "execution_count": 23,
   "metadata": {},
   "outputs": [
    {
     "data": {
      "image/png": "[encoded data removed]",
      "text/plain": [
       "<Figure size 640x480 with 1 Axes>"
      ]
     },
     "metadata": {},
     "output_type": "display_data"
    }
   ],
   "source": [
    "# Model Loss\n",
    "\n",
    "plt.figure()\n",
    "plt.plot(history.history[\"loss\"],label = \"Train Loss\", color = \"black\")\n",
    "plt.plot(history.history[\"val_loss\"],label = \"Validation Loss\", color = \"darkred\", marker = \"+\", linestyle=\"dashed\",markeredgecolor = \"purple\", markeredgewidth = 2)\n",
    "plt.title(\"Model Loss\", color = \"darkred\", size = 13)\n",
    "plt.legend()\n",
    "plt.show()"
   ]
  },
  {
   "cell_type": "code",
   "execution_count": 24,
   "metadata": {},
   "outputs": [
    {
     "data": {
      "image/png": "[encoded data removed]",
      "text/plain": [
       "<Figure size 640x480 with 1 Axes>"
      ]
     },
     "metadata": {},
     "output_type": "display_data"
    }
   ],
   "source": [
    "# Model Accuracy \n",
    "\n",
    "plt.figure()\n",
    "plt.plot(history.history[\"accuracy\"],label = \"Train Accuracy\", color = \"black\")\n",
    "plt.plot(history.history[\"val_accuracy\"],label = \"Validation Accuracy\", color = \"darkred\", marker = \"+\", linestyle=\"dashed\",markeredgecolor = \"purple\", markeredgewidth = 2)\n",
    "plt.title(\"Model Accuracy\", color = \"darkred\", size = 13)\n",
    "plt.legend()\n",
    "plt.show()"
   ]
  },
  {
   "cell_type": "code",
   "execution_count": 25,
   "metadata": {},
   "outputs": [
    {
     "name": "stdout",
     "output_type": "stream",
     "text": [
      "32/32 [==============================] - 2s 47ms/step\n",
      "[[0.18893825]\n",
      " [0.25718188]\n",
      " [0.25044626]\n",
      " ...\n",
      " [0.23165241]\n",
      " [0.24831127]\n",
      " [0.25570545]]\n",
      "{0: 894, 1: 110}\n",
      "0.8904382470119522\n",
      "Test accuracy: 92.23%\n"
     ]
    }
   ],
   "source": [
    "Y_predict_test = model.predict(X_test)\n",
    "print(Y_predict_test)\n",
    "\n",
    "binary_predictions = (Y_predict_test > 0.5).astype(int)\n",
    "\n",
    "accuracy = (binary_predictions.flatten() == y_test).mean()\n",
    "unique, counts = np.unique(y_test, return_counts=True)\n",
    "\n",
    "print(dict(zip(unique, counts)))\n",
    "print(894/len(y_test))\n",
    "\n",
    "print(f\"Test accuracy: {accuracy * 100:.2f}%\")"
   ]
  },
  {
   "cell_type": "markdown",
   "metadata": {},
   "source": [
    "Test accuracy: 89.34 %\n",
    "\n",
    "Test accuracy: 92.13 % (I don't know what changed, only the image size... 636x229)\n",
    "\n",
    "90.74 % with initial bias\n",
    "\n",
    "89.94 % with 1000/500, size image down "
   ]
  },
  {
   "cell_type": "code",
   "execution_count": 26,
   "metadata": {},
   "outputs": [
    {
     "name": "stdout",
     "output_type": "stream",
     "text": [
      "25/25 [==============================] - 1s 37ms/step\n"
     ]
    },
    {
     "data": {
      "image/png": "[encoded data removed]",
      "text/plain": [
       "<Figure size 640x480 with 2 Axes>"
      ]
     },
     "metadata": {},
     "output_type": "display_data"
    },
    {
     "name": "stdout",
     "output_type": "stream",
     "text": [
      "Accuracy: 92.89%\n",
      "Precision: 0.9551\n",
      "Recall: 0.6250\n",
      "F1 Score: 0.7556\n"
     ]
    }
   ],
   "source": [
    "from sklearn.metrics import confusion_matrix\n",
    "import seaborn as sns\n",
    "import matplotlib.pyplot as plt\n",
    "from sklearn.metrics import accuracy_score, precision_score, recall_score, f1_score\n",
    "\n",
    "# Assuming you have 'test_labels' and 'binary_predictions'\n",
    "# test_labels: True labels for the test set\n",
    "# binary_predictions: Predictions made by the model (0 or 1)\n",
    "\n",
    "Y_pred = model.predict(X_val)\n",
    "Y_pred_bin_list = []\n",
    "for val in Y_pred:\n",
    "    if val > 0.5:\n",
    "        Y_pred_bin_list.append(1)\n",
    "    else:\n",
    "        Y_pred_bin_list.append(0)\n",
    "Y_pred_bin = np.array(Y_pred_bin_list)\n",
    "#print(Y_pred_bin)\n",
    "\n",
    "# Calculate the confusion matrix\n",
    "conf_matrix = confusion_matrix(y_val, Y_pred_bin)\n",
    "\n",
    "# Display the confusion matrix using a heatmap\n",
    "sns.heatmap(conf_matrix, annot=True, fmt='d', cmap='Blues', annot_kws={\"size\": 16})\n",
    "plt.xlabel('Predicted')\n",
    "plt.ylabel('True')\n",
    "plt.title('Confusion Matrix')\n",
    "plt.show()\n",
    "\n",
    "# Additional metrics\n",
    "accuracy = accuracy_score(y_val, Y_pred_bin)\n",
    "precision = precision_score(y_val, Y_pred_bin)\n",
    "recall = recall_score(y_val, Y_pred_bin)\n",
    "f1 = f1_score(y_val, Y_pred_bin)\n",
    "\n",
    "print(f\"Accuracy: {accuracy * 100:.2f}%\")\n",
    "print(f\"Precision: {precision:.4f}\")\n",
    "print(f\"Recall: {recall:.4f}\")\n",
    "print(f\"F1 Score: {f1:.4f}\")"
   ]
  },
  {
   "cell_type": "code",
   "execution_count": 27,
   "metadata": {},
   "outputs": [
    {
     "name": "stdout",
     "output_type": "stream",
     "text": [
      "32/32 [==============================] - 1s 36ms/step\n"
     ]
    },
    {
     "data": {
      "image/png": "[encoded data removed]",
      "text/plain": [
       "<Figure size 640x480 with 2 Axes>"
      ]
     },
     "metadata": {},
     "output_type": "display_data"
    },
    {
     "name": "stdout",
     "output_type": "stream",
     "text": [
      "Accuracy: 92.23%\n",
      "Precision: 0.9211\n",
      "Recall: 0.3182\n",
      "F1 Score: 0.4730\n"
     ]
    }
   ],
   "source": [
    "from sklearn.metrics import confusion_matrix\n",
    "import seaborn as sns\n",
    "import matplotlib.pyplot as plt\n",
    "from sklearn.metrics import accuracy_score, precision_score, recall_score, f1_score\n",
    "\n",
    "# Assuming you have 'test_labels' and 'binary_predictions'\n",
    "# test_labels: True labels for the test set\n",
    "# binary_predictions: Predictions made by the model (0 or 1)\n",
    "\n",
    "Y_pred = model.predict(X_test)\n",
    "Y_pred_bin_list = []\n",
    "for val in Y_pred:\n",
    "    if val > 0.5:\n",
    "        Y_pred_bin_list.append(1)\n",
    "    else:\n",
    "        Y_pred_bin_list.append(0)\n",
    "Y_pred_bin = np.array(Y_pred_bin_list)\n",
    "# print(Y_pred_bin)\n",
    "\n",
    "# Calculate the confusion matrix\n",
    "conf_matrix = confusion_matrix(y_test, Y_pred_bin)\n",
    "\n",
    "# Display the confusion matrix using a heatmap\n",
    "sns.heatmap(conf_matrix, annot=True, fmt='d', cmap='Blues', annot_kws={\"size\": 16})\n",
    "plt.xlabel('Predicted')\n",
    "plt.ylabel('True')\n",
    "plt.title('Confusion Matrix')\n",
    "plt.show()\n",
    "\n",
    "# Additional metrics\n",
    "accuracy = accuracy_score(y_test, Y_pred_bin)\n",
    "precision = precision_score(y_test, Y_pred_bin)\n",
    "recall = recall_score(y_test, Y_pred_bin)\n",
    "f1 = f1_score(y_test, Y_pred_bin)\n",
    "\n",
    "print(f\"Accuracy: {accuracy * 100:.2f}%\")\n",
    "print(f\"Precision: {precision:.4f}\")\n",
    "print(f\"Recall: {recall:.4f}\")\n",
    "print(f\"F1 Score: {f1:.4f}\")"
   ]
  }
 ],
 "metadata": {
  "kernelspec": {
   "display_name": "Python 3",
   "language": "python",
   "name": "python3"
  },
  "language_info": {
   "codemirror_mode": {
    "name": "ipython",
    "version": 3
   },
   "file_extension": ".py",
   "mimetype": "text/x-python",
   "name": "python",
   "nbconvert_exporter": "python",
   "pygments_lexer": "ipython3",
   "version": "3.10.13"
  }
 },
 "nbformat": 4,
 "nbformat_minor": 2
}
