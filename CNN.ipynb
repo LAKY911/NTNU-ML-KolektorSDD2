{
 "cells": [
  {
   "cell_type": "markdown",
   "metadata": {},
   "source": [
    "# Kolektor Surface Defect Detection\n",
    "TMM4128 - Machine Learning for Engineers - Semestral Project\n"
   ]
  },
  {
   "cell_type": "markdown",
   "metadata": {},
   "source": [
    "### Import TensorFlow"
   ]
  },
  {
   "cell_type": "code",
   "execution_count": 1,
   "metadata": {},
   "outputs": [],
   "source": [
    "import numpy as np\n",
    "import seaborn as sns\n",
    "import matplotlib.pyplot as plt\n",
    "import cv2\n",
    "import os\n",
    "# import pandas as pd\n",
    "# import keras\n",
    "from tensorflow.keras.preprocessing.image import load_img, img_to_array\n",
    "from PIL import Image, ImageFilter \n",
    "# import math"
   ]
  },
  {
   "cell_type": "code",
   "execution_count": 2,
   "metadata": {},
   "outputs": [
    {
     "name": "stdout",
     "output_type": "stream",
     "text": [
      "Number of GPUs:  1\n"
     ]
    }
   ],
   "source": [
    "import tensorflow as tf\n",
    "# CUDA check\n",
    "print(\"Number of GPUs: \", len(tf.config.list_physical_devices('GPU')))"
   ]
  },
  {
   "cell_type": "code",
   "execution_count": 3,
   "metadata": {},
   "outputs": [
    {
     "name": "stdout",
     "output_type": "stream",
     "text": [
      "c:\\Users\\lukasvi\\Documents\\GitHub\\NTNU-ML-KolektorSDD2\n"
     ]
    }
   ],
   "source": [
    "Categories = [\"Undamaged\", \"Damaged\"]\n",
    "data_train = \"./datasets/KolektorSDD2/train/\"\n",
    "data_test = \"./datasets/KolektorSDD2/test/\"\n",
    "current_directory = os.getcwd()\n",
    "print(current_directory)\n",
    "\n",
    "flat_train = []\n",
    "flat_train_GT = []\n",
    "flat_test = []\n",
    "flat_test_GT = []\n",
    "damage_label_train = []\n",
    "damage_label_test = []\n",
    "img_name = []\n",
    "X_train = []\n",
    "X_test = []\n",
    "y_train = []\n",
    "y_test = []\n",
    "\n",
    "# Average image size\n",
    "img_height =  194 #194 # 636 # 388\n",
    "img_width = 70 # 70 # 229 # 140\n",
    "img_size = (img_height, img_width)"
   ]
  },
  {
   "cell_type": "code",
   "execution_count": 4,
   "metadata": {},
   "outputs": [
    {
     "name": "stdout",
     "output_type": "stream",
     "text": [
      "247\n",
      "2332 2332\n",
      "2332 2332\n"
     ]
    }
   ],
   "source": [
    "# Create TRAIN DATA\n",
    "\n",
    "#Create path to folder\n",
    "path = data_train\n",
    "\n",
    "list_damaged = []\n",
    "negative_max = 3000\n",
    "negative_counter = 0 \n",
    "\n",
    "Gauss = 0 # Gaussian filtering\n",
    "Gauss_radius = 1\n",
    "\n",
    "rotate_images = 0 # rotate defected images as up-sampling\n",
    "\n",
    "#For-loop to go through all the contents in the folder\n",
    "for img in os.listdir(path):\n",
    "    #Distinguishing between Groundtruth pictures and Actual pictures\n",
    "    image_path_GT = os.path.join(path,img)\n",
    "    image_path = os.path.join(path,img[:5]+\".png\")\n",
    "\n",
    "    if \"GT\" in img:\n",
    "        img_array = cv2.imread(image_path_GT)\n",
    "        #If the GT Image is Black, no damage is detected\n",
    "        if np.all(img_array == 0): # OK\n",
    "            if negative_counter < negative_max:\n",
    "                y_train.append(0)\n",
    "                # img2 = load_img(image_path, target_size = img_size) # load image and resize\n",
    "                imgPIL = Image.open(image_path)\n",
    "                imgPIL = imgPIL.resize((img_width, img_height))\n",
    "                # imgPIL.show(\"haha\")\n",
    "                if Gauss:\n",
    "                    imgPIL = imgPIL.filter(ImageFilter.GaussianBlur(Gauss_radius))\n",
    "                # imgPIL.show(\"FU\")\n",
    "                \n",
    "                img_array = img_to_array(imgPIL) # convert image to array\n",
    "                img_array /= 255.0 # normalizing to scale from 0 to 1\n",
    "                X_train.append(img_array) # original image\n",
    "                negative_counter += 1\n",
    "\n",
    "        else:                   # NOK\n",
    "            y_train.append(1) # Original image\n",
    "            list_damaged.append(img)\n",
    "            # img2 = load_img(image_path, target_size = img_size) # load image and resize\n",
    "            imgPIL = Image.open(image_path)\n",
    "            imgPIL = imgPIL.resize((img_width, img_height))\n",
    "            # imgPIL.show(\"haha\")\n",
    "            if Gauss:\n",
    "                imgPIL = imgPIL.filter(ImageFilter.GaussianBlur(Gauss_radius))\n",
    "            # imgPIL.show(\"FU\")\n",
    "            img_array = img_to_array(imgPIL) # convert image to array\n",
    "            img_array /= 255.0 # normalizing to scale from 0 to 1\n",
    "            X_train.append(img_array) # original image\n",
    "print(len(list_damaged))\n",
    "\n",
    "print(len(X_train), len(y_train))\n",
    "        \n",
    "        #Mark GT images, if any defect is on them\n",
    "    # elif \"GT\" not in img:\n",
    "    #     img2 = load_img(os.path.join(path,img), target_size = img_size) # load image and resize\n",
    "    #     img_array = img_to_array(img2) # convert image to array\n",
    "    #     img_array /= 255.0 # normalizing to scale from 0 to 1\n",
    "    #     X_train.append(img_array) # original image\n",
    "\n",
    "if rotate_images:\n",
    "    for img_name in list_damaged:\n",
    "        img_name = img_name[:5] + \".png\"\n",
    "        # img = load_img(os.path.join(path,img_name), target_size = img_size) # load image and resize\n",
    "        imgPIL = Image.open(os.path.join(path,img_name))\n",
    "        imgPIL = imgPIL.resize((img_width, img_height))\n",
    "        if Gauss:\n",
    "            imgPIL = imgPIL.filter(ImageFilter.GaussianBlur(Gauss_radius))\n",
    "        img_array = img_to_array(imgPIL) # convert image to array\n",
    "        img_array /= 255.0 # normalizing to scale from 0 to 1\n",
    "        rotated_image_array = np.rot90(img_array, k=2)\n",
    "        X_train.append(rotated_image_array) # rotated image\n",
    "        y_train.append(1)\n",
    "\n",
    "\n",
    "print(len(X_train), len(y_train))"
   ]
  },
  {
   "cell_type": "code",
   "execution_count": 5,
   "metadata": {},
   "outputs": [],
   "source": [
    "# # Faulty pictures export\n",
    "\n",
    "# import cv2\n",
    "# stop_index = 5 # 5 or 8 for GT\n",
    "# vis = cv2.imread(os.path.join(path,list_damaged[0][:stop_index] + \".png\"))\n",
    "# vis = cv2.resize(vis, (231,636), interpolation = cv2.INTER_LINEAR)\n",
    "\n",
    "# for i in range(1, 8):\n",
    "#     img = cv2.imread(os.path.join(path,list_damaged[i][:stop_index] + \".png\"))\n",
    "#     stretch_near = cv2.resize(img, (231,636), interpolation = cv2.INTER_LINEAR)\n",
    "#     vis = np.concatenate((vis, stretch_near), axis=1)\n",
    "\n",
    "# vis1 = cv2.imread(os.path.join(path,list_damaged[8][:stop_index] + \".png\"))\n",
    "# vis1 = cv2.resize(vis1, (231,636), interpolation = cv2.INTER_LINEAR)\n",
    "\n",
    "# for i in range(9, 16):\n",
    "#     img = cv2.imread(os.path.join(path,list_damaged[i][:stop_index] + \".png\"))\n",
    "#     stretch_near = cv2.resize(img, (231,636), interpolation = cv2.INTER_LINEAR)\n",
    "#     vis1 = np.concatenate((vis1, stretch_near), axis=1)\n",
    "# # cv2.imshow('Horizontal', vis)\n",
    "\n",
    "# visAll = np.concatenate((vis, vis1), axis=0)\n",
    "\n",
    "# cv2.imwrite('out.png', visAll)"
   ]
  },
  {
   "cell_type": "code",
   "execution_count": 6,
   "metadata": {},
   "outputs": [],
   "source": [
    "# Create TEST DATA \n",
    "\n",
    "#Create path to folder\n",
    "path = data_test\n",
    "\n",
    "#For-loop to go through all the contents in the folder\n",
    "for img in os.listdir(path):\n",
    "    #Distinguishing between Groundtruth pictures and Actual pictures\n",
    "    \n",
    "    if \"GT\" in img:\n",
    "        img_array = cv2.imread(os.path.join(path,img))\n",
    "        #If the GT Image is Black, no damage is detected\n",
    "        if np.all(img_array == 0):\n",
    "            y_test.append(0)\n",
    "        else:\n",
    "            y_test.append(1)\n",
    "        #Mark GT images, if any defect is on them\n",
    "    elif \"GT\" not in img:\n",
    "        imgPIL = Image.open(os.path.join(path,img))\n",
    "        imgPIL = imgPIL.resize((img_width, img_height))\n",
    "        # imgPIL = imgPIL.filter(ImageFilter.GaussianBlur(Gauss_radius))\n",
    "        img_array = img_to_array(imgPIL) # convert image to array\n",
    "        img_array /= 255.0 # normalizing to scale from 0 to 1\n",
    "        X_test.append(img_array)"
   ]
  },
  {
   "cell_type": "code",
   "execution_count": 7,
   "metadata": {},
   "outputs": [
    {
     "name": "stdout",
     "output_type": "stream",
     "text": [
      "(2332, 194, 70, 3)\n",
      "(2332,)\n",
      "(1004, 194, 70, 3)\n",
      "(1004,)\n"
     ]
    }
   ],
   "source": [
    "X_train = np.array(X_train) \n",
    "X_test = np.array(X_test) \n",
    "y_train = np.array(y_train) \n",
    "y_test = np.array(y_test) \n",
    "\n",
    "print(X_train.shape)\n",
    "print(y_train.shape)\n",
    "print(X_test.shape)\n",
    "print(y_test.shape)"
   ]
  },
  {
   "cell_type": "code",
   "execution_count": 8,
   "metadata": {},
   "outputs": [
    {
     "name": "stdout",
     "output_type": "stream",
     "text": [
      "{0: 2085, 1: 247}\n",
      "Percentage of faulty images in all train data: 10.591766723842195  %\n"
     ]
    }
   ],
   "source": [
    "# Faulty vs non-faulty images\n",
    "unique, counts = np.unique(y_train, return_counts=True)\n",
    "pos = counts[1]\n",
    "neg = counts[0]\n",
    "print(dict(zip(unique, counts)))\n",
    "print(\"Percentage of faulty images in all train data:\", counts[1]/len(y_train)*100, \" %\")"
   ]
  },
  {
   "cell_type": "code",
   "execution_count": 9,
   "metadata": {},
   "outputs": [
    {
     "name": "stdout",
     "output_type": "stream",
     "text": [
      "x_train shape (1632, 194, 70, 3)\n",
      "x_val shape (700, 194, 70, 3)\n",
      "y_train shape (1632,)\n",
      "y_val shape (700,)\n"
     ]
    }
   ],
   "source": [
    "# Train - Test split\n",
    "\n",
    "from sklearn.model_selection import train_test_split\n",
    "X_train, X_val, y_train, y_val = train_test_split(X_train, y_train, test_size = 0.3, random_state = 4)\n",
    "print(\"x_train shape\",X_train.shape)\n",
    "print(\"x_val shape\",X_val.shape)\n",
    "print(\"y_train shape\",y_train.shape)\n",
    "print(\"y_val shape\",y_val.shape)\n"
   ]
  },
  {
   "cell_type": "code",
   "execution_count": 10,
   "metadata": {},
   "outputs": [
    {
     "name": "stdout",
     "output_type": "stream",
     "text": [
      "{0: 1443, 1: 189}\n",
      "Percentage of faulty images in train data: 11.580882352941178  %\n",
      "{0: 642, 1: 58}\n",
      "Percentage of faulty images in test data: 8.285714285714285  %\n"
     ]
    }
   ],
   "source": [
    "unique, counts = np.unique(y_train, return_counts=True)\n",
    "\n",
    "print(dict(zip(unique, counts)))\n",
    "print(\"Percentage of faulty images in train data:\", counts[1]/len(y_train)*100, \" %\")\n",
    "\n",
    "unique, counts = np.unique(y_val, return_counts=True)\n",
    "\n",
    "print(dict(zip(unique, counts)))\n",
    "print(\"Percentage of faulty images in test data:\", counts[1]/len(y_val)*100, \" %\")"
   ]
  },
  {
   "cell_type": "code",
   "execution_count": 11,
   "metadata": {},
   "outputs": [],
   "source": [
    "from sklearn.metrics import confusion_matrix\n",
    "#import itertools\n",
    "\n",
    "# from keras.utils import to_categorical # convert to one-hot-encoding\n",
    "from keras.models import Sequential\n",
    "from keras.layers import Dense, Dropout, Flatten, Conv2D, MaxPool2D\n",
    "from keras import layers\n",
    "from keras.optimizers import RMSprop,Adam\n",
    "#from keras.preprocessing.image import ImageDataGenerator\n",
    "#from keras.callbacks import ReduceLROnPlateau\n",
    "\n",
    "\n",
    "initial_bias = np.log([pos/neg])\n",
    "output_bias = tf.keras.initializers.Constant(initial_bias)\n",
    "\n",
    "\n",
    "model = Sequential()\n",
    "\n",
    "model.add(Conv2D(filters = 32, kernel_size = (5,5),padding = 'Same', \n",
    "                 activation ='relu', input_shape = (img_height,img_width,3)))\n",
    "\n",
    "model.add(MaxPool2D(pool_size=(2,2)))\n",
    "model.add(Dropout(0.25))\n",
    "# model.add(Conv2D(filters = 64, kernel_size = (5, 5),padding = 'Same', \n",
    "#                  activation ='relu'))\n",
    "model.add(Conv2D(filters = 64, kernel_size = (5, 5),padding = 'Same', \n",
    "                 activation ='relu'))\n",
    "model.add(MaxPool2D(pool_size=(2,2)))\n",
    "model.add(Dropout(0.25))\n",
    "\n",
    "model.add(Conv2D(filters = 128, kernel_size = (5, 5),padding = 'Same', \n",
    "                 activation ='relu'))\n",
    "model.add(MaxPool2D(pool_size=(2,2)))\n",
    "\n",
    "# model.add(Dropout(0.25))\n",
    "\n",
    "# model.add(Conv2D(filters = 256, kernel_size = (5, 5),padding = 'Same', \n",
    "#                  activation ='relu'))\n",
    "# model.add(MaxPool2D(pool_size=(2,2)))\n",
    "\n",
    "# fully connected\n",
    "model.add(Flatten())\n",
    "model.add(Dense(128, activation = \"relu\"))\n",
    "model.add(Dropout(0.2))\n",
    "model.add(Dense(16, activation = \"relu\"))\n",
    "\n",
    "model.add(Dense(1, activation = \"sigmoid\", bias_initializer=output_bias))\n",
    "\n",
    "\n"
   ]
  },
  {
   "cell_type": "code",
   "execution_count": 12,
   "metadata": {},
   "outputs": [],
   "source": [
    "# Define the optimizer\n",
    "# In neural networks, an optimizer is an algorithm used to adjust the weights and biases \n",
    "# of the network during training in order to minimize the loss function and improve the accuracy of the model.\n",
    "\n",
    "optimizer = Adam(learning_rate=0.001) # , beta_1=0.9, beta_2=0.999"
   ]
  },
  {
   "cell_type": "code",
   "execution_count": 13,
   "metadata": {},
   "outputs": [],
   "source": [
    "# from keras import backend as K\n",
    "\n",
    "# def weighted_binary_crossentropy(y_true, y_pred):\n",
    "#     # Define class weights\n",
    "#     class_weights = tf.constant([60.0, 40.0])  # adjust according to your dataset\n",
    "\n",
    "#     # Convert predictions to logits\n",
    "#     epsilon = tf.convert_to_tensor(K.epsilon(), y_pred.dtype.base_dtype)\n",
    "#     y_pred = tf.clip_by_value(y_pred, epsilon, 1 - epsilon)\n",
    "#     y_pred = tf.math.log(y_pred / (1 - y_pred))\n",
    "\n",
    "#     # Calculate weighted binary cross-entropy\n",
    "#     weighted_losses = tf.nn.weighted_cross_entropy_with_logits(logits=y_pred, labels=y_true, pos_weight=class_weights)\n",
    "    \n",
    "#     # Return mean loss\n",
    "#     return tf.reduce_mean(weighted_losses, axis=-1)\n",
    "\n",
    "# # Compile your model using the custom loss function\n",
    "# model.compile(optimizer='adam', loss=weighted_binary_crossentropy, metrics=['accuracy'])\n"
   ]
  },
  {
   "cell_type": "code",
   "execution_count": 14,
   "metadata": {},
   "outputs": [
    {
     "name": "stdout",
     "output_type": "stream",
     "text": [
      "Model: \"sequential\"\n",
      "_________________________________________________________________\n",
      " Layer (type)                Output Shape              Param #   \n",
      "=================================================================\n",
      " conv2d (Conv2D)             (None, 194, 70, 32)       2432      \n",
      "                                                                 \n",
      " max_pooling2d (MaxPooling2D  (None, 97, 35, 32)       0         \n",
      " )                                                               \n",
      "                                                                 \n",
      " dropout (Dropout)           (None, 97, 35, 32)        0         \n",
      "                                                                 \n",
      " conv2d_1 (Conv2D)           (None, 97, 35, 64)        51264     \n",
      "                                                                 \n",
      " max_pooling2d_1 (MaxPooling  (None, 48, 17, 64)       0         \n",
      " 2D)                                                             \n",
      "                                                                 \n",
      " dropout_1 (Dropout)         (None, 48, 17, 64)        0         \n",
      "                                                                 \n",
      " conv2d_2 (Conv2D)           (None, 48, 17, 128)       204928    \n",
      "                                                                 \n",
      " max_pooling2d_2 (MaxPooling  (None, 24, 8, 128)       0         \n",
      " 2D)                                                             \n",
      "                                                                 \n",
      " flatten (Flatten)           (None, 24576)             0         \n",
      "                                                                 \n",
      " dense (Dense)               (None, 128)               3145856   \n",
      "                                                                 \n",
      " dropout_2 (Dropout)         (None, 128)               0         \n",
      "                                                                 \n",
      " dense_1 (Dense)             (None, 16)                2064      \n",
      "                                                                 \n",
      " dense_2 (Dense)             (None, 1)                 17        \n",
      "                                                                 \n",
      "=================================================================\n",
      "Total params: 3,406,561\n",
      "Trainable params: 3,406,561\n",
      "Non-trainable params: 0\n",
      "_________________________________________________________________\n"
     ]
    },
    {
     "name": "stderr",
     "output_type": "stream",
     "text": [
      "c:\\Users\\lukasvi\\AppData\\Local\\miniconda3\\lib\\site-packages\\tensorflow_addons\\utils\\tfa_eol_msg.py:23: UserWarning: \n",
      "\n",
      "TensorFlow Addons (TFA) has ended development and introduction of new features.\n",
      "TFA has entered a minimal maintenance and release mode until a planned end of life in May 2024.\n",
      "Please modify downstream libraries to take dependencies from other repositories in our TensorFlow community (e.g. Keras, Keras-CV, and Keras-NLP). \n",
      "\n",
      "For more information see: https://github.com/tensorflow/addons/issues/2807 \n",
      "\n",
      "  warnings.warn(\n",
      "c:\\Users\\lukasvi\\AppData\\Local\\miniconda3\\lib\\site-packages\\tensorflow_addons\\utils\\ensure_tf_install.py:53: UserWarning: Tensorflow Addons supports using Python ops for all Tensorflow versions above or equal to 2.12.0 and strictly below 2.15.0 (nightly versions are not supported). \n",
      " The versions of TensorFlow you are currently using is 2.10.1 and is not supported. \n",
      "Some things might work, some things might not.\n",
      "If you were to encounter a bug, do not file an issue.\n",
      "If you want to make sure you're using a tested and supported configuration, either change the TensorFlow version or the TensorFlow Addons's version. \n",
      "You can find the compatibility matrix in TensorFlow Addon's readme:\n",
      "https://github.com/tensorflow/addons\n",
      "  warnings.warn(\n"
     ]
    }
   ],
   "source": [
    "model.compile(optimizer = optimizer , loss = \"binary_crossentropy\", metrics=[\"accuracy\"])\n",
    "\n",
    "import tensorflow_addons as tfa\n",
    "# model.compile(optimizer = optimizer , loss = tfa.losses.SigmoidFocalCrossEntropy(), metrics=[\"accuracy\"])\n",
    "# model.compile(optimizer = optimizer , loss = \"binary_focal_crossentropy\", metrics=[\"accuracy\"])\n",
    "\n",
    "model.summary()"
   ]
  },
  {
   "cell_type": "code",
   "execution_count": 15,
   "metadata": {},
   "outputs": [],
   "source": [
    "epochs = 100  \n",
    "batch_size = 250"
   ]
  },
  {
   "cell_type": "code",
   "execution_count": 16,
   "metadata": {},
   "outputs": [],
   "source": [
    "from keras.callbacks import EarlyStopping\n",
    "early_stopping = EarlyStopping(monitor='val_loss', mode='min', verbose=1, patience=15, restore_best_weights=True)"
   ]
  },
  {
   "cell_type": "code",
   "execution_count": 17,
   "metadata": {},
   "outputs": [
    {
     "name": "stdout",
     "output_type": "stream",
     "text": [
      "Epoch 1/100\n",
      "6/6 [==============================] - 7s 261ms/step - loss: 0.3629 - accuracy: 0.8842 - val_loss: 0.2883 - val_accuracy: 0.9171\n",
      "Epoch 2/100\n",
      "6/6 [==============================] - 1s 130ms/step - loss: 0.3595 - accuracy: 0.8842 - val_loss: 0.2888 - val_accuracy: 0.9171\n",
      "Epoch 3/100\n",
      "6/6 [==============================] - 1s 128ms/step - loss: 0.3586 - accuracy: 0.8842 - val_loss: 0.2896 - val_accuracy: 0.9171\n",
      "Epoch 4/100\n",
      "6/6 [==============================] - 1s 132ms/step - loss: 0.3592 - accuracy: 0.8842 - val_loss: 0.2898 - val_accuracy: 0.9171\n",
      "Epoch 5/100\n",
      "6/6 [==============================] - 1s 126ms/step - loss: 0.3587 - accuracy: 0.8842 - val_loss: 0.2895 - val_accuracy: 0.9171\n",
      "Epoch 6/100\n",
      "6/6 [==============================] - 1s 129ms/step - loss: 0.3588 - accuracy: 0.8842 - val_loss: 0.2891 - val_accuracy: 0.9171\n",
      "Epoch 7/100\n",
      "6/6 [==============================] - 1s 127ms/step - loss: 0.3578 - accuracy: 0.8842 - val_loss: 0.2913 - val_accuracy: 0.9171\n",
      "Epoch 8/100\n",
      "6/6 [==============================] - 1s 131ms/step - loss: 0.3595 - accuracy: 0.8842 - val_loss: 0.2887 - val_accuracy: 0.9171\n",
      "Epoch 9/100\n",
      "6/6 [==============================] - 1s 129ms/step - loss: 0.3584 - accuracy: 0.8842 - val_loss: 0.2887 - val_accuracy: 0.9171\n",
      "Epoch 10/100\n",
      "6/6 [==============================] - 1s 129ms/step - loss: 0.3581 - accuracy: 0.8842 - val_loss: 0.2888 - val_accuracy: 0.9171\n",
      "Epoch 11/100\n",
      "6/6 [==============================] - 1s 134ms/step - loss: 0.3576 - accuracy: 0.8842 - val_loss: 0.2877 - val_accuracy: 0.9171\n",
      "Epoch 12/100\n",
      "6/6 [==============================] - 1s 132ms/step - loss: 0.3498 - accuracy: 0.8842 - val_loss: 0.2660 - val_accuracy: 0.9186\n",
      "Epoch 13/100\n",
      "6/6 [==============================] - 1s 126ms/step - loss: 0.3616 - accuracy: 0.8848 - val_loss: 0.2878 - val_accuracy: 0.9171\n",
      "Epoch 14/100\n",
      "6/6 [==============================] - 1s 125ms/step - loss: 0.3564 - accuracy: 0.8842 - val_loss: 0.2830 - val_accuracy: 0.9171\n",
      "Epoch 15/100\n",
      "6/6 [==============================] - 1s 128ms/step - loss: 0.3487 - accuracy: 0.8848 - val_loss: 0.2682 - val_accuracy: 0.9214\n",
      "Epoch 16/100\n",
      "6/6 [==============================] - 1s 134ms/step - loss: 0.3401 - accuracy: 0.8885 - val_loss: 0.2520 - val_accuracy: 0.9300\n",
      "Epoch 17/100\n",
      "6/6 [==============================] - 1s 133ms/step - loss: 0.3186 - accuracy: 0.9001 - val_loss: 0.2424 - val_accuracy: 0.9343\n",
      "Epoch 18/100\n",
      "6/6 [==============================] - 1s 132ms/step - loss: 0.3056 - accuracy: 0.9044 - val_loss: 0.2227 - val_accuracy: 0.9414\n",
      "Epoch 19/100\n",
      "6/6 [==============================] - 1s 127ms/step - loss: 0.2922 - accuracy: 0.9099 - val_loss: 0.2263 - val_accuracy: 0.9429\n",
      "Epoch 20/100\n",
      "6/6 [==============================] - 1s 129ms/step - loss: 0.2905 - accuracy: 0.9118 - val_loss: 0.2276 - val_accuracy: 0.9400\n",
      "Epoch 21/100\n",
      "6/6 [==============================] - 1s 134ms/step - loss: 0.2731 - accuracy: 0.9197 - val_loss: 0.2017 - val_accuracy: 0.9500\n",
      "Epoch 22/100\n",
      "6/6 [==============================] - 1s 128ms/step - loss: 0.3019 - accuracy: 0.9062 - val_loss: 0.2417 - val_accuracy: 0.9314\n",
      "Epoch 23/100\n",
      "6/6 [==============================] - 1s 130ms/step - loss: 0.2962 - accuracy: 0.9099 - val_loss: 0.2338 - val_accuracy: 0.9343\n",
      "Epoch 24/100\n",
      "6/6 [==============================] - 1s 125ms/step - loss: 0.2886 - accuracy: 0.9118 - val_loss: 0.2165 - val_accuracy: 0.9429\n",
      "Epoch 25/100\n",
      "6/6 [==============================] - 1s 133ms/step - loss: 0.2712 - accuracy: 0.9179 - val_loss: 0.1954 - val_accuracy: 0.9500\n",
      "Epoch 26/100\n",
      "6/6 [==============================] - 1s 130ms/step - loss: 0.2488 - accuracy: 0.9259 - val_loss: 0.1934 - val_accuracy: 0.9500\n",
      "Epoch 27/100\n",
      "6/6 [==============================] - 1s 129ms/step - loss: 0.2261 - accuracy: 0.9357 - val_loss: 0.1947 - val_accuracy: 0.9514\n",
      "Epoch 28/100\n",
      "6/6 [==============================] - 1s 126ms/step - loss: 0.2283 - accuracy: 0.9326 - val_loss: 0.2142 - val_accuracy: 0.9514\n",
      "Epoch 29/100\n",
      "6/6 [==============================] - 1s 129ms/step - loss: 0.2598 - accuracy: 0.9240 - val_loss: 0.2040 - val_accuracy: 0.9471\n",
      "Epoch 30/100\n",
      "6/6 [==============================] - 1s 130ms/step - loss: 0.2589 - accuracy: 0.9234 - val_loss: 0.1867 - val_accuracy: 0.9529\n",
      "Epoch 31/100\n",
      "6/6 [==============================] - 1s 132ms/step - loss: 0.2173 - accuracy: 0.9369 - val_loss: 0.1598 - val_accuracy: 0.9571\n",
      "Epoch 32/100\n",
      "6/6 [==============================] - 1s 129ms/step - loss: 0.1958 - accuracy: 0.9430 - val_loss: 0.1763 - val_accuracy: 0.9557\n",
      "Epoch 33/100\n",
      "6/6 [==============================] - 1s 128ms/step - loss: 0.2298 - accuracy: 0.9326 - val_loss: 0.1732 - val_accuracy: 0.9514\n",
      "Epoch 34/100\n",
      "6/6 [==============================] - 1s 129ms/step - loss: 0.2128 - accuracy: 0.9406 - val_loss: 0.1597 - val_accuracy: 0.9629\n",
      "Epoch 35/100\n",
      "6/6 [==============================] - 1s 132ms/step - loss: 0.1796 - accuracy: 0.9491 - val_loss: 0.1515 - val_accuracy: 0.9643\n",
      "Epoch 36/100\n",
      "6/6 [==============================] - 1s 129ms/step - loss: 0.1766 - accuracy: 0.9510 - val_loss: 0.1570 - val_accuracy: 0.9629\n",
      "Epoch 37/100\n",
      "6/6 [==============================] - 1s 124ms/step - loss: 0.1645 - accuracy: 0.9559 - val_loss: 0.1528 - val_accuracy: 0.9643\n",
      "Epoch 38/100\n",
      "6/6 [==============================] - 1s 128ms/step - loss: 0.1613 - accuracy: 0.9547 - val_loss: 0.1522 - val_accuracy: 0.9657\n",
      "Epoch 39/100\n",
      "6/6 [==============================] - 1s 135ms/step - loss: 0.1540 - accuracy: 0.9577 - val_loss: 0.1449 - val_accuracy: 0.9671\n",
      "Epoch 40/100\n",
      "6/6 [==============================] - 1s 129ms/step - loss: 0.1545 - accuracy: 0.9547 - val_loss: 0.1498 - val_accuracy: 0.9643\n",
      "Epoch 41/100\n",
      "6/6 [==============================] - 1s 128ms/step - loss: 0.1432 - accuracy: 0.9553 - val_loss: 0.1455 - val_accuracy: 0.9671\n",
      "Epoch 42/100\n",
      "6/6 [==============================] - 1s 129ms/step - loss: 0.1412 - accuracy: 0.9620 - val_loss: 0.1454 - val_accuracy: 0.9643\n",
      "Epoch 43/100\n",
      "6/6 [==============================] - 1s 127ms/step - loss: 0.1356 - accuracy: 0.9638 - val_loss: 0.1496 - val_accuracy: 0.9657\n",
      "Epoch 44/100\n",
      "6/6 [==============================] - 1s 131ms/step - loss: 0.1366 - accuracy: 0.9614 - val_loss: 0.1487 - val_accuracy: 0.9657\n",
      "Epoch 45/100\n",
      "6/6 [==============================] - 1s 128ms/step - loss: 0.1350 - accuracy: 0.9638 - val_loss: 0.1482 - val_accuracy: 0.9643\n",
      "Epoch 46/100\n",
      "6/6 [==============================] - 1s 131ms/step - loss: 0.1301 - accuracy: 0.9688 - val_loss: 0.1450 - val_accuracy: 0.9643\n",
      "Epoch 47/100\n",
      "6/6 [==============================] - 1s 120ms/step - loss: 0.1275 - accuracy: 0.9663 - val_loss: 0.1494 - val_accuracy: 0.9614\n",
      "Epoch 48/100\n",
      "6/6 [==============================] - 1s 132ms/step - loss: 0.1238 - accuracy: 0.9651 - val_loss: 0.1503 - val_accuracy: 0.9629\n",
      "Epoch 49/100\n",
      "6/6 [==============================] - 1s 129ms/step - loss: 0.1223 - accuracy: 0.9675 - val_loss: 0.1521 - val_accuracy: 0.9614\n",
      "Epoch 50/100\n",
      "6/6 [==============================] - 1s 128ms/step - loss: 0.1189 - accuracy: 0.9663 - val_loss: 0.1550 - val_accuracy: 0.9586\n",
      "Epoch 51/100\n",
      "6/6 [==============================] - 1s 130ms/step - loss: 0.1282 - accuracy: 0.9651 - val_loss: 0.1490 - val_accuracy: 0.9629\n",
      "Epoch 52/100\n",
      "6/6 [==============================] - 1s 129ms/step - loss: 0.1136 - accuracy: 0.9688 - val_loss: 0.1495 - val_accuracy: 0.9629\n",
      "Epoch 53/100\n",
      "6/6 [==============================] - 1s 127ms/step - loss: 0.1179 - accuracy: 0.9694 - val_loss: 0.1527 - val_accuracy: 0.9614\n",
      "Epoch 54/100\n",
      "6/6 [==============================] - ETA: 0s - loss: 0.1185 - accuracy: 0.9638Restoring model weights from the end of the best epoch: 39.\n",
      "6/6 [==============================] - 1s 129ms/step - loss: 0.1185 - accuracy: 0.9638 - val_loss: 0.1606 - val_accuracy: 0.9571\n",
      "Epoch 54: early stopping\n"
     ]
    }
   ],
   "source": [
    "# Lets fit the model\n",
    "\n",
    "history = model.fit(X_train, \n",
    "                    y_train, \n",
    "                    epochs = epochs, \n",
    "                    validation_data = (X_val, y_val), \n",
    "                    steps_per_epoch=X_train.shape[0] // batch_size, \n",
    "                    callbacks=[early_stopping]) "
   ]
  },
  {
   "cell_type": "code",
   "execution_count": 18,
   "metadata": {},
   "outputs": [
    {
     "name": "stdout",
     "output_type": "stream",
     "text": [
      "3/3 [==============================] - 1s 238ms/step - loss: 0.1449 - accuracy: 0.9671\n",
      "Accuracy of the model is -->  96.71428799629211 %\n",
      "3/3 [==============================] - 0s 28ms/step - loss: 0.1449 - accuracy: 0.9671\n",
      "Loss of the model is -->  0.14491592347621918\n"
     ]
    }
   ],
   "source": [
    "print(\"Accuracy of the model is --> \" , model.evaluate(X_val, y_val, batch_size=batch_size)[1]*100 , \"%\")\n",
    "print(\"Loss of the model is --> \" , model.evaluate(X_val, y_val, batch_size=batch_size)[0])"
   ]
  },
  {
   "cell_type": "code",
   "execution_count": 19,
   "metadata": {},
   "outputs": [
    {
     "data": {
      "image/png": "[encoded data removed]",
      "text/plain": [
       "<Figure size 640x480 with 1 Axes>"
      ]
     },
     "metadata": {},
     "output_type": "display_data"
    }
   ],
   "source": [
    "# Model Loss\n",
    "\n",
    "plt.figure()\n",
    "plt.plot(history.history[\"loss\"],label = \"Train Loss\", color = \"black\")\n",
    "plt.plot(history.history[\"val_loss\"],label = \"Validation Loss\", color = \"darkred\", marker = \"+\", linestyle=\"dashed\",markeredgecolor = \"purple\", markeredgewidth = 2)\n",
    "plt.title(\"Model Loss\", color = \"darkred\", size = 13)\n",
    "plt.legend()\n",
    "plt.show()"
   ]
  },
  {
   "cell_type": "code",
   "execution_count": 20,
   "metadata": {},
   "outputs": [
    {
     "data": {
      "image/png": "[encoded data removed]",
      "text/plain": [
       "<Figure size 640x480 with 1 Axes>"
      ]
     },
     "metadata": {},
     "output_type": "display_data"
    }
   ],
   "source": [
    "# Model Accuracy \n",
    "\n",
    "plt.figure()\n",
    "plt.plot(history.history[\"accuracy\"],label = \"Train Accuracy\", color = \"black\")\n",
    "plt.plot(history.history[\"val_accuracy\"],label = \"Validation Accuracy\", color = \"darkred\", marker = \"+\", linestyle=\"dashed\",markeredgecolor = \"purple\", markeredgewidth = 2)\n",
    "plt.title(\"Model Accuracy\", color = \"darkred\", size = 13)\n",
    "plt.legend()\n",
    "plt.show()"
   ]
  },
  {
   "cell_type": "code",
   "execution_count": 21,
   "metadata": {},
   "outputs": [
    {
     "name": "stdout",
     "output_type": "stream",
     "text": [
      "32/32 [==============================] - 0s 8ms/step\n",
      "[[0.0337145 ]\n",
      " [0.03019268]\n",
      " [0.02773564]\n",
      " ...\n",
      " [0.0357673 ]\n",
      " [0.02195408]\n",
      " [0.02333822]]\n",
      "{0: 894, 1: 110}\n",
      "0.8904382470119522\n",
      "Test accuracy: 94.62%\n"
     ]
    }
   ],
   "source": [
    "Y_predict_test = model.predict(X_test)\n",
    "print(Y_predict_test)\n",
    "\n",
    "binary_predictions = (Y_predict_test > 0.5).astype(int)\n",
    "\n",
    "accuracy = (binary_predictions.flatten() == y_test).mean()\n",
    "unique, counts = np.unique(y_test, return_counts=True)\n",
    "\n",
    "print(dict(zip(unique, counts)))\n",
    "print(894/len(y_test))\n",
    "\n",
    "print(f\"Test accuracy: {accuracy * 100:.2f}%\")"
   ]
  },
  {
   "cell_type": "markdown",
   "metadata": {},
   "source": [
    "Test accuracy: 89.34 %\n",
    "\n",
    "Test accuracy: 92.13 % (I don't know what changed, only the image size... 636x229)\n",
    "\n",
    "90.74 % with initial bias\n",
    "\n",
    "89.94 % with 1000/500, size image down "
   ]
  },
  {
   "cell_type": "code",
   "execution_count": 22,
   "metadata": {},
   "outputs": [
    {
     "name": "stdout",
     "output_type": "stream",
     "text": [
      "22/22 [==============================] - 0s 6ms/step\n"
     ]
    },
    {
     "data": {
      "image/png": "[encoded data removed]",
      "text/plain": [
       "<Figure size 640x480 with 2 Axes>"
      ]
     },
     "metadata": {},
     "output_type": "display_data"
    },
    {
     "name": "stdout",
     "output_type": "stream",
     "text": [
      "Accuracy: 96.71%\n",
      "Precision: 0.9268\n",
      "Recall: 0.6552\n",
      "F1 Score: 0.7677\n"
     ]
    }
   ],
   "source": [
    "from sklearn.metrics import confusion_matrix\n",
    "import seaborn as sns\n",
    "import matplotlib.pyplot as plt\n",
    "from sklearn.metrics import accuracy_score, precision_score, recall_score, f1_score\n",
    "\n",
    "# Assuming you have 'test_labels' and 'binary_predictions'\n",
    "# test_labels: True labels for the test set\n",
    "# binary_predictions: Predictions made by the model (0 or 1)\n",
    "\n",
    "Y_pred = model.predict(X_val)\n",
    "Y_pred_bin_list = []\n",
    "for val in Y_pred:\n",
    "    if val > 0.5:\n",
    "        Y_pred_bin_list.append(1)\n",
    "    else:\n",
    "        Y_pred_bin_list.append(0)\n",
    "Y_pred_bin = np.array(Y_pred_bin_list)\n",
    "#print(Y_pred_bin)\n",
    "\n",
    "# Calculate the confusion matrix\n",
    "conf_matrix = confusion_matrix(y_val, Y_pred_bin)\n",
    "\n",
    "# Display the confusion matrix using a heatmap\n",
    "sns.heatmap(conf_matrix, annot=True, fmt='d', cmap='Blues', annot_kws={\"size\": 16})\n",
    "plt.xlabel('Predicted')\n",
    "plt.ylabel('True')\n",
    "plt.title('Confusion Matrix')\n",
    "plt.show()\n",
    "\n",
    "# Additional metrics\n",
    "accuracy = accuracy_score(y_val, Y_pred_bin)\n",
    "precision = precision_score(y_val, Y_pred_bin)\n",
    "recall = recall_score(y_val, Y_pred_bin)\n",
    "f1 = f1_score(y_val, Y_pred_bin)\n",
    "\n",
    "print(f\"Accuracy: {accuracy * 100:.2f}%\")\n",
    "print(f\"Precision: {precision:.4f}\")\n",
    "print(f\"Recall: {recall:.4f}\")\n",
    "print(f\"F1 Score: {f1:.4f}\")"
   ]
  },
  {
   "cell_type": "code",
   "execution_count": 23,
   "metadata": {},
   "outputs": [
    {
     "name": "stdout",
     "output_type": "stream",
     "text": [
      "32/32 [==============================] - 0s 7ms/step\n"
     ]
    },
    {
     "data": {
      "image/png": "[encoded data removed]",
      "text/plain": [
       "<Figure size 640x480 with 2 Axes>"
      ]
     },
     "metadata": {},
     "output_type": "display_data"
    },
    {
     "name": "stdout",
     "output_type": "stream",
     "text": [
      "Accuracy: 94.62%\n",
      "Precision: 0.8590\n",
      "Recall: 0.6091\n",
      "F1 Score: 0.7128\n"
     ]
    }
   ],
   "source": [
    "from sklearn.metrics import confusion_matrix\n",
    "import seaborn as sns\n",
    "import matplotlib.pyplot as plt\n",
    "from sklearn.metrics import accuracy_score, precision_score, recall_score, f1_score\n",
    "\n",
    "# Assuming you have 'test_labels' and 'binary_predictions'\n",
    "# test_labels: True labels for the test set\n",
    "# binary_predictions: Predictions made by the model (0 or 1)\n",
    "\n",
    "Y_pred = model.predict(X_test)\n",
    "Y_pred_bin_list = []\n",
    "for val in Y_pred:\n",
    "    if val > 0.5:\n",
    "        Y_pred_bin_list.append(1)\n",
    "    else:\n",
    "        Y_pred_bin_list.append(0)\n",
    "Y_pred_bin = np.array(Y_pred_bin_list)\n",
    "# print(Y_pred_bin)\n",
    "\n",
    "# Calculate the confusion matrix\n",
    "conf_matrix = confusion_matrix(y_test, Y_pred_bin)\n",
    "\n",
    "# Display the confusion matrix using a heatmap\n",
    "sns.heatmap(conf_matrix, annot=True, fmt='d', cmap='Blues', annot_kws={\"size\": 16})\n",
    "plt.xlabel('Predicted')\n",
    "plt.ylabel('True')\n",
    "plt.title('Confusion Matrix')\n",
    "plt.show()\n",
    "\n",
    "# Additional metrics\n",
    "accuracy = accuracy_score(y_test, Y_pred_bin)\n",
    "precision = precision_score(y_test, Y_pred_bin)\n",
    "recall = recall_score(y_test, Y_pred_bin)\n",
    "f1 = f1_score(y_test, Y_pred_bin)\n",
    "\n",
    "print(f\"Accuracy: {accuracy * 100:.2f}%\")\n",
    "print(f\"Precision: {precision:.4f}\")\n",
    "print(f\"Recall: {recall:.4f}\")\n",
    "print(f\"F1 Score: {f1:.4f}\")"
   ]
  }
 ],
 "metadata": {
  "kernelspec": {
   "display_name": "Python 3",
   "language": "python",
   "name": "python3"
  },
  "language_info": {
   "codemirror_mode": {
    "name": "ipython",
    "version": 3
   },
   "file_extension": ".py",
   "mimetype": "text/x-python",
   "name": "python",
   "nbconvert_exporter": "python",
   "pygments_lexer": "ipython3",
   "version": "3.10.13"
  }
 },
 "nbformat": 4,
 "nbformat_minor": 2
}
